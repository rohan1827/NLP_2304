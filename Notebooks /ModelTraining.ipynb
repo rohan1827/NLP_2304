{
 "cells": [
  {
   "cell_type": "code",
   "execution_count": 31,
   "id": "0ff3f5f7",
   "metadata": {},
   "outputs": [],
   "source": [
    "import pandas as pd\n",
    "import numpy as np\n",
    "\n",
    "from sklearn.model_selection import train_test_split\n",
    "from sklearn.pipeline import Pipeline\n",
    "\n",
    "from sklearn.feature_extraction.text import CountVectorizer\n",
    "from sklearn.feature_extraction.text import TfidfTransformer\n",
    "from sklearn.feature_extraction.text import TfidfVectorizer\n",
    "\n",
    "\n",
    "from sklearn.linear_model import LogisticRegression\n",
    "from sklearn.naive_bayes import MultinomialNB\n",
    "from sklearn import svm\n",
    "from sklearn.tree import DecisionTreeClassifier\n",
    "from sklearn.ensemble import RandomForestClassifier\n",
    "from sklearn.ensemble import GradientBoostingClassifier\n",
    "from sklearn.neighbors import KNeighborsClassifier\n",
    "\n",
    "\n",
    "\n",
    "from sklearn.metrics import accuracy_score\n",
    "from sklearn.metrics import classification_report\n",
    "\n",
    "import warnings\n",
    "warnings.filterwarnings('ignore')"
   ]
  },
  {
   "cell_type": "markdown",
   "id": "02011b14",
   "metadata": {},
   "source": [
    "# Load Preprocessed Data"
   ]
  },
  {
   "cell_type": "code",
   "execution_count": 2,
   "id": "9f9c16d2",
   "metadata": {},
   "outputs": [],
   "source": [
    "df=pd.read_csv('../DATASET/PreprocessedData.csv')"
   ]
  },
  {
   "cell_type": "code",
   "execution_count": 3,
   "id": "8d709474",
   "metadata": {},
   "outputs": [
    {
     "data": {
      "text/html": [
       "<div>\n",
       "<style scoped>\n",
       "    .dataframe tbody tr th:only-of-type {\n",
       "        vertical-align: middle;\n",
       "    }\n",
       "\n",
       "    .dataframe tbody tr th {\n",
       "        vertical-align: top;\n",
       "    }\n",
       "\n",
       "    .dataframe thead th {\n",
       "        text-align: right;\n",
       "    }\n",
       "</style>\n",
       "<table border=\"1\" class=\"dataframe\">\n",
       "  <thead>\n",
       "    <tr style=\"text-align: right;\">\n",
       "      <th></th>\n",
       "      <th>title</th>\n",
       "      <th>Published_on</th>\n",
       "      <th>News_agency</th>\n",
       "      <th>URL</th>\n",
       "      <th>summary</th>\n",
       "      <th>Country</th>\n",
       "      <th>language</th>\n",
       "      <th>tag</th>\n",
       "      <th>Merged</th>\n",
       "    </tr>\n",
       "  </thead>\n",
       "  <tbody>\n",
       "    <tr>\n",
       "      <th>10265</th>\n",
       "      <td>How might Trump convictions impact voters? - CNN</td>\n",
       "      <td>Sat, 17 Feb 2024 15:37:52 GMT</td>\n",
       "      <td>CNN</td>\n",
       "      <td>https://news.google.com/rss/articles/CBMiXWh0d...</td>\n",
       "      <td>How might Trump convictions impact voters?CNN</td>\n",
       "      <td>JP</td>\n",
       "      <td>en</td>\n",
       "      <td>Politics</td>\n",
       "      <td>might trump conviction impact voter might trum...</td>\n",
       "    </tr>\n",
       "    <tr>\n",
       "      <th>9434</th>\n",
       "      <td>Magnificent 7 profits now exceed almost every ...</td>\n",
       "      <td>Mon, 19 Feb 2024 10:51:54 GMT</td>\n",
       "      <td>CNBC</td>\n",
       "      <td>https://news.google.com/rss/articles/CBMifGh0d...</td>\n",
       "      <td>Magnificent 7 profits now exceed almost every ...</td>\n",
       "      <td>JP</td>\n",
       "      <td>en</td>\n",
       "      <td>World</td>\n",
       "      <td>magnificent profit exceed almost every country...</td>\n",
       "    </tr>\n",
       "    <tr>\n",
       "      <th>14464</th>\n",
       "      <td>Brain-Computer Interface (BCI) Technology: Rev...</td>\n",
       "      <td>Mon, 19 Feb 2024 23:35:14 GMT</td>\n",
       "      <td>MedCity News</td>\n",
       "      <td>https://news.google.com/rss/articles/CBMihAFod...</td>\n",
       "      <td>Brain-Computer Interface (BCI) Technology: Rev...</td>\n",
       "      <td>IN</td>\n",
       "      <td>en</td>\n",
       "      <td>Technology</td>\n",
       "      <td>braincomputer interface technology revolutioni...</td>\n",
       "    </tr>\n",
       "    <tr>\n",
       "      <th>7379</th>\n",
       "      <td>URI to host Princeton scholar to decode techno...</td>\n",
       "      <td>Mon, 19 Feb 2024 18:25:33 GMT</td>\n",
       "      <td>The University of Rhode Island</td>\n",
       "      <td>https://news.google.com/rss/articles/CBMiZ2h0d...</td>\n",
       "      <td>URI to host Princeton scholar to decode techno...</td>\n",
       "      <td>ES</td>\n",
       "      <td>en</td>\n",
       "      <td>Technology</td>\n",
       "      <td>princeton scholar decode technology impact soc...</td>\n",
       "    </tr>\n",
       "    <tr>\n",
       "      <th>6419</th>\n",
       "      <td>Scientists create method to bond hydrogels and...</td>\n",
       "      <td>Mon, 19 Feb 2024 20:00:01 GMT</td>\n",
       "      <td>Phys.org</td>\n",
       "      <td>https://news.google.com/rss/articles/CBMiTWh0d...</td>\n",
       "      <td>Scientists create method to bond hydrogels and...</td>\n",
       "      <td>FR</td>\n",
       "      <td>en</td>\n",
       "      <td>Science</td>\n",
       "      <td>scientist create method hydrogel polymeric mat...</td>\n",
       "    </tr>\n",
       "  </tbody>\n",
       "</table>\n",
       "</div>"
      ],
      "text/plain": [
       "                                                   title  \\\n",
       "10265   How might Trump convictions impact voters? - CNN   \n",
       "9434   Magnificent 7 profits now exceed almost every ...   \n",
       "14464  Brain-Computer Interface (BCI) Technology: Rev...   \n",
       "7379   URI to host Princeton scholar to decode techno...   \n",
       "6419   Scientists create method to bond hydrogels and...   \n",
       "\n",
       "                        Published_on                     News_agency  \\\n",
       "10265  Sat, 17 Feb 2024 15:37:52 GMT                             CNN   \n",
       "9434   Mon, 19 Feb 2024 10:51:54 GMT                            CNBC   \n",
       "14464  Mon, 19 Feb 2024 23:35:14 GMT                    MedCity News   \n",
       "7379   Mon, 19 Feb 2024 18:25:33 GMT  The University of Rhode Island   \n",
       "6419   Mon, 19 Feb 2024 20:00:01 GMT                        Phys.org   \n",
       "\n",
       "                                                     URL  \\\n",
       "10265  https://news.google.com/rss/articles/CBMiXWh0d...   \n",
       "9434   https://news.google.com/rss/articles/CBMifGh0d...   \n",
       "14464  https://news.google.com/rss/articles/CBMihAFod...   \n",
       "7379   https://news.google.com/rss/articles/CBMiZ2h0d...   \n",
       "6419   https://news.google.com/rss/articles/CBMiTWh0d...   \n",
       "\n",
       "                                                 summary Country language  \\\n",
       "10265      How might Trump convictions impact voters?CNN      JP       en   \n",
       "9434   Magnificent 7 profits now exceed almost every ...      JP       en   \n",
       "14464  Brain-Computer Interface (BCI) Technology: Rev...      IN       en   \n",
       "7379   URI to host Princeton scholar to decode techno...      ES       en   \n",
       "6419   Scientists create method to bond hydrogels and...      FR       en   \n",
       "\n",
       "              tag                                             Merged  \n",
       "10265    Politics  might trump conviction impact voter might trum...  \n",
       "9434        World  magnificent profit exceed almost every country...  \n",
       "14464  Technology  braincomputer interface technology revolutioni...  \n",
       "7379   Technology  princeton scholar decode technology impact soc...  \n",
       "6419      Science  scientist create method hydrogel polymeric mat...  "
      ]
     },
     "execution_count": 3,
     "metadata": {},
     "output_type": "execute_result"
    }
   ],
   "source": [
    "df.sample(5)"
   ]
  },
  {
   "cell_type": "markdown",
   "id": "f253c805",
   "metadata": {},
   "source": [
    "# Splitting into training and testing data"
   ]
  },
  {
   "cell_type": "code",
   "execution_count": 4,
   "id": "64d4e2dc",
   "metadata": {},
   "outputs": [],
   "source": [
    "X_train,X_test,y_train,y_test = train_test_split(df['Merged'], df.tag, test_size=0.3, random_state=42,stratify=df['tag'])\n"
   ]
  },
  {
   "cell_type": "markdown",
   "id": "0dacdd2e",
   "metadata": {},
   "source": [
    "# Random Forest Classifier"
   ]
  },
  {
   "cell_type": "code",
   "execution_count": 23,
   "id": "d04dd684",
   "metadata": {},
   "outputs": [
    {
     "name": "stdout",
     "output_type": "stream",
     "text": [
      "accuracy: 96.61 \b%\n",
      "Classification Report:\n",
      "\n",
      "                precision    recall  f1-score   support\n",
      "\n",
      "     Business       0.98      0.93      0.95       386\n",
      "    Education       0.97      0.97      0.97       387\n",
      "Entertainment       0.93      0.99      0.96       392\n",
      "  Environment       0.98      0.97      0.98       385\n",
      "      Finance       0.96      0.96      0.96       383\n",
      "       Health       0.99      0.97      0.98       380\n",
      "       Nation       0.96      0.98      0.97       377\n",
      "     Politics       0.96      0.96      0.96       371\n",
      "      Science       0.96      0.97      0.97       381\n",
      "       Sports       0.94      0.96      0.95       384\n",
      "   Technology       0.99      0.96      0.98       381\n",
      "        World       0.97      0.95      0.96       398\n",
      "\n",
      "     accuracy                           0.97      4605\n",
      "    macro avg       0.97      0.97      0.97      4605\n",
      " weighted avg       0.97      0.97      0.97      4605\n",
      "\n"
     ]
    }
   ],
   "source": [
    "# using two different vectorization method \n",
    "rfc = Pipeline([('vect', CountVectorizer()),\n",
    "                 ('tfidf', TfidfTransformer()),\n",
    "                 ('model', RandomForestClassifier(n_estimators=1000,\n",
    "                                                  criterion=\"gini\"))])\n",
    "\n",
    "rfc_model = rfc.fit(X_train, y_train)\n",
    "rfc_pred = rfc_model.predict(X_test)\n",
    "print(\"accuracy:\", round(accuracy_score(y_test, rfc_pred)*100,2), \"\\b%\")\n",
    "print(\"Classification Report:\\n\\n\", classification_report(y_test, rfc_pred))"
   ]
  },
  {
   "cell_type": "code",
   "execution_count": 27,
   "id": "168b9a24",
   "metadata": {},
   "outputs": [
    {
     "name": "stdout",
     "output_type": "stream",
     "text": [
      "accuracy: 96.66 \b%\n",
      "Classification Report:\n",
      "\n",
      "                precision    recall  f1-score   support\n",
      "\n",
      "     Business       0.98      0.94      0.96       386\n",
      "    Education       0.98      0.97      0.98       387\n",
      "Entertainment       0.93      0.99      0.96       392\n",
      "  Environment       0.97      0.97      0.97       385\n",
      "      Finance       0.95      0.97      0.96       383\n",
      "       Health       0.99      0.97      0.98       380\n",
      "       Nation       0.97      0.98      0.98       377\n",
      "     Politics       0.96      0.96      0.96       371\n",
      "      Science       0.97      0.97      0.97       381\n",
      "       Sports       0.94      0.96      0.95       384\n",
      "   Technology       0.99      0.96      0.98       381\n",
      "        World       0.98      0.94      0.96       398\n",
      "\n",
      "     accuracy                           0.97      4605\n",
      "    macro avg       0.97      0.97      0.97      4605\n",
      " weighted avg       0.97      0.97      0.97      4605\n",
      "\n"
     ]
    }
   ],
   "source": [
    "# using countvectorizer only vectorization method \n",
    "rfc_vect = Pipeline([('vect', CountVectorizer()),\n",
    "                 ('model', RandomForestClassifier(n_estimators=1000,\n",
    "                                                  criterion=\"gini\"))])\n",
    "\n",
    "rfc_vect_model = rfc_vect.fit(X_train, y_train)\n",
    "rfc_vect_pred = rfc_vect_model.predict(X_test)\n",
    "print(\"accuracy:\", round(accuracy_score(y_test, rfc_vect_pred)*100,2), \"\\b%\")\n",
    "print(\"Classification Report:\\n\\n\", classification_report(y_test, rfc_vect_pred))"
   ]
  },
  {
   "cell_type": "code",
   "execution_count": 36,
   "id": "7c14e985",
   "metadata": {},
   "outputs": [
    {
     "name": "stdout",
     "output_type": "stream",
     "text": [
      "accuracy: 96.46 \b%\n",
      "Classification Report:\n",
      "\n",
      "                precision    recall  f1-score   support\n",
      "\n",
      "     Business       0.98      0.93      0.95       386\n",
      "    Education       0.97      0.97      0.97       387\n",
      "Entertainment       0.93      0.99      0.96       392\n",
      "  Environment       0.98      0.97      0.98       385\n",
      "      Finance       0.96      0.96      0.96       383\n",
      "       Health       0.99      0.97      0.98       380\n",
      "       Nation       0.97      0.98      0.98       377\n",
      "     Politics       0.95      0.95      0.95       371\n",
      "      Science       0.95      0.97      0.96       381\n",
      "       Sports       0.93      0.96      0.95       384\n",
      "   Technology       0.99      0.96      0.98       381\n",
      "        World       0.97      0.95      0.96       398\n",
      "\n",
      "     accuracy                           0.96      4605\n",
      "    macro avg       0.97      0.96      0.96      4605\n",
      " weighted avg       0.97      0.96      0.96      4605\n",
      "\n"
     ]
    }
   ],
   "source": [
    "# using TFidf vectorization method \n",
    "tfidf_pipeline = Pipeline([\n",
    "    ('tfidf', TfidfVectorizer()),  # TF-IDF vectorizer\n",
    "    ('classifier', RandomForestClassifier(random_state=42))  # Example classifier\n",
    "])\n",
    "\n",
    "rfc_tfidf_model = tfidf_pipeline.fit(X_train, y_train)\n",
    "rfc_tfidf_pred = tfidf_pipeline.predict(X_test)\n",
    "\n",
    "print(\"accuracy:\", round(accuracy_score(y_test, rfc_tfidf_pred)*100,2), \"\\b%\")\n",
    "print(\"Classification Report:\\n\\n\", classification_report(y_test, rfc_tfidf_pred))"
   ]
  },
  {
   "cell_type": "markdown",
   "id": "fed39686",
   "metadata": {},
   "source": [
    "# Naive Bayes"
   ]
  },
  {
   "cell_type": "code",
   "execution_count": 38,
   "id": "3f58ed80",
   "metadata": {},
   "outputs": [
    {
     "name": "stdout",
     "output_type": "stream",
     "text": [
      "Accuracy:  94.22 \b%\n",
      "Classification Report:\n",
      "\n",
      "                precision    recall  f1-score   support\n",
      "\n",
      "     Business       0.92      0.92      0.92       386\n",
      "    Education       0.93      0.93      0.93       387\n",
      "Entertainment       0.97      0.95      0.96       392\n",
      "  Environment       0.94      0.95      0.94       385\n",
      "      Finance       0.93      0.93      0.93       383\n",
      "       Health       0.95      0.96      0.95       380\n",
      "       Nation       0.92      0.97      0.94       377\n",
      "     Politics       0.93      0.93      0.93       371\n",
      "      Science       0.97      0.96      0.96       381\n",
      "       Sports       0.96      0.93      0.94       384\n",
      "   Technology       0.95      0.96      0.95       381\n",
      "        World       0.94      0.92      0.93       398\n",
      "\n",
      "     accuracy                           0.94      4605\n",
      "    macro avg       0.94      0.94      0.94      4605\n",
      " weighted avg       0.94      0.94      0.94      4605\n",
      "\n"
     ]
    }
   ],
   "source": [
    "nb = Pipeline([('vect',CountVectorizer()),\n",
    "                           ('model', MultinomialNB(alpha=1.0,\n",
    "                                       fit_prior=True,\n",
    "                                       class_prior=None))])\n",
    "\n",
    "nb_model = nb.fit(X_train, y_train)\n",
    "\n",
    "nb_pred = nb_model.predict(X_test)\n",
    "\n",
    "print(\"Accuracy: \", round(accuracy_score(y_test, nb_pred)*100,2), \"\\b%\")\n",
    "print(\"Classification Report:\\n\\n\", classification_report(y_test, nb_pred))"
   ]
  },
  {
   "cell_type": "code",
   "execution_count": 37,
   "id": "00fde463",
   "metadata": {},
   "outputs": [
    {
     "name": "stdout",
     "output_type": "stream",
     "text": [
      "Accuracy:  93.38 \b%\n",
      "Classification Report:\n",
      "\n",
      "                precision    recall  f1-score   support\n",
      "\n",
      "     Business       0.93      0.88      0.90       386\n",
      "    Education       0.92      0.94      0.93       387\n",
      "Entertainment       0.96      0.93      0.95       392\n",
      "  Environment       0.93      0.95      0.94       385\n",
      "      Finance       0.91      0.93      0.92       383\n",
      "       Health       0.94      0.95      0.95       380\n",
      "       Nation       0.93      0.94      0.94       377\n",
      "     Politics       0.91      0.92      0.92       371\n",
      "      Science       0.96      0.94      0.95       381\n",
      "       Sports       0.94      0.94      0.94       384\n",
      "   Technology       0.95      0.95      0.95       381\n",
      "        World       0.93      0.92      0.92       398\n",
      "\n",
      "     accuracy                           0.93      4605\n",
      "    macro avg       0.93      0.93      0.93      4605\n",
      " weighted avg       0.93      0.93      0.93      4605\n",
      "\n"
     ]
    }
   ],
   "source": [
    "nb_tfidf = Pipeline([('tfidf', TfidfVectorizer()),\n",
    "                           ('model', MultinomialNB(alpha=1.0,\n",
    "                                       fit_prior=True,\n",
    "                                       class_prior=None))])\n",
    "\n",
    "nb_tfidf_model = nb_tfidf.fit(X_train, y_train)\n",
    "\n",
    "nb_tfidf_pred = nb_tfidf_model.predict(X_test)\n",
    "\n",
    "print(\"Accuracy: \", round(accuracy_score(y_test, nb_tfidf_pred)*100,2), \"\\b%\")\n",
    "print(\"Classification Report:\\n\\n\", classification_report(y_test, nb_tfidf_pred))\n"
   ]
  },
  {
   "cell_type": "code",
   "execution_count": 39,
   "id": "b73c905c",
   "metadata": {},
   "outputs": [
    {
     "name": "stdout",
     "output_type": "stream",
     "text": [
      "Accuracy:  93.38 \b%\n",
      "Classification Report:\n",
      "\n",
      "                precision    recall  f1-score   support\n",
      "\n",
      "     Business       0.93      0.88      0.90       386\n",
      "    Education       0.92      0.94      0.93       387\n",
      "Entertainment       0.96      0.93      0.95       392\n",
      "  Environment       0.93      0.95      0.94       385\n",
      "      Finance       0.91      0.93      0.92       383\n",
      "       Health       0.94      0.95      0.95       380\n",
      "       Nation       0.93      0.94      0.94       377\n",
      "     Politics       0.91      0.92      0.92       371\n",
      "      Science       0.96      0.94      0.95       381\n",
      "       Sports       0.94      0.94      0.94       384\n",
      "   Technology       0.95      0.95      0.95       381\n",
      "        World       0.93      0.92      0.92       398\n",
      "\n",
      "     accuracy                           0.93      4605\n",
      "    macro avg       0.93      0.93      0.93      4605\n",
      " weighted avg       0.93      0.93      0.93      4605\n",
      "\n"
     ]
    }
   ],
   "source": [
    "nb = Pipeline([('vect', CountVectorizer()),\n",
    "               ('tfidf', TfidfTransformer()),\n",
    "                           ('model', MultinomialNB(alpha=1.0,\n",
    "                                       fit_prior=True,\n",
    "                                       class_prior=None))])\n",
    "\n",
    "nb_model = nb.fit(X_train, y_train)\n",
    "\n",
    "nb_pred = nb_model.predict(X_test)\n",
    "\n",
    "print(\"Accuracy: \", round(accuracy_score(y_test, nb_pred)*100,2), \"\\b%\")\n",
    "print(\"Classification Report:\\n\\n\", classification_report(y_test, nb_pred))"
   ]
  },
  {
   "cell_type": "markdown",
   "id": "9f2df4f0",
   "metadata": {},
   "source": [
    "# SVM"
   ]
  },
  {
   "cell_type": "code",
   "execution_count": 9,
   "id": "1a849bd5",
   "metadata": {},
   "outputs": [
    {
     "name": "stdout",
     "output_type": "stream",
     "text": [
      "Accuracy:  96.46 \b%\n",
      "Classification Report:\n",
      "\n",
      "                precision    recall  f1-score   support\n",
      "\n",
      "     Business       0.97      0.94      0.96       386\n",
      "    Education       0.98      0.96      0.97       387\n",
      "Entertainment       0.97      0.98      0.98       392\n",
      "  Environment       0.97      0.97      0.97       385\n",
      "      Finance       0.97      0.95      0.96       383\n",
      "       Health       0.98      0.97      0.97       380\n",
      "       Nation       0.97      0.98      0.97       377\n",
      "     Politics       0.92      0.96      0.94       371\n",
      "      Science       0.97      0.97      0.97       381\n",
      "       Sports       0.94      0.97      0.95       384\n",
      "   Technology       0.99      0.96      0.98       381\n",
      "        World       0.96      0.95      0.96       398\n",
      "\n",
      "     accuracy                           0.96      4605\n",
      "    macro avg       0.96      0.96      0.96      4605\n",
      " weighted avg       0.97      0.96      0.96      4605\n",
      "\n"
     ]
    }
   ],
   "source": [
    "sv = Pipeline([('vect', CountVectorizer()),\n",
    "               ('tfidf', TfidfTransformer()),\n",
    "               ('model', svm.SVC(kernel='linear',\n",
    "                                 C=1.0,\n",
    "                                 max_iter=5000))])\n",
    "\n",
    "sv_model = sv.fit(X_train, y_train)\n",
    "\n",
    "sv_pred = sv_model.predict(X_test)\n",
    "\n",
    "print(\"Accuracy: \", round(accuracy_score(y_test, sv_pred)*100,2), \"\\b%\")\n",
    "print(\"Classification Report:\\n\\n\", classification_report(y_test, sv_pred))\n"
   ]
  },
  {
   "cell_type": "code",
   "execution_count": 10,
   "id": "d79b07fa",
   "metadata": {},
   "outputs": [
    {
     "name": "stdout",
     "output_type": "stream",
     "text": [
      "Accuracy:  96.35 \b%\n",
      "Classification Report:\n",
      "\n",
      "                precision    recall  f1-score   support\n",
      "\n",
      "     Business       0.97      0.94      0.95       386\n",
      "    Education       0.98      0.96      0.97       387\n",
      "Entertainment       0.97      0.98      0.98       392\n",
      "  Environment       0.97      0.97      0.97       385\n",
      "      Finance       0.97      0.95      0.96       383\n",
      "       Health       0.98      0.96      0.97       380\n",
      "       Nation       0.97      0.98      0.98       377\n",
      "     Politics       0.89      0.97      0.93       371\n",
      "      Science       0.97      0.97      0.97       381\n",
      "       Sports       0.93      0.97      0.95       384\n",
      "   Technology       0.99      0.96      0.98       381\n",
      "        World       0.96      0.95      0.96       398\n",
      "\n",
      "     accuracy                           0.96      4605\n",
      "    macro avg       0.96      0.96      0.96      4605\n",
      " weighted avg       0.96      0.96      0.96      4605\n",
      "\n"
     ]
    }
   ],
   "source": [
    "sv = Pipeline([('vect', CountVectorizer()),\n",
    "              # ('tfidf', TfidfTransformer()),\n",
    "               \n",
    "               ('model', svm.SVC(kernel='linear',\n",
    "                                 C=1.0,\n",
    "                                 max_iter=5000))])\n",
    "\n",
    "sv_model = sv.fit(X_train, y_train)\n",
    "\n",
    "sv_pred = sv_model.predict(X_test)\n",
    "\n",
    "print(\"Accuracy: \", round(accuracy_score(y_test, sv_pred)*100,2), \"\\b%\")\n",
    "print(\"Classification Report:\\n\\n\", classification_report(y_test, sv_pred))"
   ]
  },
  {
   "cell_type": "code",
   "execution_count": 11,
   "id": "a71fb138",
   "metadata": {},
   "outputs": [
    {
     "name": "stdout",
     "output_type": "stream",
     "text": [
      "Accuracy:  93.38 \b%\n",
      "Classification Report:\n",
      "\n",
      "                precision    recall  f1-score   support\n",
      "\n",
      "     Business       0.93      0.88      0.90       386\n",
      "    Education       0.92      0.94      0.93       387\n",
      "Entertainment       0.96      0.93      0.95       392\n",
      "  Environment       0.93      0.95      0.94       385\n",
      "      Finance       0.91      0.93      0.92       383\n",
      "       Health       0.94      0.95      0.95       380\n",
      "       Nation       0.93      0.94      0.94       377\n",
      "     Politics       0.91      0.92      0.92       371\n",
      "      Science       0.96      0.94      0.95       381\n",
      "       Sports       0.94      0.94      0.94       384\n",
      "   Technology       0.95      0.95      0.95       381\n",
      "        World       0.93      0.92      0.92       398\n",
      "\n",
      "     accuracy                           0.93      4605\n",
      "    macro avg       0.93      0.93      0.93      4605\n",
      " weighted avg       0.93      0.93      0.93      4605\n",
      "\n"
     ]
    }
   ],
   "source": [
    "sv_tfidf = Pipeline([('tfidf', TfidfTransformer()),\n",
    "                            ('model', svm.SVC(kernel='linear',\n",
    "                                 C=1.0,\n",
    "                                 max_iter=5000))])\n",
    "\n",
    "sv_tfidf_model = nb.fit(X_train, y_train)\n",
    "\n",
    "sv_tfidf_pred = nb_model.predict(X_test)\n",
    "\n",
    "print(\"Accuracy: \", round(accuracy_score(y_test, sv_tfidf_pred)*100,2), \"\\b%\")\n",
    "print(\"Classification Report:\\n\\n\", classification_report(y_test, sv_tfidf_pred))"
   ]
  },
  {
   "cell_type": "markdown",
   "id": "acbceff3",
   "metadata": {},
   "source": [
    "# Logistic Regression"
   ]
  },
  {
   "cell_type": "code",
   "execution_count": 12,
   "id": "975cab6c",
   "metadata": {},
   "outputs": [
    {
     "name": "stdout",
     "output_type": "stream",
     "text": [
      "Accuracy:  96.24 \b%\n",
      "Classification Report:\n",
      "\n",
      "                precision    recall  f1-score   support\n",
      "\n",
      "     Business       0.96      0.93      0.94       386\n",
      "    Education       0.97      0.96      0.96       387\n",
      "Entertainment       0.97      0.97      0.97       392\n",
      "  Environment       0.97      0.97      0.97       385\n",
      "      Finance       0.95      0.95      0.95       383\n",
      "       Health       0.97      0.97      0.97       380\n",
      "       Nation       0.96      0.97      0.97       377\n",
      "     Politics       0.91      0.97      0.94       371\n",
      "      Science       0.96      0.97      0.97       381\n",
      "       Sports       0.96      0.96      0.96       384\n",
      "   Technology       0.99      0.97      0.98       381\n",
      "        World       0.97      0.96      0.96       398\n",
      "\n",
      "     accuracy                           0.96      4605\n",
      "    macro avg       0.96      0.96      0.96      4605\n",
      " weighted avg       0.96      0.96      0.96      4605\n",
      "\n"
     ]
    }
   ],
   "source": [
    "lr = Pipeline([('vect', CountVectorizer()),\n",
    "               ('tfidf', TfidfTransformer()),\n",
    "               ('model', LogisticRegression(penalty='l2',\n",
    "                                            C=1,\n",
    "                                            solver='saga',\n",
    "                                            multi_class='multinomial',\n",
    "                                            max_iter=1000,\n",
    "                                            class_weight='balanced'))])\n",
    "\n",
    "lr_model = lr.fit(X_train, y_train)\n",
    "\n",
    "lr_pred = lr_model.predict(X_test)\n",
    "\n",
    "print(\"Accuracy: \", round(accuracy_score(y_test, lr_pred)*100,2), \"\\b%\")\n",
    "print(\"Classification Report:\\n\\n\", classification_report(y_test, lr_pred))"
   ]
  },
  {
   "cell_type": "markdown",
   "id": "7e7b5f27",
   "metadata": {},
   "source": [
    "# XG Boost"
   ]
  },
  {
   "cell_type": "code",
   "execution_count": 13,
   "id": "d173c061",
   "metadata": {},
   "outputs": [
    {
     "name": "stdout",
     "output_type": "stream",
     "text": [
      "Accuracy:  94.64 \b%\n",
      "Classification Report:\n",
      "\n",
      "                precision    recall  f1-score   support\n",
      "\n",
      "     Business       0.95      0.93      0.94       386\n",
      "    Education       0.97      0.94      0.96       387\n",
      "Entertainment       0.98      0.94      0.96       392\n",
      "  Environment       0.94      0.94      0.94       385\n",
      "      Finance       0.96      0.95      0.96       383\n",
      "       Health       0.97      0.95      0.96       380\n",
      "       Nation       0.96      0.97      0.97       377\n",
      "     Politics       0.78      0.97      0.86       371\n",
      "      Science       0.96      0.95      0.96       381\n",
      "       Sports       0.98      0.91      0.95       384\n",
      "   Technology       0.98      0.94      0.96       381\n",
      "        World       0.96      0.95      0.95       398\n",
      "\n",
      "     accuracy                           0.95      4605\n",
      "    macro avg       0.95      0.95      0.95      4605\n",
      " weighted avg       0.95      0.95      0.95      4605\n",
      "\n"
     ]
    }
   ],
   "source": [
    "gb = Pipeline([('vect', CountVectorizer()),\n",
    "               ('tfidf', TfidfTransformer()),\n",
    "               ('model', GradientBoostingClassifier(n_estimators=100, learning_rate=1.0,max_depth=5, random_state=0))])\n",
    "\n",
    "gb_model = gb.fit(X_train, y_train)\n",
    "\n",
    "gb_pred = gb_model.predict(X_test)\n",
    "\n",
    "print(\"Accuracy: \", round(accuracy_score(y_test, gb_pred)*100,2), \"\\b%\")\n",
    "print(\"Classification Report:\\n\\n\", classification_report(y_test, gb_pred))"
   ]
  },
  {
   "cell_type": "markdown",
   "id": "da7783b9",
   "metadata": {},
   "source": [
    "# K-Nearest Neighbour"
   ]
  },
  {
   "cell_type": "code",
   "execution_count": 14,
   "id": "9e9cb22c",
   "metadata": {},
   "outputs": [
    {
     "name": "stdout",
     "output_type": "stream",
     "text": [
      "Accuracy:  89.19 \b%\n",
      "Classification Report:\n",
      "\n",
      "                precision    recall  f1-score   support\n",
      "\n",
      "     Business       0.87      0.84      0.85       386\n",
      "    Education       0.88      0.89      0.89       387\n",
      "Entertainment       0.92      0.89      0.91       392\n",
      "  Environment       0.89      0.90      0.89       385\n",
      "      Finance       0.90      0.89      0.90       383\n",
      "       Health       0.91      0.90      0.90       380\n",
      "       Nation       0.89      0.90      0.90       377\n",
      "     Politics       0.89      0.89      0.89       371\n",
      "      Science       0.89      0.94      0.91       381\n",
      "       Sports       0.91      0.86      0.89       384\n",
      "   Technology       0.87      0.92      0.89       381\n",
      "        World       0.90      0.88      0.89       398\n",
      "\n",
      "     accuracy                           0.89      4605\n",
      "    macro avg       0.89      0.89      0.89      4605\n",
      " weighted avg       0.89      0.89      0.89      4605\n",
      "\n"
     ]
    }
   ],
   "source": [
    "kn = Pipeline([('vect', CountVectorizer()),\n",
    "               ('tfidf', TfidfTransformer()),\n",
    "               ('model', KNeighborsClassifier(n_neighbors=5))])\n",
    "\n",
    "kn_model = kn.fit(X_train, y_train)\n",
    "\n",
    "kn_pred = kn_model.predict(X_test)\n",
    "\n",
    "print(\"Accuracy: \", round(accuracy_score(y_test, kn_pred)*100,2), \"\\b%\")\n",
    "print(\"Classification Report:\\n\\n\", classification_report(y_test, kn_pred,))"
   ]
  },
  {
   "cell_type": "markdown",
   "id": "fd826662",
   "metadata": {},
   "source": [
    "# Decision Tree"
   ]
  },
  {
   "cell_type": "code",
   "execution_count": 15,
   "id": "06bb418a",
   "metadata": {},
   "outputs": [
    {
     "name": "stdout",
     "output_type": "stream",
     "text": [
      "Accuracy:  95.74 \b%\n",
      "Classification Report:\n",
      "\n",
      "                precision    recall  f1-score   support\n",
      "\n",
      "     Business       0.97      0.93      0.95       386\n",
      "    Education       0.96      0.97      0.96       387\n",
      "Entertainment       0.97      0.95      0.96       392\n",
      "  Environment       0.97      0.97      0.97       385\n",
      "      Finance       0.96      0.96      0.96       383\n",
      "       Health       0.98      0.96      0.97       380\n",
      "       Nation       0.97      0.98      0.98       377\n",
      "     Politics       0.96      0.93      0.95       371\n",
      "      Science       0.95      0.97      0.96       381\n",
      "       Sports       0.88      0.97      0.92       384\n",
      "   Technology       0.97      0.96      0.96       381\n",
      "        World       0.98      0.93      0.96       398\n",
      "\n",
      "     accuracy                           0.96      4605\n",
      "    macro avg       0.96      0.96      0.96      4605\n",
      " weighted avg       0.96      0.96      0.96      4605\n",
      "\n"
     ]
    }
   ],
   "source": [
    "dtc = Pipeline([('vect', CountVectorizer()),\n",
    "                 ('tfidf', TfidfTransformer()),\n",
    "                 ('model', DecisionTreeClassifier(criterion= 'gini',\n",
    "                                           max_depth = 1000, \n",
    "                                           splitter='best', \n",
    "                                           random_state=42))])\n",
    "dtc_model = dtc.fit(X_train, y_train)\n",
    "\n",
    "dtc_pred = dtc_model.predict(X_test)\n",
    "\n",
    "print(\"Accuracy: \", round(accuracy_score(y_test, dtc_pred)*100,2), \"\\b%\")\n",
    "print(\"Classification Report:\\n\\n\", classification_report(y_test, dtc_pred))"
   ]
  },
  {
   "cell_type": "markdown",
   "id": "5a3aa5b8",
   "metadata": {},
   "source": [
    "# Saving Results in DataFrame "
   ]
  },
  {
   "cell_type": "code",
   "execution_count": 19,
   "id": "c723abc7",
   "metadata": {},
   "outputs": [
    {
     "data": {
      "text/html": [
       "<div>\n",
       "<style scoped>\n",
       "    .dataframe tbody tr th:only-of-type {\n",
       "        vertical-align: middle;\n",
       "    }\n",
       "\n",
       "    .dataframe tbody tr th {\n",
       "        vertical-align: top;\n",
       "    }\n",
       "\n",
       "    .dataframe thead th {\n",
       "        text-align: right;\n",
       "    }\n",
       "</style>\n",
       "<table border=\"1\" class=\"dataframe\">\n",
       "  <thead>\n",
       "    <tr style=\"text-align: right;\">\n",
       "      <th></th>\n",
       "      <th>models</th>\n",
       "      <th>accuracy</th>\n",
       "    </tr>\n",
       "  </thead>\n",
       "  <tbody>\n",
       "    <tr>\n",
       "      <th>0</th>\n",
       "      <td>Random Forest</td>\n",
       "      <td>96.59</td>\n",
       "    </tr>\n",
       "    <tr>\n",
       "      <th>1</th>\n",
       "      <td>SVM</td>\n",
       "      <td>96.35</td>\n",
       "    </tr>\n",
       "    <tr>\n",
       "      <th>2</th>\n",
       "      <td>Logistic Regression</td>\n",
       "      <td>96.24</td>\n",
       "    </tr>\n",
       "    <tr>\n",
       "      <th>3</th>\n",
       "      <td>Decision Tree</td>\n",
       "      <td>95.74</td>\n",
       "    </tr>\n",
       "    <tr>\n",
       "      <th>4</th>\n",
       "      <td>SVM-tfidf</td>\n",
       "      <td>93.38</td>\n",
       "    </tr>\n",
       "    <tr>\n",
       "      <th>5</th>\n",
       "      <td>Naive Bayes</td>\n",
       "      <td>93.38</td>\n",
       "    </tr>\n",
       "    <tr>\n",
       "      <th>6</th>\n",
       "      <td>KNN</td>\n",
       "      <td>89.19</td>\n",
       "    </tr>\n",
       "  </tbody>\n",
       "</table>\n",
       "</div>"
      ],
      "text/plain": [
       "                models  accuracy\n",
       "0        Random Forest     96.59\n",
       "1                  SVM     96.35\n",
       "2  Logistic Regression     96.24\n",
       "3        Decision Tree     95.74\n",
       "4            SVM-tfidf     93.38\n",
       "5          Naive Bayes     93.38\n",
       "6                  KNN     89.19"
      ]
     },
     "execution_count": 19,
     "metadata": {},
     "output_type": "execute_result"
    }
   ],
   "source": [
    "res = []\n",
    "res = pd.DataFrame(res)\n",
    "res[\"models\"] = [\"SVM-tfidf\", \"SVM\", \"Naive Bayes\", \"Logistic Regression\", \"KNN\", \"Decision Tree\", \"Random Forest\"]\n",
    "res[\"accuracy\"] = [round(accuracy_score(y_test, sv_tfidf_pred)*100,2), round(accuracy_score(y_test, sv_pred)*100,2), round(accuracy_score(y_test, nb_pred)*100,2), round(accuracy_score(y_test, lr_pred)*100,2), round(accuracy_score(y_test, kn_pred)*100,2), round(accuracy_score(y_test, dtc_pred)*100,2), round(accuracy_score(y_test, rfc_pred)*100,2)]\n",
    "res = res.sort_values(\"accuracy\", ascending=False).reset_index(drop=True)\n",
    "res.to_csv('../DATASET/model_results.csv', index=False)\n",
    "res"
   ]
  },
  {
   "cell_type": "code",
   "execution_count": 22,
   "id": "e42d609b",
   "metadata": {},
   "outputs": [
    {
     "name": "stdout",
     "output_type": "stream",
     "text": [
      "Enter a news to predict its tags: meet world address brian peck sexual abuse conviction weekly meet world address brian peck sexual abuse convictionus weekly\n"
     ]
    },
    {
     "data": {
      "text/html": [
       "<div>\n",
       "<style scoped>\n",
       "    .dataframe tbody tr th:only-of-type {\n",
       "        vertical-align: middle;\n",
       "    }\n",
       "\n",
       "    .dataframe tbody tr th {\n",
       "        vertical-align: top;\n",
       "    }\n",
       "\n",
       "    .dataframe thead th {\n",
       "        text-align: right;\n",
       "    }\n",
       "</style>\n",
       "<table border=\"1\" class=\"dataframe\">\n",
       "  <thead>\n",
       "    <tr style=\"text-align: right;\">\n",
       "      <th></th>\n",
       "      <th>models</th>\n",
       "      <th>accuracy</th>\n",
       "      <th>predicted</th>\n",
       "    </tr>\n",
       "  </thead>\n",
       "  <tbody>\n",
       "    <tr>\n",
       "      <th>0</th>\n",
       "      <td>Random Forest</td>\n",
       "      <td>96.59</td>\n",
       "      <td>World</td>\n",
       "    </tr>\n",
       "    <tr>\n",
       "      <th>1</th>\n",
       "      <td>SVM</td>\n",
       "      <td>96.35</td>\n",
       "      <td>World</td>\n",
       "    </tr>\n",
       "    <tr>\n",
       "      <th>2</th>\n",
       "      <td>Logistic Regression</td>\n",
       "      <td>96.24</td>\n",
       "      <td>World</td>\n",
       "    </tr>\n",
       "    <tr>\n",
       "      <th>3</th>\n",
       "      <td>Decision Tree</td>\n",
       "      <td>95.74</td>\n",
       "      <td>World</td>\n",
       "    </tr>\n",
       "    <tr>\n",
       "      <th>4</th>\n",
       "      <td>SVM-tfidf</td>\n",
       "      <td>93.38</td>\n",
       "      <td>World</td>\n",
       "    </tr>\n",
       "    <tr>\n",
       "      <th>5</th>\n",
       "      <td>Naive Bayes</td>\n",
       "      <td>93.38</td>\n",
       "      <td>World</td>\n",
       "    </tr>\n",
       "    <tr>\n",
       "      <th>6</th>\n",
       "      <td>KNN</td>\n",
       "      <td>89.19</td>\n",
       "      <td>World</td>\n",
       "    </tr>\n",
       "  </tbody>\n",
       "</table>\n",
       "</div>"
      ],
      "text/plain": [
       "                models  accuracy predicted\n",
       "0        Random Forest     96.59     World\n",
       "1                  SVM     96.35     World\n",
       "2  Logistic Regression     96.24     World\n",
       "3        Decision Tree     95.74     World\n",
       "4            SVM-tfidf     93.38     World\n",
       "5          Naive Bayes     93.38     World\n",
       "6                  KNN     89.19     World"
      ]
     },
     "execution_count": 22,
     "metadata": {},
     "output_type": "execute_result"
    }
   ],
   "source": [
    "res = pd.read_csv(\"../DATASET/model_results.csv\")\n",
    "user_input = input(\"Enter a news to predict its tags: \")\n",
    "res[\"predicted\"] = [sv_tfidf_model.predict([user_input])[0], sv_model.predict([user_input])[0], nb_model.predict([user_input])[0], lr_model.predict([user_input])[0], kn_model.predict([user_input])[0], dtc_model.predict([user_input])[0], rfc_model.predict([user_input])[0]]\n",
    "res"
   ]
  },
  {
   "cell_type": "code",
   "execution_count": null,
   "id": "b7eabdc5",
   "metadata": {},
   "outputs": [],
   "source": []
  }
 ],
 "metadata": {
  "kernelspec": {
   "display_name": "Python 3 (ipykernel)",
   "language": "python",
   "name": "python3"
  },
  "language_info": {
   "codemirror_mode": {
    "name": "ipython",
    "version": 3
   },
   "file_extension": ".py",
   "mimetype": "text/x-python",
   "name": "python",
   "nbconvert_exporter": "python",
   "pygments_lexer": "ipython3",
   "version": "3.11.4"
  }
 },
 "nbformat": 4,
 "nbformat_minor": 5
}

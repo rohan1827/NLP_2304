{
 "cells": [
  {
   "cell_type": "code",
   "execution_count": 1,
   "id": "0ff3f5f7",
   "metadata": {},
   "outputs": [],
   "source": [
    "import pandas as pd\n",
    "import numpy as np\n",
    "\n",
    "from sklearn.model_selection import train_test_split\n",
    "from sklearn.pipeline import Pipeline\n",
    "\n",
    "from sklearn.feature_extraction.text import CountVectorizer\n",
    "from sklearn.feature_extraction.text import TfidfTransformer\n",
    "\n",
    "from sklearn.linear_model import LogisticRegression\n",
    "from sklearn.naive_bayes import MultinomialNB\n",
    "from sklearn import svm\n",
    "from sklearn.tree import DecisionTreeClassifier\n",
    "from sklearn.ensemble import RandomForestClassifier\n",
    "from sklearn.ensemble import GradientBoostingClassifier\n",
    "from sklearn.neighbors import KNeighborsClassifier\n",
    "\n",
    "\n",
    "\n",
    "from sklearn.metrics import accuracy_score\n",
    "from sklearn.metrics import classification_report\n",
    "\n",
    "import warnings\n",
    "warnings.filterwarnings('ignore')"
   ]
  },
  {
   "cell_type": "markdown",
   "id": "02011b14",
   "metadata": {},
   "source": [
    "# Load Preprocessed Data"
   ]
  },
  {
   "cell_type": "code",
   "execution_count": 2,
   "id": "9f9c16d2",
   "metadata": {},
   "outputs": [],
   "source": [
    "df=pd.read_csv('DATASET/PreprocessedData.csv')"
   ]
  },
  {
   "cell_type": "code",
   "execution_count": 3,
   "id": "8d709474",
   "metadata": {},
   "outputs": [
    {
     "data": {
      "text/html": [
       "<div>\n",
       "<style scoped>\n",
       "    .dataframe tbody tr th:only-of-type {\n",
       "        vertical-align: middle;\n",
       "    }\n",
       "\n",
       "    .dataframe tbody tr th {\n",
       "        vertical-align: top;\n",
       "    }\n",
       "\n",
       "    .dataframe thead th {\n",
       "        text-align: right;\n",
       "    }\n",
       "</style>\n",
       "<table border=\"1\" class=\"dataframe\">\n",
       "  <thead>\n",
       "    <tr style=\"text-align: right;\">\n",
       "      <th></th>\n",
       "      <th>Unnamed: 0</th>\n",
       "      <th>title</th>\n",
       "      <th>Published_on</th>\n",
       "      <th>News_agency</th>\n",
       "      <th>URL</th>\n",
       "      <th>summary</th>\n",
       "      <th>Country</th>\n",
       "      <th>language</th>\n",
       "      <th>tag</th>\n",
       "      <th>Merged</th>\n",
       "    </tr>\n",
       "  </thead>\n",
       "  <tbody>\n",
       "    <tr>\n",
       "      <th>1135</th>\n",
       "      <td>1135</td>\n",
       "      <td>Qué son pestañas inactivas en Google Chrome y ...</td>\n",
       "      <td>Sun, 18 Feb 2024 12:56:00 GMT</td>\n",
       "      <td>infobae</td>\n",
       "      <td>https://news.google.com/rss/articles/CBMiZ2h0d...</td>\n",
       "      <td>Qué son pestañas inactivas en Google Chrome y ...</td>\n",
       "      <td>US</td>\n",
       "      <td>es</td>\n",
       "      <td>Technology</td>\n",
       "      <td>pestañas inactivas google chrome activarlas in...</td>\n",
       "    </tr>\n",
       "    <tr>\n",
       "      <th>2355</th>\n",
       "      <td>2355</td>\n",
       "      <td>Crise imminente : l'Amazonie au bord du point ...</td>\n",
       "      <td>Sun, 18 Feb 2024 15:00:00 GMT</td>\n",
       "      <td>Tameteo.com</td>\n",
       "      <td>https://news.google.com/rss/articles/CBMimAFod...</td>\n",
       "      <td>Crise imminente : l'Amazonie au bord du point ...</td>\n",
       "      <td>CA</td>\n",
       "      <td>fr</td>\n",
       "      <td>Science</td>\n",
       "      <td>crise imminente lamazonie point basculement es...</td>\n",
       "    </tr>\n",
       "    <tr>\n",
       "      <th>1202</th>\n",
       "      <td>1202</td>\n",
       "      <td>Nieta de \"El Chapo\" Guzmán, Frida Guzmán, es c...</td>\n",
       "      <td>Mon, 19 Feb 2024 00:08:00 GMT</td>\n",
       "      <td>Marca USA</td>\n",
       "      <td>https://news.google.com/rss/articles/CBMiSGh0d...</td>\n",
       "      <td>Nieta de \"El Chapo\" Guzmán, Frida Guzmán, es c...</td>\n",
       "      <td>US</td>\n",
       "      <td>es</td>\n",
       "      <td>Entertainment</td>\n",
       "      <td>nieta chapo guzmán frida guzmán captada cantan...</td>\n",
       "    </tr>\n",
       "    <tr>\n",
       "      <th>2194</th>\n",
       "      <td>2194</td>\n",
       "      <td>L'aviez-vous remarqué dans Google Maps sur And...</td>\n",
       "      <td>Sun, 18 Feb 2024 13:10:01 GMT</td>\n",
       "      <td>Génération NT</td>\n",
       "      <td>https://news.google.com/rss/articles/CBMiSmh0d...</td>\n",
       "      <td>L'aviez-vous remarqué dans Google Maps sur And...</td>\n",
       "      <td>CA</td>\n",
       "      <td>fr</td>\n",
       "      <td>Technology</td>\n",
       "      <td>laviezvous remarqué google android génération ...</td>\n",
       "    </tr>\n",
       "    <tr>\n",
       "      <th>1634</th>\n",
       "      <td>1634</td>\n",
       "      <td>How to build a lot of housing that isn't ugly ...</td>\n",
       "      <td>Sat, 17 Feb 2024 11:00:00 GMT</td>\n",
       "      <td>The Globe and Mail</td>\n",
       "      <td>https://news.google.com/rss/articles/CBMiXGh0d...</td>\n",
       "      <td>How to build a lot of housing that isn't ugly ...</td>\n",
       "      <td>CA</td>\n",
       "      <td>en</td>\n",
       "      <td>Business</td>\n",
       "      <td>build housing globe build housing globe</td>\n",
       "    </tr>\n",
       "  </tbody>\n",
       "</table>\n",
       "</div>"
      ],
      "text/plain": [
       "      Unnamed: 0                                              title  \\\n",
       "1135        1135  Qué son pestañas inactivas en Google Chrome y ...   \n",
       "2355        2355  Crise imminente : l'Amazonie au bord du point ...   \n",
       "1202        1202  Nieta de \"El Chapo\" Guzmán, Frida Guzmán, es c...   \n",
       "2194        2194  L'aviez-vous remarqué dans Google Maps sur And...   \n",
       "1634        1634  How to build a lot of housing that isn't ugly ...   \n",
       "\n",
       "                       Published_on         News_agency  \\\n",
       "1135  Sun, 18 Feb 2024 12:56:00 GMT             infobae   \n",
       "2355  Sun, 18 Feb 2024 15:00:00 GMT         Tameteo.com   \n",
       "1202  Mon, 19 Feb 2024 00:08:00 GMT           Marca USA   \n",
       "2194  Sun, 18 Feb 2024 13:10:01 GMT       Génération NT   \n",
       "1634  Sat, 17 Feb 2024 11:00:00 GMT  The Globe and Mail   \n",
       "\n",
       "                                                    URL  \\\n",
       "1135  https://news.google.com/rss/articles/CBMiZ2h0d...   \n",
       "2355  https://news.google.com/rss/articles/CBMimAFod...   \n",
       "1202  https://news.google.com/rss/articles/CBMiSGh0d...   \n",
       "2194  https://news.google.com/rss/articles/CBMiSmh0d...   \n",
       "1634  https://news.google.com/rss/articles/CBMiXGh0d...   \n",
       "\n",
       "                                                summary Country language  \\\n",
       "1135  Qué son pestañas inactivas en Google Chrome y ...      US       es   \n",
       "2355  Crise imminente : l'Amazonie au bord du point ...      CA       fr   \n",
       "1202  Nieta de \"El Chapo\" Guzmán, Frida Guzmán, es c...      US       es   \n",
       "2194  L'aviez-vous remarqué dans Google Maps sur And...      CA       fr   \n",
       "1634  How to build a lot of housing that isn't ugly ...      CA       en   \n",
       "\n",
       "                tag                                             Merged  \n",
       "1135     Technology  pestañas inactivas google chrome activarlas in...  \n",
       "2355        Science  crise imminente lamazonie point basculement es...  \n",
       "1202  Entertainment  nieta chapo guzmán frida guzmán captada cantan...  \n",
       "2194     Technology  laviezvous remarqué google android génération ...  \n",
       "1634       Business            build housing globe build housing globe  "
      ]
     },
     "execution_count": 3,
     "metadata": {},
     "output_type": "execute_result"
    }
   ],
   "source": [
    "df.sample(5)"
   ]
  },
  {
   "cell_type": "markdown",
   "id": "f253c805",
   "metadata": {},
   "source": [
    "# Splitting into training and testing data"
   ]
  },
  {
   "cell_type": "code",
   "execution_count": 4,
   "id": "64d4e2dc",
   "metadata": {},
   "outputs": [],
   "source": [
    "X_train,X_test,y_train,y_test = train_test_split(df['Merged'], df.tag, test_size=0.3, random_state=42)\n"
   ]
  },
  {
   "cell_type": "markdown",
   "id": "0dacdd2e",
   "metadata": {},
   "source": [
    "# Random Forest Classifier"
   ]
  },
  {
   "cell_type": "code",
   "execution_count": 5,
   "id": "d04dd684",
   "metadata": {},
   "outputs": [
    {
     "name": "stdout",
     "output_type": "stream",
     "text": [
      "accuracy: 66.82 \b%\n",
      "Classification Report:\n",
      "\n",
      "                precision    recall  f1-score   support\n",
      "\n",
      "     Business       0.60      0.40      0.48        86\n",
      "Entertainment       0.77      0.63      0.69       147\n",
      "       Health       0.90      0.68      0.77       111\n",
      "       Nation       0.62      0.60      0.61       107\n",
      "      Science       0.41      0.89      0.56       109\n",
      "       Sports       0.88      0.79      0.83       120\n",
      "   Technology       0.78      0.69      0.74       118\n",
      "        World       0.74      0.60      0.67        91\n",
      "\n",
      "     accuracy                           0.67       889\n",
      "    macro avg       0.71      0.66      0.67       889\n",
      " weighted avg       0.72      0.67      0.68       889\n",
      "\n"
     ]
    }
   ],
   "source": [
    "rfc = Pipeline([('vect', CountVectorizer()),\n",
    "                 ('tfidf', TfidfTransformer()),\n",
    "                 ('model', RandomForestClassifier(n_estimators=5000,\n",
    "                                                  criterion=\"gini\"))])\n",
    "\n",
    "rfc_model = rfc.fit(X_train, y_train)\n",
    "rfc_pred = rfc_model.predict(X_test)\n",
    "print(\"accuracy:\", round(accuracy_score(y_test, rfc_pred)*100,2), \"\\b%\")\n",
    "print(\"Classification Report:\\n\\n\", classification_report(y_test, rfc_pred))"
   ]
  },
  {
   "cell_type": "markdown",
   "id": "fed39686",
   "metadata": {},
   "source": [
    "# Naive Bayes"
   ]
  },
  {
   "cell_type": "code",
   "execution_count": 6,
   "id": "3f58ed80",
   "metadata": {},
   "outputs": [
    {
     "name": "stdout",
     "output_type": "stream",
     "text": [
      "Accuracy:  75.59 \b%\n",
      "Classification Report:\n",
      "\n",
      "                precision    recall  f1-score   support\n",
      "\n",
      "     Business       0.80      0.37      0.51        86\n",
      "Entertainment       0.86      0.82      0.84       147\n",
      "       Health       0.90      0.79      0.84       111\n",
      "       Nation       0.54      0.73      0.62       107\n",
      "      Science       0.75      0.84      0.79       109\n",
      "       Sports       0.92      0.91      0.92       120\n",
      "   Technology       0.61      0.81      0.70       118\n",
      "        World       0.82      0.62      0.70        91\n",
      "\n",
      "     accuracy                           0.76       889\n",
      "    macro avg       0.78      0.74      0.74       889\n",
      " weighted avg       0.78      0.76      0.75       889\n",
      "\n"
     ]
    }
   ],
   "source": [
    "nb = Pipeline([('vect', CountVectorizer()),\n",
    "               ('tfidf', TfidfTransformer()),\n",
    "               ('model', MultinomialNB(alpha=1.0,\n",
    "                                       fit_prior=True,\n",
    "                                       class_prior=None))])\n",
    "\n",
    "nb_model = nb.fit(X_train, y_train)\n",
    "\n",
    "nb_pred = nb_model.predict(X_test)\n",
    "\n",
    "print(\"Accuracy: \", round(accuracy_score(y_test, nb_pred)*100,2), \"\\b%\")\n",
    "print(\"Classification Report:\\n\\n\", classification_report(y_test, nb_pred))"
   ]
  },
  {
   "cell_type": "markdown",
   "id": "9f2df4f0",
   "metadata": {},
   "source": [
    "# SVM"
   ]
  },
  {
   "cell_type": "code",
   "execution_count": 7,
   "id": "1a849bd5",
   "metadata": {},
   "outputs": [
    {
     "name": "stdout",
     "output_type": "stream",
     "text": [
      "Accuracy:  74.35 \b%\n",
      "Classification Report:\n",
      "\n",
      "                precision    recall  f1-score   support\n",
      "\n",
      "     Business       0.56      0.55      0.55        86\n",
      "Entertainment       0.81      0.76      0.79       147\n",
      "       Health       0.92      0.76      0.83       111\n",
      "       Nation       0.53      0.73      0.61       107\n",
      "      Science       0.71      0.82      0.76       109\n",
      "       Sports       0.90      0.89      0.90       120\n",
      "   Technology       0.77      0.75      0.76       118\n",
      "        World       0.80      0.62      0.70        91\n",
      "\n",
      "     accuracy                           0.74       889\n",
      "    macro avg       0.75      0.73      0.74       889\n",
      " weighted avg       0.76      0.74      0.75       889\n",
      "\n"
     ]
    }
   ],
   "source": [
    "sv = Pipeline([('vect', CountVectorizer()),\n",
    "               ('tfidf', TfidfTransformer()),\n",
    "               ('model', svm.SVC(kernel='linear',\n",
    "                                 C=1.0,\n",
    "                                 max_iter=5000))])\n",
    "\n",
    "sv_model = sv.fit(X_train, y_train)\n",
    "\n",
    "sv_pred = sv_model.predict(X_test)\n",
    "\n",
    "print(\"Accuracy: \", round(accuracy_score(y_test, sv_pred)*100,2), \"\\b%\")\n",
    "print(\"Classification Report:\\n\\n\", classification_report(y_test, sv_pred))"
   ]
  },
  {
   "cell_type": "markdown",
   "id": "acbceff3",
   "metadata": {},
   "source": [
    "# Logistic Regression"
   ]
  },
  {
   "cell_type": "code",
   "execution_count": 8,
   "id": "975cab6c",
   "metadata": {},
   "outputs": [
    {
     "name": "stdout",
     "output_type": "stream",
     "text": [
      "Accuracy:  75.48 \b%\n",
      "Classification Report:\n",
      "\n",
      "                precision    recall  f1-score   support\n",
      "\n",
      "     Business       0.58      0.59      0.59        86\n",
      "Entertainment       0.81      0.78      0.79       147\n",
      "       Health       0.92      0.78      0.84       111\n",
      "       Nation       0.57      0.68      0.62       107\n",
      "      Science       0.73      0.88      0.80       109\n",
      "       Sports       0.88      0.89      0.89       120\n",
      "   Technology       0.79      0.71      0.75       118\n",
      "        World       0.76      0.65      0.70        91\n",
      "\n",
      "     accuracy                           0.75       889\n",
      "    macro avg       0.75      0.75      0.75       889\n",
      " weighted avg       0.76      0.75      0.76       889\n",
      "\n"
     ]
    }
   ],
   "source": [
    "lr = Pipeline([('vect', CountVectorizer()),\n",
    "               ('tfidf', TfidfTransformer()),\n",
    "               ('model', LogisticRegression(penalty='l2',\n",
    "                                            C=1,\n",
    "                                            solver='saga',\n",
    "                                            multi_class='multinomial',\n",
    "                                            max_iter=1000,\n",
    "                                            class_weight='balanced'))])\n",
    "\n",
    "lr_model = lr.fit(X_train, y_train)\n",
    "\n",
    "lr_pred = lr_model.predict(X_test)\n",
    "\n",
    "print(\"Accuracy: \", round(accuracy_score(y_test, lr_pred)*100,2), \"\\b%\")\n",
    "print(\"Classification Report:\\n\\n\", classification_report(y_test, lr_pred))"
   ]
  },
  {
   "cell_type": "markdown",
   "id": "7e7b5f27",
   "metadata": {},
   "source": [
    "# XG Boost"
   ]
  },
  {
   "cell_type": "code",
   "execution_count": 9,
   "id": "d173c061",
   "metadata": {},
   "outputs": [
    {
     "name": "stdout",
     "output_type": "stream",
     "text": [
      "Accuracy:  59.96 \b%\n",
      "Classification Report:\n",
      "\n",
      "                precision    recall  f1-score   support\n",
      "\n",
      "     Business       0.56      0.37      0.45        86\n",
      "Entertainment       0.78      0.54      0.64       147\n",
      "       Health       0.71      0.60      0.65       111\n",
      "       Nation       0.53      0.49      0.51       107\n",
      "      Science       0.74      0.63      0.68       109\n",
      "       Sports       0.83      0.68      0.75       120\n",
      "   Technology       0.38      0.82      0.52       118\n",
      "        World       0.62      0.59      0.61        91\n",
      "\n",
      "     accuracy                           0.60       889\n",
      "    macro avg       0.64      0.59      0.60       889\n",
      " weighted avg       0.65      0.60      0.61       889\n",
      "\n"
     ]
    }
   ],
   "source": [
    "gb = Pipeline([('vect', CountVectorizer()),\n",
    "               ('tfidf', TfidfTransformer()),\n",
    "               ('model', GradientBoostingClassifier(n_estimators=100, learning_rate=1.0,max_depth=5, random_state=0))])\n",
    "\n",
    "gb_model = gb.fit(X_train, y_train)\n",
    "\n",
    "gb_pred = gb_model.predict(X_test)\n",
    "\n",
    "print(\"Accuracy: \", round(accuracy_score(y_test, gb_pred)*100,2), \"\\b%\")\n",
    "print(\"Classification Report:\\n\\n\", classification_report(y_test, gb_pred))"
   ]
  },
  {
   "cell_type": "markdown",
   "id": "da7783b9",
   "metadata": {},
   "source": [
    "# K-Nearest Neighbour"
   ]
  },
  {
   "cell_type": "code",
   "execution_count": 10,
   "id": "9e9cb22c",
   "metadata": {},
   "outputs": [
    {
     "name": "stdout",
     "output_type": "stream",
     "text": [
      "Accuracy:  58.83 \b%\n",
      "Classification Report:\n",
      "\n",
      "                precision    recall  f1-score   support\n",
      "\n",
      "     Business       0.39      0.52      0.45        86\n",
      "Entertainment       0.67      0.62      0.65       147\n",
      "       Health       0.62      0.66      0.64       111\n",
      "       Nation       0.48      0.52      0.50       107\n",
      "      Science       0.51      0.61      0.56       109\n",
      "       Sports       0.78      0.72      0.75       120\n",
      "   Technology       0.68      0.57      0.62       118\n",
      "        World       0.59      0.42      0.49        91\n",
      "\n",
      "     accuracy                           0.59       889\n",
      "    macro avg       0.59      0.58      0.58       889\n",
      " weighted avg       0.60      0.59      0.59       889\n",
      "\n"
     ]
    }
   ],
   "source": [
    "kn = Pipeline([('vect', CountVectorizer()),\n",
    "               ('tfidf', TfidfTransformer()),\n",
    "               ('model', KNeighborsClassifier(n_neighbors=5))])\n",
    "\n",
    "kn_model = kn.fit(X_train, y_train)\n",
    "\n",
    "kn_pred = kn_model.predict(X_test)\n",
    "\n",
    "print(\"Accuracy: \", round(accuracy_score(y_test, kn_pred)*100,2), \"\\b%\")\n",
    "print(\"Classification Report:\\n\\n\", classification_report(y_test, kn_pred,))"
   ]
  },
  {
   "cell_type": "markdown",
   "id": "fd826662",
   "metadata": {},
   "source": [
    "# Decision Tree"
   ]
  },
  {
   "cell_type": "code",
   "execution_count": 11,
   "id": "06bb418a",
   "metadata": {},
   "outputs": [
    {
     "name": "stdout",
     "output_type": "stream",
     "text": [
      "Accuracy:  60.18 \b%\n",
      "Classification Report:\n",
      "\n",
      "                precision    recall  f1-score   support\n",
      "\n",
      "     Business       0.37      0.33      0.35        86\n",
      "Entertainment       0.59      0.50      0.54       147\n",
      "       Health       0.79      0.66      0.72       111\n",
      "       Nation       0.56      0.50      0.53       107\n",
      "      Science       0.63      0.68      0.65       109\n",
      "       Sports       0.78      0.65      0.71       120\n",
      "   Technology       0.48      0.80      0.60       118\n",
      "        World       0.69      0.67      0.68        91\n",
      "\n",
      "     accuracy                           0.60       889\n",
      "    macro avg       0.61      0.60      0.60       889\n",
      " weighted avg       0.62      0.60      0.60       889\n",
      "\n"
     ]
    }
   ],
   "source": [
    "dtc = Pipeline([('vect', CountVectorizer()),\n",
    "                 ('tfidf', TfidfTransformer()),\n",
    "                 ('model', DecisionTreeClassifier(criterion= 'gini',\n",
    "                                           max_depth = 1000, \n",
    "                                           splitter='best', \n",
    "                                           random_state=42))])\n",
    "dtc_model = dtc.fit(X_train, y_train)\n",
    "\n",
    "dtc_pred = dtc_model.predict(X_test)\n",
    "\n",
    "print(\"Accuracy: \", round(accuracy_score(y_test, dtc_pred)*100,2), \"\\b%\")\n",
    "print(\"Classification Report:\\n\\n\", classification_report(y_test, dtc_pred))"
   ]
  },
  {
   "cell_type": "markdown",
   "id": "5a3aa5b8",
   "metadata": {},
   "source": [
    "# Saving Results in DataFrame "
   ]
  },
  {
   "cell_type": "code",
   "execution_count": 12,
   "id": "c723abc7",
   "metadata": {},
   "outputs": [
    {
     "data": {
      "text/html": [
       "<div>\n",
       "<style scoped>\n",
       "    .dataframe tbody tr th:only-of-type {\n",
       "        vertical-align: middle;\n",
       "    }\n",
       "\n",
       "    .dataframe tbody tr th {\n",
       "        vertical-align: top;\n",
       "    }\n",
       "\n",
       "    .dataframe thead th {\n",
       "        text-align: right;\n",
       "    }\n",
       "</style>\n",
       "<table border=\"1\" class=\"dataframe\">\n",
       "  <thead>\n",
       "    <tr style=\"text-align: right;\">\n",
       "      <th></th>\n",
       "      <th>models</th>\n",
       "      <th>accuracy</th>\n",
       "    </tr>\n",
       "  </thead>\n",
       "  <tbody>\n",
       "    <tr>\n",
       "      <th>0</th>\n",
       "      <td>Naive Bayes</td>\n",
       "      <td>75.59</td>\n",
       "    </tr>\n",
       "    <tr>\n",
       "      <th>1</th>\n",
       "      <td>Logistic Regression</td>\n",
       "      <td>75.48</td>\n",
       "    </tr>\n",
       "    <tr>\n",
       "      <th>2</th>\n",
       "      <td>SVM</td>\n",
       "      <td>74.35</td>\n",
       "    </tr>\n",
       "    <tr>\n",
       "      <th>3</th>\n",
       "      <td>Random Forest</td>\n",
       "      <td>66.82</td>\n",
       "    </tr>\n",
       "    <tr>\n",
       "      <th>4</th>\n",
       "      <td>Decision Tree</td>\n",
       "      <td>60.18</td>\n",
       "    </tr>\n",
       "    <tr>\n",
       "      <th>5</th>\n",
       "      <td>KNN</td>\n",
       "      <td>58.83</td>\n",
       "    </tr>\n",
       "  </tbody>\n",
       "</table>\n",
       "</div>"
      ],
      "text/plain": [
       "                models  accuracy\n",
       "0          Naive Bayes     75.59\n",
       "1  Logistic Regression     75.48\n",
       "2                  SVM     74.35\n",
       "3        Random Forest     66.82\n",
       "4        Decision Tree     60.18\n",
       "5                  KNN     58.83"
      ]
     },
     "execution_count": 12,
     "metadata": {},
     "output_type": "execute_result"
    }
   ],
   "source": [
    "res = []\n",
    "res = pd.DataFrame(res)\n",
    "res[\"models\"] = [\"SVM\", \"Naive Bayes\", \"Logistic Regression\", \"KNN\", \"Decision Tree\", \"Random Forest\"]\n",
    "res[\"accuracy\"] = [round(accuracy_score(y_test, sv_pred)*100,2), round(accuracy_score(y_test, nb_pred)*100,2), round(accuracy_score(y_test, lr_pred)*100,2), round(accuracy_score(y_test, kn_pred)*100,2), round(accuracy_score(y_test, dtc_pred)*100,2), round(accuracy_score(y_test, rfc_pred)*100,2)]\n",
    "res = res.sort_values(\"accuracy\", ascending=False).reset_index(drop=True)\n",
    "res.to_csv('DATASET/model_results.csv', index=False)\n",
    "res"
   ]
  },
  {
   "cell_type": "code",
   "execution_count": 13,
   "id": "e42d609b",
   "metadata": {},
   "outputs": [
    {
     "name": "stdout",
     "output_type": "stream",
     "text": [
      "Enter a news to predict its tags: L'aviez-vous remarqué dans Google Maps sur And..\n"
     ]
    },
    {
     "data": {
      "text/html": [
       "<div>\n",
       "<style scoped>\n",
       "    .dataframe tbody tr th:only-of-type {\n",
       "        vertical-align: middle;\n",
       "    }\n",
       "\n",
       "    .dataframe tbody tr th {\n",
       "        vertical-align: top;\n",
       "    }\n",
       "\n",
       "    .dataframe thead th {\n",
       "        text-align: right;\n",
       "    }\n",
       "</style>\n",
       "<table border=\"1\" class=\"dataframe\">\n",
       "  <thead>\n",
       "    <tr style=\"text-align: right;\">\n",
       "      <th></th>\n",
       "      <th>models</th>\n",
       "      <th>accuracy</th>\n",
       "      <th>predicted</th>\n",
       "    </tr>\n",
       "  </thead>\n",
       "  <tbody>\n",
       "    <tr>\n",
       "      <th>0</th>\n",
       "      <td>Naive Bayes</td>\n",
       "      <td>75.59</td>\n",
       "      <td>Technology</td>\n",
       "    </tr>\n",
       "    <tr>\n",
       "      <th>1</th>\n",
       "      <td>Logistic Regression</td>\n",
       "      <td>75.48</td>\n",
       "      <td>Technology</td>\n",
       "    </tr>\n",
       "    <tr>\n",
       "      <th>2</th>\n",
       "      <td>SVM</td>\n",
       "      <td>74.35</td>\n",
       "      <td>Technology</td>\n",
       "    </tr>\n",
       "    <tr>\n",
       "      <th>3</th>\n",
       "      <td>Random Forest</td>\n",
       "      <td>66.82</td>\n",
       "      <td>Technology</td>\n",
       "    </tr>\n",
       "    <tr>\n",
       "      <th>4</th>\n",
       "      <td>Decision Tree</td>\n",
       "      <td>60.18</td>\n",
       "      <td>Technology</td>\n",
       "    </tr>\n",
       "    <tr>\n",
       "      <th>5</th>\n",
       "      <td>KNN</td>\n",
       "      <td>58.83</td>\n",
       "      <td>Technology</td>\n",
       "    </tr>\n",
       "  </tbody>\n",
       "</table>\n",
       "</div>"
      ],
      "text/plain": [
       "                models  accuracy   predicted\n",
       "0          Naive Bayes     75.59  Technology\n",
       "1  Logistic Regression     75.48  Technology\n",
       "2                  SVM     74.35  Technology\n",
       "3        Random Forest     66.82  Technology\n",
       "4        Decision Tree     60.18  Technology\n",
       "5                  KNN     58.83  Technology"
      ]
     },
     "execution_count": 13,
     "metadata": {},
     "output_type": "execute_result"
    }
   ],
   "source": [
    "res = pd.read_csv(\"DATASET/model_results.csv\")\n",
    "user_input = input(\"Enter a news to predict its tags: \")\n",
    "res[\"predicted\"] = [sv_model.predict([user_input])[0], nb_model.predict([user_input])[0], lr_model.predict([user_input])[0], kn_model.predict([user_input])[0], dtc_model.predict([user_input])[0], rfc_model.predict([user_input])[0]]\n",
    "res"
   ]
  },
  {
   "cell_type": "code",
   "execution_count": null,
   "id": "b7eabdc5",
   "metadata": {},
   "outputs": [],
   "source": []
  }
 ],
 "metadata": {
  "kernelspec": {
   "display_name": "Python 3 (ipykernel)",
   "language": "python",
   "name": "python3"
  },
  "language_info": {
   "codemirror_mode": {
    "name": "ipython",
    "version": 3
   },
   "file_extension": ".py",
   "mimetype": "text/x-python",
   "name": "python",
   "nbconvert_exporter": "python",
   "pygments_lexer": "ipython3",
   "version": "3.11.4"
  }
 },
 "nbformat": 4,
 "nbformat_minor": 5
}

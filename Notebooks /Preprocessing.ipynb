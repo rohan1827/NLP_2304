{
 "cells": [
  {
   "cell_type": "code",
   "execution_count": 1,
   "id": "30a15951",
   "metadata": {},
   "outputs": [],
   "source": [
    "import pandas as pd \n",
    "\n",
    "\n",
    "from bs4 import BeautifulSoup\n",
    "\n",
    "import regex as re \n",
    "import string\n",
    "import nltk\n",
    "from nltk.stem import WordNetLemmatizer\n",
    "\n",
    "import warnings\n",
    "warnings.filterwarnings('ignore')\n",
    "\n",
    "import seaborn as sns\n",
    "import matplotlib.pyplot as plt\n",
    "from sklearn.feature_extraction.text import CountVectorizer, TfidfVectorizer\n"
   ]
  },
  {
   "cell_type": "code",
   "execution_count": 2,
   "id": "8d398688",
   "metadata": {
    "scrolled": true
   },
   "outputs": [
    {
     "name": "stdout",
     "output_type": "stream",
     "text": [
      "Requirement already satisfied: wordcloud in /Users/shreyabaral/anaconda3/lib/python3.11/site-packages (1.9.3)\n",
      "Requirement already satisfied: numpy>=1.6.1 in /Users/shreyabaral/anaconda3/lib/python3.11/site-packages (from wordcloud) (1.24.3)\n",
      "Requirement already satisfied: pillow in /Users/shreyabaral/anaconda3/lib/python3.11/site-packages (from wordcloud) (9.4.0)\n",
      "Requirement already satisfied: matplotlib in /Users/shreyabaral/anaconda3/lib/python3.11/site-packages (from wordcloud) (3.7.1)\n",
      "Requirement already satisfied: contourpy>=1.0.1 in /Users/shreyabaral/anaconda3/lib/python3.11/site-packages (from matplotlib->wordcloud) (1.0.5)\n",
      "Requirement already satisfied: cycler>=0.10 in /Users/shreyabaral/anaconda3/lib/python3.11/site-packages (from matplotlib->wordcloud) (0.11.0)\n",
      "Requirement already satisfied: fonttools>=4.22.0 in /Users/shreyabaral/anaconda3/lib/python3.11/site-packages (from matplotlib->wordcloud) (4.25.0)\n",
      "Requirement already satisfied: kiwisolver>=1.0.1 in /Users/shreyabaral/anaconda3/lib/python3.11/site-packages (from matplotlib->wordcloud) (1.4.4)\n",
      "Requirement already satisfied: packaging>=20.0 in /Users/shreyabaral/anaconda3/lib/python3.11/site-packages (from matplotlib->wordcloud) (23.0)\n",
      "Requirement already satisfied: pyparsing>=2.3.1 in /Users/shreyabaral/anaconda3/lib/python3.11/site-packages (from matplotlib->wordcloud) (3.0.9)\n",
      "Requirement already satisfied: python-dateutil>=2.7 in /Users/shreyabaral/anaconda3/lib/python3.11/site-packages (from matplotlib->wordcloud) (2.8.2)\n",
      "Requirement already satisfied: six>=1.5 in /Users/shreyabaral/anaconda3/lib/python3.11/site-packages (from python-dateutil>=2.7->matplotlib->wordcloud) (1.16.0)\n"
     ]
    }
   ],
   "source": [
    "!pip install wordcloud"
   ]
  },
  {
   "cell_type": "code",
   "execution_count": 3,
   "id": "51d9d9fe",
   "metadata": {},
   "outputs": [],
   "source": [
    "df= pd.read_csv('../DATASET/Google_data(updated)')"
   ]
  },
  {
   "cell_type": "markdown",
   "id": "741680f1",
   "metadata": {},
   "source": [
    "#  Understanding Data"
   ]
  },
  {
   "cell_type": "code",
   "execution_count": 4,
   "id": "fe56072a",
   "metadata": {},
   "outputs": [
    {
     "data": {
      "text/html": [
       "<div>\n",
       "<style scoped>\n",
       "    .dataframe tbody tr th:only-of-type {\n",
       "        vertical-align: middle;\n",
       "    }\n",
       "\n",
       "    .dataframe tbody tr th {\n",
       "        vertical-align: top;\n",
       "    }\n",
       "\n",
       "    .dataframe thead th {\n",
       "        text-align: right;\n",
       "    }\n",
       "</style>\n",
       "<table border=\"1\" class=\"dataframe\">\n",
       "  <thead>\n",
       "    <tr style=\"text-align: right;\">\n",
       "      <th></th>\n",
       "      <th>title</th>\n",
       "      <th>Published_on</th>\n",
       "      <th>News_agency</th>\n",
       "      <th>URL</th>\n",
       "      <th>summary</th>\n",
       "      <th>Country</th>\n",
       "      <th>language</th>\n",
       "      <th>tag</th>\n",
       "    </tr>\n",
       "  </thead>\n",
       "  <tbody>\n",
       "    <tr>\n",
       "      <th>0</th>\n",
       "      <td>Rider Strong and Will Friedle Detail Alleged M...</td>\n",
       "      <td>Mon, 19 Feb 2024 16:57:00 GMT</td>\n",
       "      <td>Variety</td>\n",
       "      <td>https://news.google.com/rss/articles/CBMiamh0d...</td>\n",
       "      <td>&lt;a href=\"https://news.google.com/rss/articles/...</td>\n",
       "      <td>US</td>\n",
       "      <td>en</td>\n",
       "      <td>World</td>\n",
       "    </tr>\n",
       "    <tr>\n",
       "      <th>1</th>\n",
       "      <td>'Boy Meets World' Cast Addresses Brian Peck's ...</td>\n",
       "      <td>Mon, 19 Feb 2024 19:35:33 GMT</td>\n",
       "      <td>Us Weekly</td>\n",
       "      <td>https://news.google.com/rss/articles/CBMicmh0d...</td>\n",
       "      <td>&lt;a href=\"https://news.google.com/rss/articles/...</td>\n",
       "      <td>US</td>\n",
       "      <td>en</td>\n",
       "      <td>World</td>\n",
       "    </tr>\n",
       "    <tr>\n",
       "      <th>2</th>\n",
       "      <td>'Boy Meets World' stars discuss former friends...</td>\n",
       "      <td>Mon, 19 Feb 2024 23:46:37 GMT</td>\n",
       "      <td>Entertainment Weekly News</td>\n",
       "      <td>https://news.google.com/rss/articles/CBMiaGh0d...</td>\n",
       "      <td>&lt;a href=\"https://news.google.com/rss/articles/...</td>\n",
       "      <td>US</td>\n",
       "      <td>en</td>\n",
       "      <td>World</td>\n",
       "    </tr>\n",
       "    <tr>\n",
       "      <th>3</th>\n",
       "      <td>Charted: Share of World Forests by Country - V...</td>\n",
       "      <td>Sat, 17 Feb 2024 21:01:03 GMT</td>\n",
       "      <td>Visual Capitalist</td>\n",
       "      <td>https://news.google.com/rss/articles/CBMiS2h0d...</td>\n",
       "      <td>&lt;a href=\"https://news.google.com/rss/articles/...</td>\n",
       "      <td>US</td>\n",
       "      <td>en</td>\n",
       "      <td>World</td>\n",
       "    </tr>\n",
       "    <tr>\n",
       "      <th>4</th>\n",
       "      <td>FBI and allies seize dark-web site of world’s ...</td>\n",
       "      <td>Tue, 20 Feb 2024 00:10:00 GMT</td>\n",
       "      <td>CNN</td>\n",
       "      <td>https://news.google.com/rss/articles/CBMiV2h0d...</td>\n",
       "      <td>&lt;a href=\"https://news.google.com/rss/articles/...</td>\n",
       "      <td>US</td>\n",
       "      <td>en</td>\n",
       "      <td>World</td>\n",
       "    </tr>\n",
       "  </tbody>\n",
       "</table>\n",
       "</div>"
      ],
      "text/plain": [
       "                                               title  \\\n",
       "0  Rider Strong and Will Friedle Detail Alleged M...   \n",
       "1  'Boy Meets World' Cast Addresses Brian Peck's ...   \n",
       "2  'Boy Meets World' stars discuss former friends...   \n",
       "3  Charted: Share of World Forests by Country - V...   \n",
       "4  FBI and allies seize dark-web site of world’s ...   \n",
       "\n",
       "                    Published_on                News_agency  \\\n",
       "0  Mon, 19 Feb 2024 16:57:00 GMT                    Variety   \n",
       "1  Mon, 19 Feb 2024 19:35:33 GMT                  Us Weekly   \n",
       "2  Mon, 19 Feb 2024 23:46:37 GMT  Entertainment Weekly News   \n",
       "3  Sat, 17 Feb 2024 21:01:03 GMT          Visual Capitalist   \n",
       "4  Tue, 20 Feb 2024 00:10:00 GMT                        CNN   \n",
       "\n",
       "                                                 URL  \\\n",
       "0  https://news.google.com/rss/articles/CBMiamh0d...   \n",
       "1  https://news.google.com/rss/articles/CBMicmh0d...   \n",
       "2  https://news.google.com/rss/articles/CBMiaGh0d...   \n",
       "3  https://news.google.com/rss/articles/CBMiS2h0d...   \n",
       "4  https://news.google.com/rss/articles/CBMiV2h0d...   \n",
       "\n",
       "                                             summary Country language    tag  \n",
       "0  <a href=\"https://news.google.com/rss/articles/...      US       en  World  \n",
       "1  <a href=\"https://news.google.com/rss/articles/...      US       en  World  \n",
       "2  <a href=\"https://news.google.com/rss/articles/...      US       en  World  \n",
       "3  <a href=\"https://news.google.com/rss/articles/...      US       en  World  \n",
       "4  <a href=\"https://news.google.com/rss/articles/...      US       en  World  "
      ]
     },
     "execution_count": 4,
     "metadata": {},
     "output_type": "execute_result"
    }
   ],
   "source": [
    "df.head()"
   ]
  },
  {
   "cell_type": "code",
   "execution_count": 5,
   "id": "3f81acf6",
   "metadata": {},
   "outputs": [
    {
     "data": {
      "text/html": [
       "<div>\n",
       "<style scoped>\n",
       "    .dataframe tbody tr th:only-of-type {\n",
       "        vertical-align: middle;\n",
       "    }\n",
       "\n",
       "    .dataframe tbody tr th {\n",
       "        vertical-align: top;\n",
       "    }\n",
       "\n",
       "    .dataframe thead th {\n",
       "        text-align: right;\n",
       "    }\n",
       "</style>\n",
       "<table border=\"1\" class=\"dataframe\">\n",
       "  <thead>\n",
       "    <tr style=\"text-align: right;\">\n",
       "      <th></th>\n",
       "      <th>title</th>\n",
       "      <th>Published_on</th>\n",
       "      <th>News_agency</th>\n",
       "      <th>URL</th>\n",
       "      <th>summary</th>\n",
       "      <th>Country</th>\n",
       "      <th>language</th>\n",
       "      <th>tag</th>\n",
       "    </tr>\n",
       "  </thead>\n",
       "  <tbody>\n",
       "    <tr>\n",
       "      <th>668</th>\n",
       "      <td>Chargers, Corey Linsley agree to restructured ...</td>\n",
       "      <td>Mon, 19 Feb 2024 16:07:22 GMT</td>\n",
       "      <td>NBC Sports</td>\n",
       "      <td>https://news.google.com/rss/articles/CBMic2h0d...</td>\n",
       "      <td>&lt;a href=\"https://news.google.com/rss/articles/...</td>\n",
       "      <td>US</td>\n",
       "      <td>en</td>\n",
       "      <td>Sports</td>\n",
       "    </tr>\n",
       "    <tr>\n",
       "      <th>14136</th>\n",
       "      <td>I'm a Financial Advisor: Invest In These 3 Ass...</td>\n",
       "      <td>Sun, 18 Feb 2024 21:02:06 GMT</td>\n",
       "      <td>Yahoo Finance</td>\n",
       "      <td>https://news.google.com/rss/articles/CBMiSmh0d...</td>\n",
       "      <td>&lt;a href=\"https://news.google.com/rss/articles/...</td>\n",
       "      <td>BR</td>\n",
       "      <td>en</td>\n",
       "      <td>Finance</td>\n",
       "    </tr>\n",
       "    <tr>\n",
       "      <th>6154</th>\n",
       "      <td>Michael J. Fox gets standing ovation presentin...</td>\n",
       "      <td>Mon, 19 Feb 2024 11:07:00 GMT</td>\n",
       "      <td>Business Insider</td>\n",
       "      <td>https://news.google.com/rss/articles/CBMiTGh0d...</td>\n",
       "      <td>&lt;a href=\"https://news.google.com/rss/articles/...</td>\n",
       "      <td>FR</td>\n",
       "      <td>en</td>\n",
       "      <td>Business</td>\n",
       "    </tr>\n",
       "    <tr>\n",
       "      <th>12823</th>\n",
       "      <td>Governor Ivey emphasizes education savings acc...</td>\n",
       "      <td>Mon, 19 Feb 2024 18:41:26 GMT</td>\n",
       "      <td>Yellowhammer News</td>\n",
       "      <td>https://news.google.com/rss/articles/CBMigAFod...</td>\n",
       "      <td>&lt;a href=\"https://news.google.com/rss/articles/...</td>\n",
       "      <td>RU</td>\n",
       "      <td>en</td>\n",
       "      <td>Education</td>\n",
       "    </tr>\n",
       "    <tr>\n",
       "      <th>1532</th>\n",
       "      <td>Business leaders embrace new technologies to b...</td>\n",
       "      <td>Mon, 19 Feb 2024 14:13:00 GMT</td>\n",
       "      <td>Yahoo Finance</td>\n",
       "      <td>https://news.google.com/rss/articles/CBMiWWh0d...</td>\n",
       "      <td>&lt;a href=\"https://news.google.com/rss/articles/...</td>\n",
       "      <td>GB</td>\n",
       "      <td>en</td>\n",
       "      <td>Technology</td>\n",
       "    </tr>\n",
       "  </tbody>\n",
       "</table>\n",
       "</div>"
      ],
      "text/plain": [
       "                                                   title  \\\n",
       "668    Chargers, Corey Linsley agree to restructured ...   \n",
       "14136  I'm a Financial Advisor: Invest In These 3 Ass...   \n",
       "6154   Michael J. Fox gets standing ovation presentin...   \n",
       "12823  Governor Ivey emphasizes education savings acc...   \n",
       "1532   Business leaders embrace new technologies to b...   \n",
       "\n",
       "                        Published_on        News_agency  \\\n",
       "668    Mon, 19 Feb 2024 16:07:22 GMT         NBC Sports   \n",
       "14136  Sun, 18 Feb 2024 21:02:06 GMT      Yahoo Finance   \n",
       "6154   Mon, 19 Feb 2024 11:07:00 GMT   Business Insider   \n",
       "12823  Mon, 19 Feb 2024 18:41:26 GMT  Yellowhammer News   \n",
       "1532   Mon, 19 Feb 2024 14:13:00 GMT      Yahoo Finance   \n",
       "\n",
       "                                                     URL  \\\n",
       "668    https://news.google.com/rss/articles/CBMic2h0d...   \n",
       "14136  https://news.google.com/rss/articles/CBMiSmh0d...   \n",
       "6154   https://news.google.com/rss/articles/CBMiTGh0d...   \n",
       "12823  https://news.google.com/rss/articles/CBMigAFod...   \n",
       "1532   https://news.google.com/rss/articles/CBMiWWh0d...   \n",
       "\n",
       "                                                 summary Country language  \\\n",
       "668    <a href=\"https://news.google.com/rss/articles/...      US       en   \n",
       "14136  <a href=\"https://news.google.com/rss/articles/...      BR       en   \n",
       "6154   <a href=\"https://news.google.com/rss/articles/...      FR       en   \n",
       "12823  <a href=\"https://news.google.com/rss/articles/...      RU       en   \n",
       "1532   <a href=\"https://news.google.com/rss/articles/...      GB       en   \n",
       "\n",
       "              tag  \n",
       "668        Sports  \n",
       "14136     Finance  \n",
       "6154     Business  \n",
       "12823   Education  \n",
       "1532   Technology  "
      ]
     },
     "execution_count": 5,
     "metadata": {},
     "output_type": "execute_result"
    }
   ],
   "source": [
    "df.sample(5)"
   ]
  },
  {
   "cell_type": "code",
   "execution_count": 6,
   "id": "796f9988",
   "metadata": {},
   "outputs": [
    {
     "data": {
      "text/plain": [
       "(15347, 8)"
      ]
     },
     "execution_count": 6,
     "metadata": {},
     "output_type": "execute_result"
    }
   ],
   "source": [
    "df.shape"
   ]
  },
  {
   "cell_type": "code",
   "execution_count": 7,
   "id": "2ee64ec8",
   "metadata": {},
   "outputs": [
    {
     "data": {
      "text/plain": [
       "'<a href=\"https://news.google.com/rss/articles/CBMiamh0dHBzOi8vdmFyaWV0eS5jb20vMjAyNC90di9uZXdzL3JpZGVyLXN0cm9uZy13aWxsLWZyaWVkbGUtYnJpYW4tcGVjay1ncm9vbWluZy1ib3ktbWVldHMtd29ybGQtMTIzNTkxNDU0NS_SAW5odHRwczovL3ZhcmlldHkuY29tLzIwMjQvdHYvbmV3cy9yaWRlci1zdHJvbmctd2lsbC1mcmllZGxlLWJyaWFuLXBlY2stZ3Jvb21pbmctYm95LW1lZXRzLXdvcmxkLTEyMzU5MTQ1NDUvYW1wLw?oc=5\" target=\"_blank\">Rider Strong and Will Friedle Detail Alleged Manipulation and Grooming by ‘Boy Meets World’ Guest Star Brian Peck</a>&nbsp;&nbsp;<font color=\"#6f6f6f\">Variety</font>'"
      ]
     },
     "execution_count": 7,
     "metadata": {},
     "output_type": "execute_result"
    }
   ],
   "source": [
    "df['summary'][0]"
   ]
  },
  {
   "cell_type": "code",
   "execution_count": 8,
   "id": "7735e1e8",
   "metadata": {},
   "outputs": [
    {
     "data": {
      "text/plain": [
       "Index(['title', 'Published_on', 'News_agency', 'URL', 'summary', 'Country',\n",
       "       'language', 'tag'],\n",
       "      dtype='object')"
      ]
     },
     "execution_count": 8,
     "metadata": {},
     "output_type": "execute_result"
    }
   ],
   "source": [
    "df.columns"
   ]
  },
  {
   "cell_type": "code",
   "execution_count": 9,
   "id": "8724d5ae",
   "metadata": {},
   "outputs": [
    {
     "data": {
      "text/plain": [
       "World            1325\n",
       "Entertainment    1307\n",
       "Education        1289\n",
       "Business         1287\n",
       "Environment      1284\n",
       "Sports           1280\n",
       "Finance          1278\n",
       "Science          1270\n",
       "Technology       1269\n",
       "Health           1265\n",
       "Nation           1256\n",
       "Politics         1237\n",
       "Name: tag, dtype: int64"
      ]
     },
     "execution_count": 9,
     "metadata": {},
     "output_type": "execute_result"
    }
   ],
   "source": [
    "df['tag'].value_counts()"
   ]
  },
  {
   "cell_type": "code",
   "execution_count": 10,
   "id": "1f18aabd",
   "metadata": {},
   "outputs": [
    {
     "data": {
      "text/plain": [
       "IN    1202\n",
       "CA    1193\n",
       "GB    1190\n",
       "US    1179\n",
       "DE    1179\n",
       "FR    1179\n",
       "ES    1179\n",
       "IT    1179\n",
       "JP    1179\n",
       "CN    1179\n",
       "RU    1179\n",
       "BR    1179\n",
       "AU    1151\n",
       "Name: Country, dtype: int64"
      ]
     },
     "execution_count": 10,
     "metadata": {},
     "output_type": "execute_result"
    }
   ],
   "source": [
    "df['Country'].value_counts()"
   ]
  },
  {
   "cell_type": "code",
   "execution_count": 11,
   "id": "94c89e3e",
   "metadata": {},
   "outputs": [
    {
     "data": {
      "text/plain": [
       "Yahoo Finance         575\n",
       "CNN                   504\n",
       "Business Insider      472\n",
       "CBS Sports            337\n",
       "The Guardian          319\n",
       "                     ... \n",
       "WKU News                1\n",
       "WSB Atlanta             1\n",
       "GuelphToday             1\n",
       "CTV News Vancouver      1\n",
       "DD News                 1\n",
       "Name: News_agency, Length: 1318, dtype: int64"
      ]
     },
     "execution_count": 11,
     "metadata": {},
     "output_type": "execute_result"
    }
   ],
   "source": [
    "df['News_agency'].value_counts()"
   ]
  },
  {
   "cell_type": "code",
   "execution_count": 12,
   "id": "a5a29ca5",
   "metadata": {},
   "outputs": [
    {
     "data": {
      "text/plain": [
       "en    15347\n",
       "Name: language, dtype: int64"
      ]
     },
     "execution_count": 12,
     "metadata": {},
     "output_type": "execute_result"
    }
   ],
   "source": [
    "df['language'].value_counts()"
   ]
  },
  {
   "cell_type": "markdown",
   "id": "eb7ad0fc",
   "metadata": {},
   "source": [
    "# Extracting only date from published_on"
   ]
  },
  {
   "cell_type": "code",
   "execution_count": 13,
   "id": "cc860882",
   "metadata": {},
   "outputs": [],
   "source": [
    "df['Published_on'] = pd.to_datetime(df['Published_on'], format=\"%a, %d %b %Y %H:%M:%S %Z\")\n",
    "df['year'] = df['Published_on'].dt.year"
   ]
  },
  {
   "cell_type": "code",
   "execution_count": 14,
   "id": "73c3c956",
   "metadata": {},
   "outputs": [
    {
     "data": {
      "text/plain": [
       "2024    15146\n",
       "2023      196\n",
       "2020        2\n",
       "2018        2\n",
       "2019        1\n",
       "Name: year, dtype: int64"
      ]
     },
     "execution_count": 14,
     "metadata": {},
     "output_type": "execute_result"
    }
   ],
   "source": [
    "df['year'].value_counts()"
   ]
  },
  {
   "cell_type": "markdown",
   "id": "c92e51a5",
   "metadata": {},
   "source": [
    "# Checking for Null Values"
   ]
  },
  {
   "cell_type": "code",
   "execution_count": 15,
   "id": "f58487b4",
   "metadata": {},
   "outputs": [
    {
     "data": {
      "text/plain": [
       "title           0.0\n",
       "Published_on    0.0\n",
       "News_agency     0.0\n",
       "URL             0.0\n",
       "summary         0.0\n",
       "Country         0.0\n",
       "language        0.0\n",
       "tag             0.0\n",
       "year            0.0\n",
       "dtype: float64"
      ]
     },
     "execution_count": 15,
     "metadata": {},
     "output_type": "execute_result"
    }
   ],
   "source": [
    "df.isna().mean() #checking percentage of null values "
   ]
  },
  {
   "cell_type": "markdown",
   "id": "01ec8b4e",
   "metadata": {},
   "source": [
    "# Checking for class imbalance"
   ]
  },
  {
   "cell_type": "code",
   "execution_count": 16,
   "id": "735078d8",
   "metadata": {},
   "outputs": [
    {
     "data": {
      "image/png": "[encoded data removed]",
      "text/plain": [
       "<Figure size 1000x600 with 1 Axes>"
      ]
     },
     "metadata": {},
     "output_type": "display_data"
    }
   ],
   "source": [
    "#using a countplot to see the distribution of tags\n",
    "plt.figure(figsize=(10,6))\n",
    "sns.countplot(data=df,x='tag',order=df['tag'].value_counts().index)\n",
    "plt.xticks(rotation=20)\n",
    "plt.title('Count of tags')\n",
    "plt.show()"
   ]
  },
  {
   "cell_type": "code",
   "execution_count": 17,
   "id": "dbc0551c",
   "metadata": {},
   "outputs": [
    {
     "data": {
      "image/png": "[encoded data removed]",
      "text/plain": [
       "<Figure size 1000x600 with 1 Axes>"
      ]
     },
     "metadata": {},
     "output_type": "display_data"
    }
   ],
   "source": [
    "#using a countplot to get count of news as per country\n",
    "plt.figure(figsize=(10,6))\n",
    "sns.countplot(data=df,x='Country',order=df['Country'].value_counts().index)\n",
    "plt.xticks(rotation=20)\n",
    "plt.title('Count of news as per country')\n",
    "plt.show()"
   ]
  },
  {
   "cell_type": "code",
   "execution_count": 18,
   "id": "f54b5767",
   "metadata": {},
   "outputs": [
    {
     "data": {
      "image/png": "[encoded data removed]",
      "text/plain": [
       "<Figure size 1000x600 with 1 Axes>"
      ]
     },
     "metadata": {},
     "output_type": "display_data"
    }
   ],
   "source": [
    "#using a countplot to get count of news as per year\n",
    "plt.figure(figsize=(10,6))\n",
    "sns.countplot(data=df,x='year',order=df['year'].value_counts().index)\n",
    "plt.xticks(rotation=20)\n",
    "plt.title('Count of news as per year')\n",
    "plt.show()"
   ]
  },
  {
   "cell_type": "code",
   "execution_count": 19,
   "id": "7c2a5c3e",
   "metadata": {},
   "outputs": [
    {
     "data": {
      "text/plain": [
       "<Axes: ylabel='tag'>"
      ]
     },
     "execution_count": 19,
     "metadata": {},
     "output_type": "execute_result"
    },
    {
     "data": {
      "image/png": "[encoded data removed]",
      "text/plain": [
       "<Figure size 640x480 with 1 Axes>"
      ]
     },
     "metadata": {},
     "output_type": "display_data"
    }
   ],
   "source": [
    "df['tag'].value_counts().plot(kind='pie',autopct='%.2f')"
   ]
  },
  {
   "cell_type": "markdown",
   "id": "1d1b6652",
   "metadata": {},
   "source": [
    "# Remove HTML content"
   ]
  },
  {
   "cell_type": "code",
   "execution_count": 20,
   "id": "f54f9a80",
   "metadata": {},
   "outputs": [
    {
     "data": {
      "text/plain": [
       "\"'Boy Meets World' Cast Addresses Brian Peck's Sexual Abuse ConvictionUs Weekly\""
      ]
     },
     "execution_count": 20,
     "metadata": {},
     "output_type": "execute_result"
    }
   ],
   "source": [
    "def strip_html(text):\n",
    "    soup = BeautifulSoup(text, \"html.parser\")\n",
    "    return re.sub(r'(\\xa0)', '', soup.get_text())\n",
    "\n",
    "df['summary'] = df['summary'].apply(strip_html)\n",
    "df['summary'][1]"
   ]
  },
  {
   "cell_type": "markdown",
   "id": "906d9f60",
   "metadata": {},
   "source": [
    "# Merging Summary and Title"
   ]
  },
  {
   "cell_type": "code",
   "execution_count": 21,
   "id": "5167e1a4",
   "metadata": {},
   "outputs": [],
   "source": [
    "df['Merged'] = df['title'] + ' - ' + df['summary']"
   ]
  },
  {
   "cell_type": "code",
   "execution_count": 22,
   "id": "56d36881",
   "metadata": {},
   "outputs": [
    {
     "data": {
      "text/plain": [
       "\"Sheffield Forgemasters announces 'global leap' in nuclear welding technology - Bdaily News - Sheffield Forgemasters announces 'global leap' in nuclear welding technologyBdaily News\""
      ]
     },
     "execution_count": 22,
     "metadata": {},
     "output_type": "execute_result"
    }
   ],
   "source": [
    "df['Merged'][1500]"
   ]
  },
  {
   "cell_type": "markdown",
   "id": "c194cc4b",
   "metadata": {},
   "source": [
    "# Convert to lowercase"
   ]
  },
  {
   "cell_type": "code",
   "execution_count": 23,
   "id": "6510ed4f",
   "metadata": {},
   "outputs": [
    {
     "data": {
      "text/plain": [
       "\"'boy meets world' cast addresses brian peck's sexual abuse conviction - us weekly - 'boy meets world' cast addresses brian peck's sexual abuse convictionus weekly\""
      ]
     },
     "execution_count": 23,
     "metadata": {},
     "output_type": "execute_result"
    }
   ],
   "source": [
    "df['Merged'] = df['Merged'].apply(lambda x: x.lower())\n",
    "df['Merged'][1]"
   ]
  },
  {
   "cell_type": "markdown",
   "id": "5a449e01",
   "metadata": {},
   "source": [
    "# Remove Punctuation\n"
   ]
  },
  {
   "cell_type": "code",
   "execution_count": 24,
   "id": "95bb8963",
   "metadata": {},
   "outputs": [
    {
     "data": {
      "text/plain": [
       "'rider strong and will friedle detail alleged manipulation and grooming by ‘boy meets world’ guest star brian peck  variety  rider strong and will friedle detail alleged manipulation and grooming by ‘boy meets world’ guest star brian peckvariety'"
      ]
     },
     "execution_count": 24,
     "metadata": {},
     "output_type": "execute_result"
    }
   ],
   "source": [
    "def punctuation_removal(text):\n",
    "    sp = string.punctuation\n",
    "    sp.join('“”’')\n",
    "    for p in sp:\n",
    "        text = text.replace(p, \"\")\n",
    "    return text\n",
    "\n",
    "df['Merged'] = df['Merged'].apply(punctuation_removal)\n",
    "df['Merged'][0]"
   ]
  },
  {
   "cell_type": "markdown",
   "id": "8a8c3ac6",
   "metadata": {},
   "source": [
    "# Tokenisation "
   ]
  },
  {
   "cell_type": "code",
   "execution_count": 25,
   "id": "c3642727",
   "metadata": {},
   "outputs": [],
   "source": [
    "def tokenization(text):\n",
    "    tokens = nltk.word_tokenize(text)\n",
    "    return tokens\n",
    "\n",
    "\n",
    "df['Merged'] = df['Merged'].apply(tokenization)\n"
   ]
  },
  {
   "cell_type": "code",
   "execution_count": 26,
   "id": "192be97e",
   "metadata": {},
   "outputs": [
    {
     "data": {
      "text/html": [
       "<div>\n",
       "<style scoped>\n",
       "    .dataframe tbody tr th:only-of-type {\n",
       "        vertical-align: middle;\n",
       "    }\n",
       "\n",
       "    .dataframe tbody tr th {\n",
       "        vertical-align: top;\n",
       "    }\n",
       "\n",
       "    .dataframe thead th {\n",
       "        text-align: right;\n",
       "    }\n",
       "</style>\n",
       "<table border=\"1\" class=\"dataframe\">\n",
       "  <thead>\n",
       "    <tr style=\"text-align: right;\">\n",
       "      <th></th>\n",
       "      <th>Merged</th>\n",
       "    </tr>\n",
       "  </thead>\n",
       "  <tbody>\n",
       "    <tr>\n",
       "      <th>0</th>\n",
       "      <td>[rider, strong, and, will, friedle, detail, al...</td>\n",
       "    </tr>\n",
       "    <tr>\n",
       "      <th>1</th>\n",
       "      <td>[boy, meets, world, cast, addresses, brian, pe...</td>\n",
       "    </tr>\n",
       "    <tr>\n",
       "      <th>2</th>\n",
       "      <td>[boy, meets, world, stars, discuss, former, fr...</td>\n",
       "    </tr>\n",
       "    <tr>\n",
       "      <th>3</th>\n",
       "      <td>[charted, share, of, world, forests, by, count...</td>\n",
       "    </tr>\n",
       "    <tr>\n",
       "      <th>4</th>\n",
       "      <td>[fbi, and, allies, seize, darkweb, site, of, w...</td>\n",
       "    </tr>\n",
       "    <tr>\n",
       "      <th>...</th>\n",
       "      <td>...</td>\n",
       "    </tr>\n",
       "    <tr>\n",
       "      <th>15342</th>\n",
       "      <td>[capital, small, finance, bank, ipo, allotment...</td>\n",
       "    </tr>\n",
       "    <tr>\n",
       "      <th>15343</th>\n",
       "      <td>[capital, one, to, buy, discover, financial, i...</td>\n",
       "    </tr>\n",
       "    <tr>\n",
       "      <th>15344</th>\n",
       "      <td>[municipal, finance, shapes, urban, climate, a...</td>\n",
       "    </tr>\n",
       "    <tr>\n",
       "      <th>15345</th>\n",
       "      <td>[earnings, season, ends, today, mm, muthoot, f...</td>\n",
       "    </tr>\n",
       "    <tr>\n",
       "      <th>15346</th>\n",
       "      <td>[defence, stock, financial, services, player, ...</td>\n",
       "    </tr>\n",
       "  </tbody>\n",
       "</table>\n",
       "<p>15347 rows × 1 columns</p>\n",
       "</div>"
      ],
      "text/plain": [
       "                                                  Merged\n",
       "0      [rider, strong, and, will, friedle, detail, al...\n",
       "1      [boy, meets, world, cast, addresses, brian, pe...\n",
       "2      [boy, meets, world, stars, discuss, former, fr...\n",
       "3      [charted, share, of, world, forests, by, count...\n",
       "4      [fbi, and, allies, seize, darkweb, site, of, w...\n",
       "...                                                  ...\n",
       "15342  [capital, small, finance, bank, ipo, allotment...\n",
       "15343  [capital, one, to, buy, discover, financial, i...\n",
       "15344  [municipal, finance, shapes, urban, climate, a...\n",
       "15345  [earnings, season, ends, today, mm, muthoot, f...\n",
       "15346  [defence, stock, financial, services, player, ...\n",
       "\n",
       "[15347 rows x 1 columns]"
      ]
     },
     "execution_count": 26,
     "metadata": {},
     "output_type": "execute_result"
    }
   ],
   "source": [
    "df[['Merged']]"
   ]
  },
  {
   "cell_type": "markdown",
   "id": "cfb298c7",
   "metadata": {},
   "source": [
    "# Remove Stopwords"
   ]
  },
  {
   "cell_type": "code",
   "execution_count": null,
   "id": "ae48d384",
   "metadata": {},
   "outputs": [],
   "source": [
    "stopwords = nltk.corpus.stopwords.words('english')\n",
    "i=0\n",
    "def remove_stopwords(text):\n",
    "    output = []\n",
    "    for w in text:\n",
    "        if w not in stopwords and len(w)>4:\n",
    "            output.append(w)\n",
    "    return output\n",
    "\n",
    "df['Merged'] = df['Merged'].apply(remove_stopwords)\n"
   ]
  },
  {
   "cell_type": "code",
   "execution_count": null,
   "id": "611ae8aa",
   "metadata": {},
   "outputs": [],
   "source": [
    "df[['Merged']]"
   ]
  },
  {
   "cell_type": "markdown",
   "id": "c88df5f8",
   "metadata": {},
   "source": [
    "# Lemmatize the words"
   ]
  },
  {
   "cell_type": "code",
   "execution_count": null,
   "id": "51a23ab6",
   "metadata": {},
   "outputs": [],
   "source": [
    "wordnet_lemmatizer = WordNetLemmatizer()\n",
    "\n",
    "def lemmatizer(text):\n",
    "    lemm_text = ' '.join([wordnet_lemmatizer.lemmatize(word) for word in text])\n",
    "    return lemm_text\n",
    "\n",
    "df['Merged'] = df['Merged'].apply(lemmatizer)\n"
   ]
  },
  {
   "cell_type": "code",
   "execution_count": null,
   "id": "60917ebf",
   "metadata": {},
   "outputs": [],
   "source": [
    "df[['Merged']][:5]"
   ]
  },
  {
   "cell_type": "markdown",
   "id": "87e4aa20",
   "metadata": {},
   "source": [
    "# WordCloud"
   ]
  },
  {
   "cell_type": "code",
   "execution_count": null,
   "id": "cfc15f4d",
   "metadata": {},
   "outputs": [],
   "source": [
    "from wordcloud import WordCloud\n"
   ]
  },
  {
   "cell_type": "code",
   "execution_count": null,
   "id": "805216d5",
   "metadata": {},
   "outputs": [],
   "source": [
    "# Generate a word cloud image\n",
    "text= df['Merged'].to_string()\n",
    "\n",
    "plt.figure(figsize = (20,20))\n",
    "\n",
    "wordcloud = WordCloud(max_words = 100 , width = 1000 , height = 1000 , background_color=\"white\").generate(text)\n",
    "\n",
    "# Display the generated image:\n",
    "# the matplotlib way:\n",
    "plt.imshow(wordcloud, interpolation='bilinear')\n",
    "plt.axis(\"off\")\n",
    "plt.show()"
   ]
  },
  {
   "cell_type": "markdown",
   "id": "8346da3b",
   "metadata": {},
   "source": [
    "# Tfidf Word Cloud"
   ]
  },
  {
   "cell_type": "code",
   "execution_count": null,
   "id": "083368de",
   "metadata": {},
   "outputs": [],
   "source": [
    "vectorizer_tfidf = TfidfVectorizer()\n",
    "\n",
    "X_tfidf = vectorizer_tfidf.fit_transform(df['Merged'])\n",
    "\n",
    "feature_names_tfidf = vectorizer_tfidf.get_feature_names_out()\n",
    "\n",
    "tfidf_text = ' '.join(feature_names_tfidf)\n",
    "\n",
    "wordcloud_tfidf = WordCloud(width=800, height=400, background_color='white').generate(tfidf_text)\n",
    "\n",
    "# Plot the word cloud\n",
    "plt.figure(figsize=(10, 6))\n",
    "plt.imshow(wordcloud_tfidf, interpolation='bilinear')\n",
    "plt.axis('off')\n",
    "plt.title('Word Cloud - TF-IDF')\n",
    "plt.show()"
   ]
  },
  {
   "cell_type": "code",
   "execution_count": null,
   "id": "871abf94",
   "metadata": {},
   "outputs": [],
   "source": [
    "feature_names_tfidf[:100]"
   ]
  },
  {
   "cell_type": "markdown",
   "id": "1121d0c4",
   "metadata": {},
   "source": [
    "# CountVectoriser WordCloud"
   ]
  },
  {
   "cell_type": "code",
   "execution_count": null,
   "id": "4df9fa26",
   "metadata": {},
   "outputs": [],
   "source": [
    "vectorizer_bow = CountVectorizer()\n",
    "\n",
    "X_bow = vectorizer_bow.fit_transform(df['Merged'])\n",
    "\n",
    "feature_names_bow = vectorizer_bow.get_feature_names_out()\n",
    "\n",
    "bow_text = ' '.join(feature_names_bow)\n",
    "\n",
    "wordcloud_bow = WordCloud(width=800, height=400, background_color='white').generate(bow_text)\n",
    "\n",
    "# Plot the word cloud\n",
    "plt.figure(figsize=(10, 6))\n",
    "plt.imshow(wordcloud_bow, interpolation='bilinear')\n",
    "plt.axis('off')\n",
    "plt.title('Word Cloud - Bag of Words (BoW)')\n",
    "plt.show()"
   ]
  },
  {
   "cell_type": "code",
   "execution_count": null,
   "id": "d7894724",
   "metadata": {},
   "outputs": [],
   "source": [
    "feature_names_bow[:100]"
   ]
  },
  {
   "cell_type": "code",
   "execution_count": null,
   "id": "384ba812",
   "metadata": {},
   "outputs": [],
   "source": [
    "# showing the frequency distribution of words\n",
    "plt.figure(figsize=(8, 6))\n",
    "sns.histplot(data=df, x=df['Merged'].apply(lambda x: len(x.split())), bins=20, kde=True, color='forestgreen')\n",
    "plt.title('Distribution of Number of Words in cleaned data')\n",
    "plt.xlabel('Number of Words')\n",
    "plt.ylabel('Frequency')\n",
    "plt.show()"
   ]
  },
  {
   "cell_type": "code",
   "execution_count": null,
   "id": "6f4f6898",
   "metadata": {},
   "outputs": [],
   "source": []
  },
  {
   "cell_type": "markdown",
   "id": "7ac9ce7f",
   "metadata": {},
   "source": [
    "# Save Preprocessed data "
   ]
  },
  {
   "cell_type": "code",
   "execution_count": null,
   "id": "396cb15f",
   "metadata": {},
   "outputs": [],
   "source": [
    "df.to_csv(\"../DATASET/PreprocessedData.csv\", index=False)"
   ]
  },
  {
   "cell_type": "code",
   "execution_count": null,
   "id": "4293a6d0",
   "metadata": {},
   "outputs": [],
   "source": []
  }
 ],
 "metadata": {
  "kernelspec": {
   "display_name": "Python 3 (ipykernel)",
   "language": "python",
   "name": "python3"
  },
  "language_info": {
   "codemirror_mode": {
    "name": "ipython",
    "version": 3
   },
   "file_extension": ".py",
   "mimetype": "text/x-python",
   "name": "python",
   "nbconvert_exporter": "python",
   "pygments_lexer": "ipython3",
   "version": "3.11.4"
  }
 },
 "nbformat": 4,
 "nbformat_minor": 5
}

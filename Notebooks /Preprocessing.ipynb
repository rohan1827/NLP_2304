{
 "cells": [
  {
   "cell_type": "code",
   "execution_count": 1,
   "id": "30a15951",
   "metadata": {},
   "outputs": [],
   "source": [
    "import pandas as pd \n",
    "\n",
    "\n",
    "from bs4 import BeautifulSoup\n",
    "\n",
    "import regex as re \n",
    "import string\n",
    "import nltk\n",
    "from nltk.stem import WordNetLemmatizer\n",
    "\n",
    "import warnings\n",
    "warnings.filterwarnings('ignore')\n",
    "\n",
    "import seaborn as sns\n",
    "import matplotlib.pyplot as plt\n"
   ]
  },
  {
   "cell_type": "code",
   "execution_count": 2,
   "id": "51d9d9fe",
   "metadata": {},
   "outputs": [],
   "source": [
    "df= pd.read_csv(\"DATASET/Google_data\")"
   ]
  },
  {
   "cell_type": "code",
   "execution_count": 3,
   "id": "fe56072a",
   "metadata": {},
   "outputs": [
    {
     "data": {
      "text/html": [
       "<div>\n",
       "<style scoped>\n",
       "    .dataframe tbody tr th:only-of-type {\n",
       "        vertical-align: middle;\n",
       "    }\n",
       "\n",
       "    .dataframe tbody tr th {\n",
       "        vertical-align: top;\n",
       "    }\n",
       "\n",
       "    .dataframe thead th {\n",
       "        text-align: right;\n",
       "    }\n",
       "</style>\n",
       "<table border=\"1\" class=\"dataframe\">\n",
       "  <thead>\n",
       "    <tr style=\"text-align: right;\">\n",
       "      <th></th>\n",
       "      <th>Unnamed: 0</th>\n",
       "      <th>title</th>\n",
       "      <th>Published_on</th>\n",
       "      <th>News_agency</th>\n",
       "      <th>URL</th>\n",
       "      <th>summary</th>\n",
       "      <th>Country</th>\n",
       "      <th>language</th>\n",
       "      <th>tag</th>\n",
       "    </tr>\n",
       "  </thead>\n",
       "  <tbody>\n",
       "    <tr>\n",
       "      <th>0</th>\n",
       "      <td>0</td>\n",
       "      <td>Alexei Navalny death latest: Putin critic’s ‘b...</td>\n",
       "      <td>Mon, 19 Feb 2024 00:01:00 GMT</td>\n",
       "      <td>The Independent</td>\n",
       "      <td>https://news.google.com/rss/articles/CBMic2h0d...</td>\n",
       "      <td>&lt;ol&gt;&lt;li&gt;&lt;a href=\"https://news.google.com/rss/a...</td>\n",
       "      <td>US</td>\n",
       "      <td>en</td>\n",
       "      <td>World</td>\n",
       "    </tr>\n",
       "    <tr>\n",
       "      <th>1</th>\n",
       "      <td>1</td>\n",
       "      <td>U.S. military reports 1st Houthi unmanned unde...</td>\n",
       "      <td>Sun, 18 Feb 2024 22:23:17 GMT</td>\n",
       "      <td>CBS News</td>\n",
       "      <td>https://news.google.com/rss/articles/CBMiW2h0d...</td>\n",
       "      <td>&lt;ol&gt;&lt;li&gt;&lt;a href=\"https://news.google.com/rss/a...</td>\n",
       "      <td>US</td>\n",
       "      <td>en</td>\n",
       "      <td>World</td>\n",
       "    </tr>\n",
       "    <tr>\n",
       "      <th>2</th>\n",
       "      <td>2</td>\n",
       "      <td>The latest on the Israel-Hamas war: Live updat...</td>\n",
       "      <td>Sun, 18 Feb 2024 21:21:00 GMT</td>\n",
       "      <td>CNN</td>\n",
       "      <td>https://news.google.com/rss/articles/CBMiV2h0d...</td>\n",
       "      <td>&lt;ol&gt;&lt;li&gt;&lt;a href=\"https://news.google.com/rss/a...</td>\n",
       "      <td>US</td>\n",
       "      <td>en</td>\n",
       "      <td>World</td>\n",
       "    </tr>\n",
       "    <tr>\n",
       "      <th>3</th>\n",
       "      <td>3</td>\n",
       "      <td>Russia takes full control of Avdiivka, as Kyiv...</td>\n",
       "      <td>Sun, 18 Feb 2024 16:57:00 GMT</td>\n",
       "      <td>POLITICO Europe</td>\n",
       "      <td>https://news.google.com/rss/articles/CBMiaGh0d...</td>\n",
       "      <td>&lt;ol&gt;&lt;li&gt;&lt;a href=\"https://news.google.com/rss/a...</td>\n",
       "      <td>US</td>\n",
       "      <td>en</td>\n",
       "      <td>World</td>\n",
       "    </tr>\n",
       "    <tr>\n",
       "      <th>4</th>\n",
       "      <td>4</td>\n",
       "      <td>Brazil's President Angers Israel After Compari...</td>\n",
       "      <td>Sun, 18 Feb 2024 21:46:16 GMT</td>\n",
       "      <td>The New York Times</td>\n",
       "      <td>https://news.google.com/rss/articles/CBMiWmh0d...</td>\n",
       "      <td>&lt;ol&gt;&lt;li&gt;&lt;a href=\"https://news.google.com/rss/a...</td>\n",
       "      <td>US</td>\n",
       "      <td>en</td>\n",
       "      <td>World</td>\n",
       "    </tr>\n",
       "  </tbody>\n",
       "</table>\n",
       "</div>"
      ],
      "text/plain": [
       "   Unnamed: 0                                              title  \\\n",
       "0           0  Alexei Navalny death latest: Putin critic’s ‘b...   \n",
       "1           1  U.S. military reports 1st Houthi unmanned unde...   \n",
       "2           2  The latest on the Israel-Hamas war: Live updat...   \n",
       "3           3  Russia takes full control of Avdiivka, as Kyiv...   \n",
       "4           4  Brazil's President Angers Israel After Compari...   \n",
       "\n",
       "                    Published_on         News_agency  \\\n",
       "0  Mon, 19 Feb 2024 00:01:00 GMT     The Independent   \n",
       "1  Sun, 18 Feb 2024 22:23:17 GMT            CBS News   \n",
       "2  Sun, 18 Feb 2024 21:21:00 GMT                 CNN   \n",
       "3  Sun, 18 Feb 2024 16:57:00 GMT     POLITICO Europe   \n",
       "4  Sun, 18 Feb 2024 21:46:16 GMT  The New York Times   \n",
       "\n",
       "                                                 URL  \\\n",
       "0  https://news.google.com/rss/articles/CBMic2h0d...   \n",
       "1  https://news.google.com/rss/articles/CBMiW2h0d...   \n",
       "2  https://news.google.com/rss/articles/CBMiV2h0d...   \n",
       "3  https://news.google.com/rss/articles/CBMiaGh0d...   \n",
       "4  https://news.google.com/rss/articles/CBMiWmh0d...   \n",
       "\n",
       "                                             summary Country language    tag  \n",
       "0  <ol><li><a href=\"https://news.google.com/rss/a...      US       en  World  \n",
       "1  <ol><li><a href=\"https://news.google.com/rss/a...      US       en  World  \n",
       "2  <ol><li><a href=\"https://news.google.com/rss/a...      US       en  World  \n",
       "3  <ol><li><a href=\"https://news.google.com/rss/a...      US       en  World  \n",
       "4  <ol><li><a href=\"https://news.google.com/rss/a...      US       en  World  "
      ]
     },
     "execution_count": 3,
     "metadata": {},
     "output_type": "execute_result"
    }
   ],
   "source": [
    "df.head()"
   ]
  },
  {
   "cell_type": "code",
   "execution_count": 4,
   "id": "3f81acf6",
   "metadata": {},
   "outputs": [
    {
     "data": {
      "text/html": [
       "<div>\n",
       "<style scoped>\n",
       "    .dataframe tbody tr th:only-of-type {\n",
       "        vertical-align: middle;\n",
       "    }\n",
       "\n",
       "    .dataframe tbody tr th {\n",
       "        vertical-align: top;\n",
       "    }\n",
       "\n",
       "    .dataframe thead th {\n",
       "        text-align: right;\n",
       "    }\n",
       "</style>\n",
       "<table border=\"1\" class=\"dataframe\">\n",
       "  <thead>\n",
       "    <tr style=\"text-align: right;\">\n",
       "      <th></th>\n",
       "      <th>Unnamed: 0</th>\n",
       "      <th>title</th>\n",
       "      <th>Published_on</th>\n",
       "      <th>News_agency</th>\n",
       "      <th>URL</th>\n",
       "      <th>summary</th>\n",
       "      <th>Country</th>\n",
       "      <th>language</th>\n",
       "      <th>tag</th>\n",
       "    </tr>\n",
       "  </thead>\n",
       "  <tbody>\n",
       "    <tr>\n",
       "      <th>1709</th>\n",
       "      <td>1709</td>\n",
       "      <td>Apple: How the company evolved into a global t...</td>\n",
       "      <td>Sat, 17 Feb 2024 13:00:04 GMT</td>\n",
       "      <td>Yahoo Finance</td>\n",
       "      <td>https://news.google.com/rss/articles/CCAiCzM5U...</td>\n",
       "      <td>&lt;ol&gt;&lt;li&gt;&lt;a href=\"https://news.google.com/rss/a...</td>\n",
       "      <td>CA</td>\n",
       "      <td>en</td>\n",
       "      <td>Technology</td>\n",
       "    </tr>\n",
       "    <tr>\n",
       "      <th>701</th>\n",
       "      <td>701</td>\n",
       "      <td>Bordeaux : il se fait voler sa montre connecté...</td>\n",
       "      <td>Sun, 18 Feb 2024 15:27:47 GMT</td>\n",
       "      <td>Sud Ouest</td>\n",
       "      <td>https://news.google.com/rss/articles/CBMihQFod...</td>\n",
       "      <td>&lt;a href=\"https://news.google.com/rss/articles/...</td>\n",
       "      <td>US</td>\n",
       "      <td>fr</td>\n",
       "      <td>Technology</td>\n",
       "    </tr>\n",
       "    <tr>\n",
       "      <th>304</th>\n",
       "      <td>304</td>\n",
       "      <td>20 Days in Mariupol wins Documentary | BAFTA F...</td>\n",
       "      <td>Sun, 18 Feb 2024 22:13:35 GMT</td>\n",
       "      <td>BBC</td>\n",
       "      <td>https://news.google.com/rss/articles/CCAiC1czc...</td>\n",
       "      <td>&lt;ol&gt;&lt;li&gt;&lt;a href=\"https://news.google.com/rss/a...</td>\n",
       "      <td>US</td>\n",
       "      <td>en</td>\n",
       "      <td>Entertainment</td>\n",
       "    </tr>\n",
       "    <tr>\n",
       "      <th>2948</th>\n",
       "      <td>2948</td>\n",
       "      <td>Tres trabajadores del hospital de Durán, deten...</td>\n",
       "      <td>Sat, 10 Feb 2024 08:00:00 GMT</td>\n",
       "      <td>El Universo</td>\n",
       "      <td>https://news.google.com/rss/articles/CBMikAFod...</td>\n",
       "      <td>&lt;a href=\"https://news.google.com/rss/articles/...</td>\n",
       "      <td>CA</td>\n",
       "      <td>es</td>\n",
       "      <td>Health</td>\n",
       "    </tr>\n",
       "    <tr>\n",
       "      <th>1380</th>\n",
       "      <td>1380</td>\n",
       "      <td>¿Por qué odiamos esperar? Esto es lo que dicen...</td>\n",
       "      <td>Sun, 18 Feb 2024 03:30:00 GMT</td>\n",
       "      <td>El Debate</td>\n",
       "      <td>https://news.google.com/rss/articles/CBMibWh0d...</td>\n",
       "      <td>&lt;a href=\"https://news.google.com/rss/articles/...</td>\n",
       "      <td>US</td>\n",
       "      <td>es</td>\n",
       "      <td>Health</td>\n",
       "    </tr>\n",
       "  </tbody>\n",
       "</table>\n",
       "</div>"
      ],
      "text/plain": [
       "      Unnamed: 0                                              title  \\\n",
       "1709        1709  Apple: How the company evolved into a global t...   \n",
       "701          701  Bordeaux : il se fait voler sa montre connecté...   \n",
       "304          304  20 Days in Mariupol wins Documentary | BAFTA F...   \n",
       "2948        2948  Tres trabajadores del hospital de Durán, deten...   \n",
       "1380        1380  ¿Por qué odiamos esperar? Esto es lo que dicen...   \n",
       "\n",
       "                       Published_on    News_agency  \\\n",
       "1709  Sat, 17 Feb 2024 13:00:04 GMT  Yahoo Finance   \n",
       "701   Sun, 18 Feb 2024 15:27:47 GMT      Sud Ouest   \n",
       "304   Sun, 18 Feb 2024 22:13:35 GMT            BBC   \n",
       "2948  Sat, 10 Feb 2024 08:00:00 GMT    El Universo   \n",
       "1380  Sun, 18 Feb 2024 03:30:00 GMT      El Debate   \n",
       "\n",
       "                                                    URL  \\\n",
       "1709  https://news.google.com/rss/articles/CCAiCzM5U...   \n",
       "701   https://news.google.com/rss/articles/CBMihQFod...   \n",
       "304   https://news.google.com/rss/articles/CCAiC1czc...   \n",
       "2948  https://news.google.com/rss/articles/CBMikAFod...   \n",
       "1380  https://news.google.com/rss/articles/CBMibWh0d...   \n",
       "\n",
       "                                                summary Country language  \\\n",
       "1709  <ol><li><a href=\"https://news.google.com/rss/a...      CA       en   \n",
       "701   <a href=\"https://news.google.com/rss/articles/...      US       fr   \n",
       "304   <ol><li><a href=\"https://news.google.com/rss/a...      US       en   \n",
       "2948  <a href=\"https://news.google.com/rss/articles/...      CA       es   \n",
       "1380  <a href=\"https://news.google.com/rss/articles/...      US       es   \n",
       "\n",
       "                tag  \n",
       "1709     Technology  \n",
       "701      Technology  \n",
       "304   Entertainment  \n",
       "2948         Health  \n",
       "1380         Health  "
      ]
     },
     "execution_count": 4,
     "metadata": {},
     "output_type": "execute_result"
    }
   ],
   "source": [
    "df.sample(5)"
   ]
  },
  {
   "cell_type": "code",
   "execution_count": 5,
   "id": "796f9988",
   "metadata": {},
   "outputs": [
    {
     "data": {
      "text/plain": [
       "(2962, 9)"
      ]
     },
     "execution_count": 5,
     "metadata": {},
     "output_type": "execute_result"
    }
   ],
   "source": [
    "df.shape"
   ]
  },
  {
   "cell_type": "code",
   "execution_count": 6,
   "id": "2ee64ec8",
   "metadata": {},
   "outputs": [
    {
     "data": {
      "text/plain": [
       "'<ol><li><a href=\"https://news.google.com/rss/articles/CBMic2h0dHBzOi8vd3d3LmluZGVwZW5kZW50LmNvLnVrL25ld3Mvd29ybGQvZXVyb3BlL2FsZXhlaS1uYXZhbG55LWJvZHktbWlzc2luZy1kZWF0aC1ydXNzaWEtcHV0aW4tcHJpc29uLWIyNDk4MTU2Lmh0bWzSAQA?oc=5\" target=\"_blank\">Alexei Navalny death latest: Putin critic’s ‘bruised body seen in morgue’ as family demands it is returned</a>&nbsp;&nbsp;<font color=\"#6f6f6f\">The Independent</font></li><li><a href=\"https://news.google.com/rss/articles/CBMid2h0dHBzOi8vd3d3LmZveG5ld3MuY29tL3dvcmxkL25hdmFsbnlzLWJvZHktcmVwb3J0ZWRseS1mb3VuZC1zaWducy1icnVpc2luZy1ydXNzaWEtY2xhaW1zLWhlLWRpZWQtc3VkZGVuLWRlYXRoLXN5bmRyb21l0gF7aHR0cHM6Ly93d3cuZm94bmV3cy5jb20vd29ybGQvbmF2YWxueXMtYm9keS1yZXBvcnRlZGx5LWZvdW5kLXNpZ25zLWJydWlzaW5nLXJ1c3NpYS1jbGFpbXMtaGUtZGllZC1zdWRkZW4tZGVhdGgtc3luZHJvbWUuYW1w?oc=5\" target=\"_blank\">Navalny\\'s body reportedly found with \\'signs of bruising\\' as Russia claims he died of \\'sudden death syndrome\\'</a>&nbsp;&nbsp;<font color=\"#6f6f6f\">Fox News</font></li><li><a href=\"https://news.google.com/rss/articles/CBMidGh0dHBzOi8vdGhlaGlsbC5jb20vcG9saWN5L2ludGVybmF0aW9uYWwvNDQ3NjE4My11a3JhaW5pYW4tb2ZmaWNpYWwtbmF2YWxueXMtZGVhdGgtc2hvd3MtcHV0aW4taXMtdGhlLXVsdGltYXRlLWV2aWwv0gF4aHR0cHM6Ly90aGVoaWxsLmNvbS9wb2xpY3kvaW50ZXJuYXRpb25hbC80NDc2MTgzLXVrcmFpbmlhbi1vZmZpY2lhbC1uYXZhbG55cy1kZWF0aC1zaG93cy1wdXRpbi1pcy10aGUtdWx0aW1hdGUtZXZpbC9hbXAv?oc=5\" target=\"_blank\">Ukrainian official: Navalny’s death shows ‘Putin is the ultimate evil’</a>&nbsp;&nbsp;<font color=\"#6f6f6f\">The Hill</font></li><li><a href=\"https://news.google.com/rss/articles/CBMiYmh0dHBzOi8vd3d3LmNubi5jb20vMjAyNC8wMi8xOC9vcGluaW9ucy9uYXZhbG55LXB1dGluLXRydW1wLWJpZGVuLWNob2ljZXMtY29sdW1uLWdhbGFudC9pbmRleC5odG1s0gFmaHR0cHM6Ly9hbXAuY25uLmNvbS9jbm4vMjAyNC8wMi8xOC9vcGluaW9ucy9uYXZhbG55LXB1dGluLXRydW1wLWJpZGVuLWNob2ljZXMtY29sdW1uLWdhbGFudC9pbmRleC5odG1s?oc=5\" target=\"_blank\">Opinion: One man who stood up to a dictatorship</a>&nbsp;&nbsp;<font color=\"#6f6f6f\">CNN</font></li><li><a href=\"https://news.google.com/rss/articles/CBMiUGh0dHBzOi8vd3d3Lm55dGltZXMuY29tLzIwMjQvMDIvMTgvd29ybGQvZXVyb3BlL3J1c3NpYW4tb3Bwb3NpdGlvbi1pbi1leGlsZS5odG1s0gEA?oc=5\" target=\"_blank\">A Stunned Russian Opposition in Exile Considers a Future Without Navalny</a>&nbsp;&nbsp;<font color=\"#6f6f6f\">The New York Times</font></li></ol>'"
      ]
     },
     "execution_count": 6,
     "metadata": {},
     "output_type": "execute_result"
    }
   ],
   "source": [
    "df['summary'][0]"
   ]
  },
  {
   "cell_type": "markdown",
   "id": "c92e51a5",
   "metadata": {},
   "source": [
    "# Checking for Null Values"
   ]
  },
  {
   "cell_type": "code",
   "execution_count": 7,
   "id": "f58487b4",
   "metadata": {},
   "outputs": [
    {
     "data": {
      "text/plain": [
       "Unnamed: 0      0.0\n",
       "title           0.0\n",
       "Published_on    0.0\n",
       "News_agency     0.0\n",
       "URL             0.0\n",
       "summary         0.0\n",
       "Country         0.0\n",
       "language        0.0\n",
       "tag             0.0\n",
       "dtype: float64"
      ]
     },
     "execution_count": 7,
     "metadata": {},
     "output_type": "execute_result"
    }
   ],
   "source": [
    "df.isna().mean() #checking percentage of null values "
   ]
  },
  {
   "cell_type": "code",
   "execution_count": 8,
   "id": "0d69f71d",
   "metadata": {},
   "outputs": [
    {
     "data": {
      "text/plain": [
       "Index(['Unnamed: 0', 'title', 'Published_on', 'News_agency', 'URL', 'summary',\n",
       "       'Country', 'language', 'tag'],\n",
       "      dtype='object')"
      ]
     },
     "execution_count": 8,
     "metadata": {},
     "output_type": "execute_result"
    }
   ],
   "source": [
    "df.columns"
   ]
  },
  {
   "cell_type": "markdown",
   "id": "01ec8b4e",
   "metadata": {},
   "source": [
    "# Checking for class imbalance"
   ]
  },
  {
   "cell_type": "code",
   "execution_count": 39,
   "id": "735078d8",
   "metadata": {},
   "outputs": [
    {
     "data": {
      "image/png": "[encoded data removed]",
      "text/plain": [
       "<Figure size 1000x600 with 1 Axes>"
      ]
     },
     "metadata": {},
     "output_type": "display_data"
    }
   ],
   "source": [
    "#using a countplot to see the distribution of tags\n",
    "plt.figure(figsize=(10,6))\n",
    "sns.countplot(data=df,x='tag',order=df['tag'].value_counts().index)\n",
    "plt.xticks(rotation=20)\n",
    "plt.title('Count of tags')\n",
    "plt.show()"
   ]
  },
  {
   "cell_type": "code",
   "execution_count": 38,
   "id": "e32742f4",
   "metadata": {},
   "outputs": [
    {
     "data": {
      "image/png": "[encoded data removed]",
      "text/plain": [
       "<Figure size 1000x600 with 1 Axes>"
      ]
     },
     "metadata": {},
     "output_type": "display_data"
    }
   ],
   "source": [
    "#using a countplot to get language of each country\n",
    "plt.figure(figsize=(10,6))\n",
    "sns.countplot(data=df,x='Country',order=df['Country'].value_counts().index,hue='language')\n",
    "plt.xticks(rotation=20)\n",
    "plt.title('Count of language of as per country')\n",
    "plt.show()"
   ]
  },
  {
   "cell_type": "code",
   "execution_count": 36,
   "id": "dbc0551c",
   "metadata": {},
   "outputs": [
    {
     "data": {
      "image/png": "[encoded data removed]",
      "text/plain": [
       "<Figure size 1000x600 with 1 Axes>"
      ]
     },
     "metadata": {},
     "output_type": "display_data"
    }
   ],
   "source": [
    "#using a countplot to get count of tags as per country\n",
    "plt.figure(figsize=(10,6))\n",
    "sns.countplot(data=df,x='Country',order=df['Country'].value_counts().index,hue='tag')\n",
    "plt.xticks(rotation=20)\n",
    "plt.title('Count of tags as per country')\n",
    "plt.show()"
   ]
  },
  {
   "cell_type": "code",
   "execution_count": 10,
   "id": "7c2a5c3e",
   "metadata": {},
   "outputs": [
    {
     "data": {
      "text/plain": [
       "<Axes: ylabel='tag'>"
      ]
     },
     "execution_count": 10,
     "metadata": {},
     "output_type": "execute_result"
    },
    {
     "data": {
      "image/png": "[encoded data removed]",
      "text/plain": [
       "<Figure size 640x480 with 1 Axes>"
      ]
     },
     "metadata": {},
     "output_type": "display_data"
    }
   ],
   "source": [
    "df['tag'].value_counts().plot(kind='pie',autopct='%.2f')"
   ]
  },
  {
   "cell_type": "markdown",
   "id": "1d1b6652",
   "metadata": {},
   "source": [
    "# Remove HTML content"
   ]
  },
  {
   "cell_type": "code",
   "execution_count": 11,
   "id": "f54f9a80",
   "metadata": {},
   "outputs": [
    {
     "data": {
      "text/plain": [
       "\"U.S. military reports 1st Houthi unmanned underwater vessel in Red Sea\\xa0\\xa0CBS NewsNavy counters Houthi Red Sea attacks in its first major battle at sea of the 21st century\\xa0\\xa0CBS NewsWhat it's like aboard a US warship on the frontlines of the Red Sea fight: Reporter's notebook\\xa0\\xa0ABC NewsUS launches 5 airstrikes against Houthi anti-ship missiles, destroys underwater drone\\xa0\\xa0Fox NewsOne U.S. Navy secret weapon in the Red Sea? Sailor morale\\xa0\\xa0CBS News\""
      ]
     },
     "execution_count": 11,
     "metadata": {},
     "output_type": "execute_result"
    }
   ],
   "source": [
    "def strip_html(text):\n",
    "    soup = BeautifulSoup(text, \"html.parser\")\n",
    "    return soup.get_text()\n",
    "\n",
    "df['summary'] = df['summary'].apply(strip_html)\n",
    "df['summary'][1]"
   ]
  },
  {
   "cell_type": "markdown",
   "id": "b0187530",
   "metadata": {},
   "source": [
    "# Understanding Data"
   ]
  },
  {
   "cell_type": "code",
   "execution_count": 12,
   "id": "23798158",
   "metadata": {},
   "outputs": [
    {
     "data": {
      "text/plain": [
       "Technology       420\n",
       "Entertainment    418\n",
       "Sports           381\n",
       "Science          380\n",
       "Nation           374\n",
       "Health           369\n",
       "World            314\n",
       "Business         306\n",
       "Name: tag, dtype: int64"
      ]
     },
     "execution_count": 12,
     "metadata": {},
     "output_type": "execute_result"
    }
   ],
   "source": [
    "df['tag'].value_counts()"
   ]
  },
  {
   "cell_type": "code",
   "execution_count": 13,
   "id": "46122ddf",
   "metadata": {},
   "outputs": [
    {
     "data": {
      "text/plain": [
       "CA    1519\n",
       "US    1443\n",
       "Name: Country, dtype: int64"
      ]
     },
     "execution_count": 13,
     "metadata": {},
     "output_type": "execute_result"
    }
   ],
   "source": [
    "df['Country'].value_counts()"
   ]
  },
  {
   "cell_type": "code",
   "execution_count": 14,
   "id": "fdbe066a",
   "metadata": {},
   "outputs": [
    {
     "data": {
      "text/plain": [
       "La Presse                 87\n",
       "CNN en Español            59\n",
       "infobae                   58\n",
       "Le Journal de Montréal    49\n",
       "La Patilla                47\n",
       "                          ..\n",
       "Elysee.fr                  1\n",
       "Africanews Français        1\n",
       "Marianne                   1\n",
       "Terre-net                  1\n",
       "El Economista              1\n",
       "Name: News_agency, Length: 866, dtype: int64"
      ]
     },
     "execution_count": 14,
     "metadata": {},
     "output_type": "execute_result"
    }
   ],
   "source": [
    "df['News_agency'].value_counts()"
   ]
  },
  {
   "cell_type": "code",
   "execution_count": 15,
   "id": "ff21324c",
   "metadata": {},
   "outputs": [
    {
     "data": {
      "text/plain": [
       "en    1038\n",
       "es     968\n",
       "fr     956\n",
       "Name: language, dtype: int64"
      ]
     },
     "execution_count": 15,
     "metadata": {},
     "output_type": "execute_result"
    }
   ],
   "source": [
    "df['language'].value_counts()"
   ]
  },
  {
   "cell_type": "markdown",
   "id": "906d9f60",
   "metadata": {},
   "source": [
    "# Merging Summary and Title"
   ]
  },
  {
   "cell_type": "code",
   "execution_count": 16,
   "id": "5167e1a4",
   "metadata": {},
   "outputs": [],
   "source": [
    "df['Merged'] = df['title'] + ' - ' + df['summary']"
   ]
  },
  {
   "cell_type": "code",
   "execution_count": 17,
   "id": "56d36881",
   "metadata": {},
   "outputs": [
    {
     "data": {
      "text/plain": [
       "\"Alexei Navalny death latest: Putin critic’s ‘bruised body seen in morgue’ as family demands it is returned - The Independent - Alexei Navalny death latest: Putin critic’s ‘bruised body seen in morgue’ as family demands it is returned\\xa0\\xa0The IndependentNavalny's body reportedly found with 'signs of bruising' as Russia claims he died of 'sudden death syndrome'\\xa0\\xa0Fox NewsUkrainian official: Navalny’s death shows ‘Putin is the ultimate evil’\\xa0\\xa0The HillOpinion: One man who stood up to a dictatorship\\xa0\\xa0CNNA Stunned Russian Opposition in Exile Considers a Future Without Navalny\\xa0\\xa0The New York Times\""
      ]
     },
     "execution_count": 17,
     "metadata": {},
     "output_type": "execute_result"
    }
   ],
   "source": [
    "df['Merged'][0]"
   ]
  },
  {
   "cell_type": "markdown",
   "id": "c194cc4b",
   "metadata": {},
   "source": [
    "# Convert to lowercase"
   ]
  },
  {
   "cell_type": "code",
   "execution_count": 18,
   "id": "6510ed4f",
   "metadata": {},
   "outputs": [
    {
     "data": {
      "text/plain": [
       "\"alexei navalny death latest: putin critic’s ‘bruised body seen in morgue’ as family demands it is returned - the independent - alexei navalny death latest: putin critic’s ‘bruised body seen in morgue’ as family demands it is returned\\xa0\\xa0the independentnavalny's body reportedly found with 'signs of bruising' as russia claims he died of 'sudden death syndrome'\\xa0\\xa0fox newsukrainian official: navalny’s death shows ‘putin is the ultimate evil’\\xa0\\xa0the hillopinion: one man who stood up to a dictatorship\\xa0\\xa0cnna stunned russian opposition in exile considers a future without navalny\\xa0\\xa0the new york times\""
      ]
     },
     "execution_count": 18,
     "metadata": {},
     "output_type": "execute_result"
    }
   ],
   "source": [
    "df['Merged'] = df['Merged'].apply(lambda x: x.lower())\n",
    "df['Merged'][0]"
   ]
  },
  {
   "cell_type": "markdown",
   "id": "5a449e01",
   "metadata": {},
   "source": [
    "# Remove Punctuation\n"
   ]
  },
  {
   "cell_type": "code",
   "execution_count": 19,
   "id": "95bb8963",
   "metadata": {},
   "outputs": [
    {
     "data": {
      "text/plain": [
       "'alexei navalny death latest putin critic’s ‘bruised body seen in morgue’ as family demands it is returned  the independent  alexei navalny death latest putin critic’s ‘bruised body seen in morgue’ as family demands it is returned\\xa0\\xa0the independentnavalnys body reportedly found with signs of bruising as russia claims he died of sudden death syndrome\\xa0\\xa0fox newsukrainian official navalny’s death shows ‘putin is the ultimate evil’\\xa0\\xa0the hillopinion one man who stood up to a dictatorship\\xa0\\xa0cnna stunned russian opposition in exile considers a future without navalny\\xa0\\xa0the new york times'"
      ]
     },
     "execution_count": 19,
     "metadata": {},
     "output_type": "execute_result"
    }
   ],
   "source": [
    "def punctuation_removal(text):\n",
    "    sp = string.punctuation\n",
    "    sp.join('“”’')\n",
    "    for p in sp:\n",
    "        text = text.replace(p, \"\")\n",
    "    return text\n",
    "\n",
    "df['Merged'] = df['Merged'].apply(punctuation_removal)\n",
    "df['Merged'][0]"
   ]
  },
  {
   "cell_type": "markdown",
   "id": "8a8c3ac6",
   "metadata": {},
   "source": [
    "# Tokenisation "
   ]
  },
  {
   "cell_type": "code",
   "execution_count": 20,
   "id": "c3642727",
   "metadata": {},
   "outputs": [],
   "source": [
    "def tokenization(text):\n",
    "    tokens = nltk.word_tokenize(text)\n",
    "    return tokens\n",
    "\n",
    "\n",
    "df['Merged'] = df['Merged'].apply(tokenization)\n"
   ]
  },
  {
   "cell_type": "code",
   "execution_count": 21,
   "id": "192be97e",
   "metadata": {},
   "outputs": [
    {
     "data": {
      "text/html": [
       "<div>\n",
       "<style scoped>\n",
       "    .dataframe tbody tr th:only-of-type {\n",
       "        vertical-align: middle;\n",
       "    }\n",
       "\n",
       "    .dataframe tbody tr th {\n",
       "        vertical-align: top;\n",
       "    }\n",
       "\n",
       "    .dataframe thead th {\n",
       "        text-align: right;\n",
       "    }\n",
       "</style>\n",
       "<table border=\"1\" class=\"dataframe\">\n",
       "  <thead>\n",
       "    <tr style=\"text-align: right;\">\n",
       "      <th></th>\n",
       "      <th>Merged</th>\n",
       "    </tr>\n",
       "  </thead>\n",
       "  <tbody>\n",
       "    <tr>\n",
       "      <th>0</th>\n",
       "      <td>[alexei, navalny, death, latest, putin, critic...</td>\n",
       "    </tr>\n",
       "    <tr>\n",
       "      <th>1</th>\n",
       "      <td>[us, military, reports, 1st, houthi, unmanned,...</td>\n",
       "    </tr>\n",
       "    <tr>\n",
       "      <th>2</th>\n",
       "      <td>[the, latest, on, the, israelhamas, war, live,...</td>\n",
       "    </tr>\n",
       "    <tr>\n",
       "      <th>3</th>\n",
       "      <td>[russia, takes, full, control, of, avdiivka, a...</td>\n",
       "    </tr>\n",
       "    <tr>\n",
       "      <th>4</th>\n",
       "      <td>[brazils, president, angers, israel, after, co...</td>\n",
       "    </tr>\n",
       "    <tr>\n",
       "      <th>...</th>\n",
       "      <td>...</td>\n",
       "    </tr>\n",
       "    <tr>\n",
       "      <th>2957</th>\n",
       "      <td>[residentes, de, medicina, ganan, concurso, de...</td>\n",
       "    </tr>\n",
       "    <tr>\n",
       "      <th>2958</th>\n",
       "      <td>[realiza, imss, obras, de, prestaciones, socia...</td>\n",
       "    </tr>\n",
       "    <tr>\n",
       "      <th>2959</th>\n",
       "      <td>[medicina, amplía, sus, edificios, y, proyecta...</td>\n",
       "    </tr>\n",
       "    <tr>\n",
       "      <th>2960</th>\n",
       "      <td>[la, raza, 70, años, como, pionero, en, medici...</td>\n",
       "    </tr>\n",
       "    <tr>\n",
       "      <th>2961</th>\n",
       "      <td>[nuevo, servicio, en, nuestro, organismo, medi...</td>\n",
       "    </tr>\n",
       "  </tbody>\n",
       "</table>\n",
       "<p>2962 rows × 1 columns</p>\n",
       "</div>"
      ],
      "text/plain": [
       "                                                 Merged\n",
       "0     [alexei, navalny, death, latest, putin, critic...\n",
       "1     [us, military, reports, 1st, houthi, unmanned,...\n",
       "2     [the, latest, on, the, israelhamas, war, live,...\n",
       "3     [russia, takes, full, control, of, avdiivka, a...\n",
       "4     [brazils, president, angers, israel, after, co...\n",
       "...                                                 ...\n",
       "2957  [residentes, de, medicina, ganan, concurso, de...\n",
       "2958  [realiza, imss, obras, de, prestaciones, socia...\n",
       "2959  [medicina, amplía, sus, edificios, y, proyecta...\n",
       "2960  [la, raza, 70, años, como, pionero, en, medici...\n",
       "2961  [nuevo, servicio, en, nuestro, organismo, medi...\n",
       "\n",
       "[2962 rows x 1 columns]"
      ]
     },
     "execution_count": 21,
     "metadata": {},
     "output_type": "execute_result"
    }
   ],
   "source": [
    "df[['Merged']]"
   ]
  },
  {
   "cell_type": "markdown",
   "id": "cfb298c7",
   "metadata": {},
   "source": [
    "# Remove Stopwords"
   ]
  },
  {
   "cell_type": "code",
   "execution_count": 22,
   "id": "ae48d384",
   "metadata": {},
   "outputs": [],
   "source": [
    "stopwords = nltk.corpus.stopwords.words('english')\n",
    "i=0\n",
    "def remove_stopwords(text):\n",
    "    output = []\n",
    "    for w in text:\n",
    "        if w not in stopwords and len(w)>4:\n",
    "            output.append(w)\n",
    "    return output\n",
    "\n",
    "df['Merged'] = df['Merged'].apply(remove_stopwords)\n"
   ]
  },
  {
   "cell_type": "code",
   "execution_count": 23,
   "id": "611ae8aa",
   "metadata": {},
   "outputs": [
    {
     "data": {
      "text/html": [
       "<div>\n",
       "<style scoped>\n",
       "    .dataframe tbody tr th:only-of-type {\n",
       "        vertical-align: middle;\n",
       "    }\n",
       "\n",
       "    .dataframe tbody tr th {\n",
       "        vertical-align: top;\n",
       "    }\n",
       "\n",
       "    .dataframe thead th {\n",
       "        text-align: right;\n",
       "    }\n",
       "</style>\n",
       "<table border=\"1\" class=\"dataframe\">\n",
       "  <thead>\n",
       "    <tr style=\"text-align: right;\">\n",
       "      <th></th>\n",
       "      <th>Merged</th>\n",
       "    </tr>\n",
       "  </thead>\n",
       "  <tbody>\n",
       "    <tr>\n",
       "      <th>0</th>\n",
       "      <td>[alexei, navalny, death, latest, putin, critic...</td>\n",
       "    </tr>\n",
       "    <tr>\n",
       "      <th>1</th>\n",
       "      <td>[military, reports, houthi, unmanned, underwat...</td>\n",
       "    </tr>\n",
       "    <tr>\n",
       "      <th>2</th>\n",
       "      <td>[latest, israelhamas, updates, latest, israelh...</td>\n",
       "    </tr>\n",
       "    <tr>\n",
       "      <th>3</th>\n",
       "      <td>[russia, takes, control, avdiivka, decries, ar...</td>\n",
       "    </tr>\n",
       "    <tr>\n",
       "      <th>4</th>\n",
       "      <td>[brazils, president, angers, israel, comparing...</td>\n",
       "    </tr>\n",
       "    <tr>\n",
       "      <th>...</th>\n",
       "      <td>...</td>\n",
       "    </tr>\n",
       "    <tr>\n",
       "      <th>2957</th>\n",
       "      <td>[residentes, medicina, ganan, concurso, trivia...</td>\n",
       "    </tr>\n",
       "    <tr>\n",
       "      <th>2958</th>\n",
       "      <td>[realiza, obras, prestaciones, sociales, impul...</td>\n",
       "    </tr>\n",
       "    <tr>\n",
       "      <th>2959</th>\n",
       "      <td>[medicina, amplía, edificios, proyecta, anexo,...</td>\n",
       "    </tr>\n",
       "    <tr>\n",
       "      <th>2960</th>\n",
       "      <td>[pionero, medicina, vanguardia, méxico, pioner...</td>\n",
       "    </tr>\n",
       "    <tr>\n",
       "      <th>2961</th>\n",
       "      <td>[nuevo, servicio, nuestro, organismo, medicina...</td>\n",
       "    </tr>\n",
       "  </tbody>\n",
       "</table>\n",
       "<p>2962 rows × 1 columns</p>\n",
       "</div>"
      ],
      "text/plain": [
       "                                                 Merged\n",
       "0     [alexei, navalny, death, latest, putin, critic...\n",
       "1     [military, reports, houthi, unmanned, underwat...\n",
       "2     [latest, israelhamas, updates, latest, israelh...\n",
       "3     [russia, takes, control, avdiivka, decries, ar...\n",
       "4     [brazils, president, angers, israel, comparing...\n",
       "...                                                 ...\n",
       "2957  [residentes, medicina, ganan, concurso, trivia...\n",
       "2958  [realiza, obras, prestaciones, sociales, impul...\n",
       "2959  [medicina, amplía, edificios, proyecta, anexo,...\n",
       "2960  [pionero, medicina, vanguardia, méxico, pioner...\n",
       "2961  [nuevo, servicio, nuestro, organismo, medicina...\n",
       "\n",
       "[2962 rows x 1 columns]"
      ]
     },
     "execution_count": 23,
     "metadata": {},
     "output_type": "execute_result"
    }
   ],
   "source": [
    "df[['Merged']]"
   ]
  },
  {
   "cell_type": "markdown",
   "id": "c88df5f8",
   "metadata": {},
   "source": [
    "# Lemmatize the words"
   ]
  },
  {
   "cell_type": "code",
   "execution_count": 24,
   "id": "51a23ab6",
   "metadata": {},
   "outputs": [],
   "source": [
    "wordnet_lemmatizer = WordNetLemmatizer()\n",
    "\n",
    "def lemmatizer(text):\n",
    "    lemm_text = ' '.join([wordnet_lemmatizer.lemmatize(word) for word in text])\n",
    "    return lemm_text\n",
    "\n",
    "df['Merged'] = df['Merged'].apply(lemmatizer)\n"
   ]
  },
  {
   "cell_type": "code",
   "execution_count": 25,
   "id": "60917ebf",
   "metadata": {},
   "outputs": [
    {
     "data": {
      "text/html": [
       "<div>\n",
       "<style scoped>\n",
       "    .dataframe tbody tr th:only-of-type {\n",
       "        vertical-align: middle;\n",
       "    }\n",
       "\n",
       "    .dataframe tbody tr th {\n",
       "        vertical-align: top;\n",
       "    }\n",
       "\n",
       "    .dataframe thead th {\n",
       "        text-align: right;\n",
       "    }\n",
       "</style>\n",
       "<table border=\"1\" class=\"dataframe\">\n",
       "  <thead>\n",
       "    <tr style=\"text-align: right;\">\n",
       "      <th></th>\n",
       "      <th>Merged</th>\n",
       "    </tr>\n",
       "  </thead>\n",
       "  <tbody>\n",
       "    <tr>\n",
       "      <th>0</th>\n",
       "      <td>alexei navalny death latest putin critic bruis...</td>\n",
       "    </tr>\n",
       "    <tr>\n",
       "      <th>1</th>\n",
       "      <td>military report houthi unmanned underwater ves...</td>\n",
       "    </tr>\n",
       "    <tr>\n",
       "      <th>2</th>\n",
       "      <td>latest israelhamas update latest israelhamas u...</td>\n",
       "    </tr>\n",
       "    <tr>\n",
       "      <th>3</th>\n",
       "      <td>russia take control avdiivka decries artificia...</td>\n",
       "    </tr>\n",
       "    <tr>\n",
       "      <th>4</th>\n",
       "      <td>brazil president anger israel comparing holoca...</td>\n",
       "    </tr>\n",
       "  </tbody>\n",
       "</table>\n",
       "</div>"
      ],
      "text/plain": [
       "                                              Merged\n",
       "0  alexei navalny death latest putin critic bruis...\n",
       "1  military report houthi unmanned underwater ves...\n",
       "2  latest israelhamas update latest israelhamas u...\n",
       "3  russia take control avdiivka decries artificia...\n",
       "4  brazil president anger israel comparing holoca..."
      ]
     },
     "execution_count": 25,
     "metadata": {},
     "output_type": "execute_result"
    }
   ],
   "source": [
    "df[['Merged']][:5]"
   ]
  },
  {
   "cell_type": "markdown",
   "id": "7ac9ce7f",
   "metadata": {},
   "source": [
    "# Save Preprocessed data "
   ]
  },
  {
   "cell_type": "code",
   "execution_count": 26,
   "id": "396cb15f",
   "metadata": {},
   "outputs": [],
   "source": [
    "df.to_csv(\"DATASET/PreprocessedData.csv\", index=False)"
   ]
  },
  {
   "cell_type": "code",
   "execution_count": null,
   "id": "4293a6d0",
   "metadata": {},
   "outputs": [],
   "source": []
  }
 ],
 "metadata": {
  "kernelspec": {
   "display_name": "Python 3 (ipykernel)",
   "language": "python",
   "name": "python3"
  },
  "language_info": {
   "codemirror_mode": {
    "name": "ipython",
    "version": 3
   },
   "file_extension": ".py",
   "mimetype": "text/x-python",
   "name": "python",
   "nbconvert_exporter": "python",
   "pygments_lexer": "ipython3",
   "version": "3.11.4"
  }
 },
 "nbformat": 4,
 "nbformat_minor": 5
}

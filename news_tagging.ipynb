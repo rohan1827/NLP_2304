{
 "cells": [
  {
   "cell_type": "markdown",
   "id": "f5a3281f-a296-4ec6-9b97-6099ea2c3c52",
   "metadata": {},
   "source": [
    "We will be following steps as mentioned below to predict the tag of given title of the news:\n",
    "\n",
    "Texts  ==>  Stop words removal ==> Punctuation free ==> Word Lemmatization ==> Digit removal ==> Feature Extraction (Tf-Idf) ==> Model training"
   ]
  },
  {
   "cell_type": "code",
   "execution_count": 2,
   "id": "70a6262b-cc7b-4b7f-9551-13f2227202ea",
   "metadata": {},
   "outputs": [],
   "source": [
    "import pandas as pd\n",
    "from nltk.corpus import stopwords\n",
    "import string\n",
    "from nltk.stem import WordNetLemmatizer \n",
    "from nltk.tokenize import word_tokenize"
   ]
  },
  {
   "cell_type": "code",
   "execution_count": 3,
   "id": "0a0b19e6-51c5-44fa-b265-832e3e3ed17d",
   "metadata": {},
   "outputs": [],
   "source": [
    "df = pd.read_csv('google_data.csv')"
   ]
  },
  {
   "cell_type": "code",
   "execution_count": 10,
   "id": "86c9f2c0-98e9-44e3-85ac-9f471fbc341e",
   "metadata": {},
   "outputs": [
    {
     "data": {
      "text/html": [
       "<div>\n",
       "<style scoped>\n",
       "    .dataframe tbody tr th:only-of-type {\n",
       "        vertical-align: middle;\n",
       "    }\n",
       "\n",
       "    .dataframe tbody tr th {\n",
       "        vertical-align: top;\n",
       "    }\n",
       "\n",
       "    .dataframe thead th {\n",
       "        text-align: right;\n",
       "    }\n",
       "</style>\n",
       "<table border=\"1\" class=\"dataframe\">\n",
       "  <thead>\n",
       "    <tr style=\"text-align: right;\">\n",
       "      <th></th>\n",
       "      <th>id</th>\n",
       "      <th>title</th>\n",
       "      <th>Published_on</th>\n",
       "      <th>News_agency</th>\n",
       "      <th>URL</th>\n",
       "      <th>summary</th>\n",
       "      <th>Country</th>\n",
       "      <th>language</th>\n",
       "      <th>tag</th>\n",
       "    </tr>\n",
       "  </thead>\n",
       "  <tbody>\n",
       "    <tr>\n",
       "      <th>0</th>\n",
       "      <td>0</td>\n",
       "      <td>Alexei Navalny death latest: Putin critic’s ‘b...</td>\n",
       "      <td>Mon, 19 Feb 2024 00:01:00 GMT</td>\n",
       "      <td>The Independent</td>\n",
       "      <td>https://news.google.com/rss/articles/CBMic2h0d...</td>\n",
       "      <td>&lt;ol&gt;&lt;li&gt;&lt;a href=\"https://news.google.com/rss/a...</td>\n",
       "      <td>US</td>\n",
       "      <td>en</td>\n",
       "      <td>World</td>\n",
       "    </tr>\n",
       "    <tr>\n",
       "      <th>1</th>\n",
       "      <td>1</td>\n",
       "      <td>U.S. military reports 1st Houthi unmanned unde...</td>\n",
       "      <td>Sun, 18 Feb 2024 22:23:17 GMT</td>\n",
       "      <td>CBS News</td>\n",
       "      <td>https://news.google.com/rss/articles/CBMiW2h0d...</td>\n",
       "      <td>&lt;ol&gt;&lt;li&gt;&lt;a href=\"https://news.google.com/rss/a...</td>\n",
       "      <td>US</td>\n",
       "      <td>en</td>\n",
       "      <td>World</td>\n",
       "    </tr>\n",
       "    <tr>\n",
       "      <th>2</th>\n",
       "      <td>2</td>\n",
       "      <td>The latest on the Israel-Hamas war: Live updat...</td>\n",
       "      <td>Sun, 18 Feb 2024 21:21:00 GMT</td>\n",
       "      <td>CNN</td>\n",
       "      <td>https://news.google.com/rss/articles/CBMiV2h0d...</td>\n",
       "      <td>&lt;ol&gt;&lt;li&gt;&lt;a href=\"https://news.google.com/rss/a...</td>\n",
       "      <td>US</td>\n",
       "      <td>en</td>\n",
       "      <td>World</td>\n",
       "    </tr>\n",
       "    <tr>\n",
       "      <th>3</th>\n",
       "      <td>3</td>\n",
       "      <td>Russia takes full control of Avdiivka, as Kyiv...</td>\n",
       "      <td>Sun, 18 Feb 2024 16:57:00 GMT</td>\n",
       "      <td>POLITICO Europe</td>\n",
       "      <td>https://news.google.com/rss/articles/CBMiaGh0d...</td>\n",
       "      <td>&lt;ol&gt;&lt;li&gt;&lt;a href=\"https://news.google.com/rss/a...</td>\n",
       "      <td>US</td>\n",
       "      <td>en</td>\n",
       "      <td>World</td>\n",
       "    </tr>\n",
       "    <tr>\n",
       "      <th>4</th>\n",
       "      <td>4</td>\n",
       "      <td>Brazil's President Angers Israel After Compari...</td>\n",
       "      <td>Sun, 18 Feb 2024 21:46:16 GMT</td>\n",
       "      <td>The New York Times</td>\n",
       "      <td>https://news.google.com/rss/articles/CBMiWmh0d...</td>\n",
       "      <td>&lt;ol&gt;&lt;li&gt;&lt;a href=\"https://news.google.com/rss/a...</td>\n",
       "      <td>US</td>\n",
       "      <td>en</td>\n",
       "      <td>World</td>\n",
       "    </tr>\n",
       "  </tbody>\n",
       "</table>\n",
       "</div>"
      ],
      "text/plain": [
       "   id                                              title  \\\n",
       "0   0  Alexei Navalny death latest: Putin critic’s ‘b...   \n",
       "1   1  U.S. military reports 1st Houthi unmanned unde...   \n",
       "2   2  The latest on the Israel-Hamas war: Live updat...   \n",
       "3   3  Russia takes full control of Avdiivka, as Kyiv...   \n",
       "4   4  Brazil's President Angers Israel After Compari...   \n",
       "\n",
       "                    Published_on         News_agency  \\\n",
       "0  Mon, 19 Feb 2024 00:01:00 GMT     The Independent   \n",
       "1  Sun, 18 Feb 2024 22:23:17 GMT            CBS News   \n",
       "2  Sun, 18 Feb 2024 21:21:00 GMT                 CNN   \n",
       "3  Sun, 18 Feb 2024 16:57:00 GMT     POLITICO Europe   \n",
       "4  Sun, 18 Feb 2024 21:46:16 GMT  The New York Times   \n",
       "\n",
       "                                                 URL  \\\n",
       "0  https://news.google.com/rss/articles/CBMic2h0d...   \n",
       "1  https://news.google.com/rss/articles/CBMiW2h0d...   \n",
       "2  https://news.google.com/rss/articles/CBMiV2h0d...   \n",
       "3  https://news.google.com/rss/articles/CBMiaGh0d...   \n",
       "4  https://news.google.com/rss/articles/CBMiWmh0d...   \n",
       "\n",
       "                                             summary Country language    tag  \n",
       "0  <ol><li><a href=\"https://news.google.com/rss/a...      US       en  World  \n",
       "1  <ol><li><a href=\"https://news.google.com/rss/a...      US       en  World  \n",
       "2  <ol><li><a href=\"https://news.google.com/rss/a...      US       en  World  \n",
       "3  <ol><li><a href=\"https://news.google.com/rss/a...      US       en  World  \n",
       "4  <ol><li><a href=\"https://news.google.com/rss/a...      US       en  World  "
      ]
     },
     "execution_count": 10,
     "metadata": {},
     "output_type": "execute_result"
    }
   ],
   "source": [
    "df.head(5)"
   ]
  },
  {
   "cell_type": "code",
   "execution_count": 58,
   "id": "dcd6a15a-7fa4-45ce-9e0e-70fb9d1e957d",
   "metadata": {},
   "outputs": [
    {
     "data": {
      "text/plain": [
       "(2962, 9)"
      ]
     },
     "execution_count": 58,
     "metadata": {},
     "output_type": "execute_result"
    }
   ],
   "source": [
    "df.shape"
   ]
  },
  {
   "cell_type": "code",
   "execution_count": 150,
   "id": "c37a4845-fc65-40b7-aa80-196e45783df7",
   "metadata": {},
   "outputs": [
    {
     "data": {
      "text/plain": [
       "array(['World', 'Nation', 'Business', 'Technology', 'Entertainment',\n",
       "       'Science', 'Sports', 'Health'], dtype=object)"
      ]
     },
     "execution_count": 150,
     "metadata": {},
     "output_type": "execute_result"
    }
   ],
   "source": [
    "df['tag'].unique()"
   ]
  },
  {
   "cell_type": "code",
   "execution_count": 62,
   "id": "ae1e1456-262d-4926-b987-0c6f24aaf55a",
   "metadata": {},
   "outputs": [
    {
     "data": {
      "text/plain": [
       "8"
      ]
     },
     "execution_count": 62,
     "metadata": {},
     "output_type": "execute_result"
    }
   ],
   "source": [
    "df['tag'].nunique()"
   ]
  },
  {
   "cell_type": "code",
   "execution_count": 66,
   "id": "5a8787fa-2070-48a7-a824-6edeb7b41b1f",
   "metadata": {},
   "outputs": [],
   "source": [
    "from sklearn.model_selection import train_test_split"
   ]
  },
  {
   "cell_type": "code",
   "execution_count": 70,
   "id": "55367cde-d0d1-4684-8039-7972ba38a4b2",
   "metadata": {},
   "outputs": [],
   "source": [
    "train, test = train_test_split(df, test_size=0.25, stratify=df['tag'])"
   ]
  },
  {
   "cell_type": "code",
   "execution_count": 82,
   "id": "5ff714aa-2ae8-40d7-8577-52329eccf677",
   "metadata": {},
   "outputs": [
    {
     "data": {
      "text/plain": [
       "0"
      ]
     },
     "execution_count": 82,
     "metadata": {},
     "output_type": "execute_result"
    }
   ],
   "source": [
    "train['title'].isnull().sum()"
   ]
  },
  {
   "cell_type": "code",
   "execution_count": 85,
   "id": "f8bb918c-f6dd-4bbf-b133-d6bd7ac660fe",
   "metadata": {},
   "outputs": [
    {
     "data": {
      "text/html": [
       "<div>\n",
       "<style scoped>\n",
       "    .dataframe tbody tr th:only-of-type {\n",
       "        vertical-align: middle;\n",
       "    }\n",
       "\n",
       "    .dataframe tbody tr th {\n",
       "        vertical-align: top;\n",
       "    }\n",
       "\n",
       "    .dataframe thead th {\n",
       "        text-align: right;\n",
       "    }\n",
       "</style>\n",
       "<table border=\"1\" class=\"dataframe\">\n",
       "  <thead>\n",
       "    <tr style=\"text-align: right;\">\n",
       "      <th></th>\n",
       "      <th>id</th>\n",
       "      <th>title</th>\n",
       "      <th>Published_on</th>\n",
       "      <th>News_agency</th>\n",
       "      <th>URL</th>\n",
       "      <th>summary</th>\n",
       "      <th>Country</th>\n",
       "      <th>language</th>\n",
       "      <th>tag</th>\n",
       "    </tr>\n",
       "  </thead>\n",
       "  <tbody>\n",
       "    <tr>\n",
       "      <th>37</th>\n",
       "      <td>37</td>\n",
       "      <td>Haley continues to chart course away from Trum...</td>\n",
       "      <td>Sun, 18 Feb 2024 22:21:32 GMT</td>\n",
       "      <td>POLITICO</td>\n",
       "      <td>https://news.google.com/rss/articles/CBMiUWh0d...</td>\n",
       "      <td>&lt;ol&gt;&lt;li&gt;&lt;a href=\"https://news.google.com/rss/a...</td>\n",
       "      <td>US</td>\n",
       "      <td>en</td>\n",
       "      <td>Nation</td>\n",
       "    </tr>\n",
       "    <tr>\n",
       "      <th>2721</th>\n",
       "      <td>2721</td>\n",
       "      <td>Nieta de \"El Chapo\" Guzmán, Frida Guzmán, es c...</td>\n",
       "      <td>Mon, 19 Feb 2024 00:08:00 GMT</td>\n",
       "      <td>Marca USA</td>\n",
       "      <td>https://news.google.com/rss/articles/CBMiSGh0d...</td>\n",
       "      <td>&lt;ol&gt;&lt;li&gt;&lt;a href=\"https://news.google.com/rss/a...</td>\n",
       "      <td>CA</td>\n",
       "      <td>es</td>\n",
       "      <td>Entertainment</td>\n",
       "    </tr>\n",
       "    <tr>\n",
       "      <th>1037</th>\n",
       "      <td>1037</td>\n",
       "      <td>VIDEO: Sus padres la abandonaron para buscar e...</td>\n",
       "      <td>Sun, 18 Feb 2024 19:15:52 GMT</td>\n",
       "      <td>La Patilla</td>\n",
       "      <td>https://news.google.com/rss/articles/CBMifmh0d...</td>\n",
       "      <td>&lt;a href=\"https://news.google.com/rss/articles/...</td>\n",
       "      <td>US</td>\n",
       "      <td>es</td>\n",
       "      <td>Nation</td>\n",
       "    </tr>\n",
       "    <tr>\n",
       "      <th>1073</th>\n",
       "      <td>1073</td>\n",
       "      <td>¿Biden o Trump? ¿Cuáles son los intereses de R...</td>\n",
       "      <td>Sun, 18 Feb 2024 12:33:00 GMT</td>\n",
       "      <td>Univision</td>\n",
       "      <td>https://news.google.com/rss/articles/CBMihQFod...</td>\n",
       "      <td>&lt;ol&gt;&lt;li&gt;&lt;a href=\"https://news.google.com/rss/a...</td>\n",
       "      <td>US</td>\n",
       "      <td>es</td>\n",
       "      <td>Nation</td>\n",
       "    </tr>\n",
       "    <tr>\n",
       "      <th>2957</th>\n",
       "      <td>2957</td>\n",
       "      <td>Residentes de medicina ganan concurso de trivi...</td>\n",
       "      <td>Sun, 18 Feb 2024 05:00:00 GMT</td>\n",
       "      <td>El Siglo Panamá</td>\n",
       "      <td>https://news.google.com/rss/articles/CBMiT2h0d...</td>\n",
       "      <td>&lt;a href=\"https://news.google.com/rss/articles/...</td>\n",
       "      <td>CA</td>\n",
       "      <td>es</td>\n",
       "      <td>Health</td>\n",
       "    </tr>\n",
       "  </tbody>\n",
       "</table>\n",
       "</div>"
      ],
      "text/plain": [
       "        id                                              title  \\\n",
       "37      37  Haley continues to chart course away from Trum...   \n",
       "2721  2721  Nieta de \"El Chapo\" Guzmán, Frida Guzmán, es c...   \n",
       "1037  1037  VIDEO: Sus padres la abandonaron para buscar e...   \n",
       "1073  1073  ¿Biden o Trump? ¿Cuáles son los intereses de R...   \n",
       "2957  2957  Residentes de medicina ganan concurso de trivi...   \n",
       "\n",
       "                       Published_on      News_agency  \\\n",
       "37    Sun, 18 Feb 2024 22:21:32 GMT         POLITICO   \n",
       "2721  Mon, 19 Feb 2024 00:08:00 GMT        Marca USA   \n",
       "1037  Sun, 18 Feb 2024 19:15:52 GMT       La Patilla   \n",
       "1073  Sun, 18 Feb 2024 12:33:00 GMT        Univision   \n",
       "2957  Sun, 18 Feb 2024 05:00:00 GMT  El Siglo Panamá   \n",
       "\n",
       "                                                    URL  \\\n",
       "37    https://news.google.com/rss/articles/CBMiUWh0d...   \n",
       "2721  https://news.google.com/rss/articles/CBMiSGh0d...   \n",
       "1037  https://news.google.com/rss/articles/CBMifmh0d...   \n",
       "1073  https://news.google.com/rss/articles/CBMihQFod...   \n",
       "2957  https://news.google.com/rss/articles/CBMiT2h0d...   \n",
       "\n",
       "                                                summary Country language  \\\n",
       "37    <ol><li><a href=\"https://news.google.com/rss/a...      US       en   \n",
       "2721  <ol><li><a href=\"https://news.google.com/rss/a...      CA       es   \n",
       "1037  <a href=\"https://news.google.com/rss/articles/...      US       es   \n",
       "1073  <ol><li><a href=\"https://news.google.com/rss/a...      US       es   \n",
       "2957  <a href=\"https://news.google.com/rss/articles/...      CA       es   \n",
       "\n",
       "                tag  \n",
       "37           Nation  \n",
       "2721  Entertainment  \n",
       "1037         Nation  \n",
       "1073         Nation  \n",
       "2957         Health  "
      ]
     },
     "execution_count": 85,
     "metadata": {},
     "output_type": "execute_result"
    }
   ],
   "source": [
    "train.head()"
   ]
  },
  {
   "cell_type": "code",
   "execution_count": 73,
   "id": "0fb0c5e0-183d-4d0a-8276-48cca7b08da4",
   "metadata": {},
   "outputs": [
    {
     "data": {
      "text/plain": [
       "tag\n",
       "Technology       315\n",
       "Entertainment    313\n",
       "Sports           286\n",
       "Science          285\n",
       "Nation           280\n",
       "Health           277\n",
       "World            235\n",
       "Business         230\n",
       "Name: count, dtype: int64"
      ]
     },
     "execution_count": 73,
     "metadata": {},
     "output_type": "execute_result"
    }
   ],
   "source": [
    "train['tag'].value_counts()"
   ]
  },
  {
   "cell_type": "code",
   "execution_count": 74,
   "id": "824e0c8b-6ed0-45b8-a7fe-fa3de1b9679a",
   "metadata": {},
   "outputs": [
    {
     "data": {
      "text/plain": [
       "tag\n",
       "Entertainment    105\n",
       "Technology       105\n",
       "Sports            95\n",
       "Science           95\n",
       "Nation            94\n",
       "Health            92\n",
       "World             79\n",
       "Business          76\n",
       "Name: count, dtype: int64"
      ]
     },
     "execution_count": 74,
     "metadata": {},
     "output_type": "execute_result"
    }
   ],
   "source": [
    "test['tag'].value_counts()"
   ]
  },
  {
   "cell_type": "markdown",
   "id": "c2190a2e-bf62-4eab-b981-53c24516d3ee",
   "metadata": {},
   "source": [
    "Removing Stop Words"
   ]
  },
  {
   "cell_type": "code",
   "execution_count": 4,
   "id": "063c03ac-dcf6-48d5-b04c-c072222807e4",
   "metadata": {},
   "outputs": [],
   "source": [
    "stopset = set([each for each in stopwords.words('english') if len(each) < 3])\n",
    "exclude_punctuations = set(string.punctuation)\n",
    "lemma = WordNetLemmatizer()"
   ]
  },
  {
   "cell_type": "code",
   "execution_count": 36,
   "id": "7165be86-67f6-4a5e-a06a-0f2fab459bf8",
   "metadata": {},
   "outputs": [],
   "source": [
    "def clean_string(s: str) -> str:\n",
    "    tokens = word_tokenize(s)\n",
    "    rem_stop = [each for each in tokens if each.lower() not in stopset]\n",
    "    rem_punc = [each.translate(str.maketrans('', '', string.punctuation)) for each in rem_stop]\n",
    "    lemmatized = [lemma.lemmatize(each) for each in rem_punc]\n",
    "    return ' '.join(' '.join(lemmatized).replace(\"‘\", '').replace(\"’\", '').replace(\"'\", '').split())\n",
    "    "
   ]
  },
  {
   "cell_type": "code",
   "execution_count": 132,
   "id": "bee7c36d-6816-4199-b7ed-3c8bfb96a3d2",
   "metadata": {},
   "outputs": [],
   "source": [
    "filter_df = pd.DataFrame()"
   ]
  },
  {
   "cell_type": "code",
   "execution_count": 133,
   "id": "391d0cde-8517-45fa-96e5-fef0e8dccc1a",
   "metadata": {},
   "outputs": [],
   "source": [
    "filter_df['filtered_title'] = train['title'].apply(clean_string)"
   ]
  },
  {
   "cell_type": "code",
   "execution_count": 84,
   "id": "f83aa843-bb07-44dd-8e42-19d3cc6c32ba",
   "metadata": {},
   "outputs": [
    {
     "data": {
      "text/plain": [
       "'Haley continues chart course away from Trump POLITICO'"
      ]
     },
     "execution_count": 84,
     "metadata": {},
     "output_type": "execute_result"
    }
   ],
   "source": [
    "import re\n",
    "\n",
    "clean_string(train.iloc[0]['title'])"
   ]
  },
  {
   "cell_type": "code",
   "execution_count": 88,
   "id": "6524681d-96de-46c0-8c79-7c9354990bdc",
   "metadata": {},
   "outputs": [
    {
     "data": {
      "text/plain": [
       "37      Haley continues chart course away from Trump P...\n",
       "2721    Nieta de El Chapo Guzmán Frida Guzmán e captad...\n",
       "1037    VIDEO Sus padre la abandonaron para buscar el ...\n",
       "1073    ¿Biden Trump ¿Cuáles son los intereses de Rusi...\n",
       "2957    Residentes de medicina ganan concurso de trivi...\n",
       "                              ...                        \n",
       "1743    Michael Bublé spotted Vij s Restaurant Vancouv...\n",
       "689     Samsung frappe fort avec cette offre exception...\n",
       "1190    Yailin La Más Viral enseña Tekashi 6ix9ine com...\n",
       "1651    Sony Xperia 5 VI wishlist All the feature want...\n",
       "1986    New study pinpoint key marker for Long COVID d...\n",
       "Name: filtered_title, Length: 2221, dtype: object"
      ]
     },
     "execution_count": 88,
     "metadata": {},
     "output_type": "execute_result"
    }
   ],
   "source": [
    "filter_df['filtered_title']"
   ]
  },
  {
   "cell_type": "code",
   "execution_count": 78,
   "id": "e969ae08-8e0c-4682-9a0b-a1fa24afefa7",
   "metadata": {},
   "outputs": [
    {
     "data": {
      "text/plain": [
       "'US military report 1st Houthi unmanned underwater vessel Red Sea CBS News'"
      ]
     },
     "execution_count": 78,
     "metadata": {},
     "output_type": "execute_result"
    }
   ],
   "source": [
    "filter_df.iloc[1]['filtered_title']"
   ]
  },
  {
   "cell_type": "code",
   "execution_count": 79,
   "id": "f721a15f-bac9-4a32-b30e-d8c320c21441",
   "metadata": {},
   "outputs": [],
   "source": [
    "from sklearn.feature_extraction.text import TfidfVectorizer"
   ]
  },
  {
   "cell_type": "code",
   "execution_count": 136,
   "id": "1fe9f8e9-8a61-4bdb-bc48-0718629fb927",
   "metadata": {},
   "outputs": [],
   "source": [
    "vectorizer = TfidfVectorizer()"
   ]
  },
  {
   "cell_type": "code",
   "execution_count": 137,
   "id": "77e41d30-544b-4dc5-905b-b0f44a0227e5",
   "metadata": {},
   "outputs": [],
   "source": [
    "X = vectorizer.fit_transform(filter_df['filtered_title'])"
   ]
  },
  {
   "cell_type": "code",
   "execution_count": 114,
   "id": "af44669e-6e80-471e-8b8f-44c67c8aa95e",
   "metadata": {},
   "outputs": [
    {
     "data": {
      "text/plain": [
       "<8x7 sparse matrix of type '<class 'numpy.float64'>'\n",
       "\twith 7 stored elements in Compressed Sparse Row format>"
      ]
     },
     "execution_count": 114,
     "metadata": {},
     "output_type": "execute_result"
    }
   ],
   "source": [
    "vectorizer.fit_transform(filter_df.iloc[0]['filtered_title'].split())"
   ]
  },
  {
   "cell_type": "code",
   "execution_count": 138,
   "id": "7049582c-4716-418c-bb78-34cd84fe0f25",
   "metadata": {},
   "outputs": [
    {
     "data": {
      "text/plain": [
       "(2221, 9598)"
      ]
     },
     "execution_count": 138,
     "metadata": {},
     "output_type": "execute_result"
    }
   ],
   "source": [
    "X.shape"
   ]
  },
  {
   "cell_type": "code",
   "execution_count": 91,
   "id": "084b2117-fa77-4e13-a834-17468e9cf0dd",
   "metadata": {},
   "outputs": [],
   "source": [
    "from sklearn.cluster import KMeans"
   ]
  },
  {
   "cell_type": "code",
   "execution_count": 144,
   "id": "30870c78-2979-4a56-896c-83fad9910671",
   "metadata": {},
   "outputs": [
    {
     "data": {
      "text/html": [
       "<style>#sk-container-id-3 {color: black;}#sk-container-id-3 pre{padding: 0;}#sk-container-id-3 div.sk-toggleable {background-color: white;}#sk-container-id-3 label.sk-toggleable__label {cursor: pointer;display: block;width: 100%;margin-bottom: 0;padding: 0.3em;box-sizing: border-box;text-align: center;}#sk-container-id-3 label.sk-toggleable__label-arrow:before {content: \"▸\";float: left;margin-right: 0.25em;color: #696969;}#sk-container-id-3 label.sk-toggleable__label-arrow:hover:before {color: black;}#sk-container-id-3 div.sk-estimator:hover label.sk-toggleable__label-arrow:before {color: black;}#sk-container-id-3 div.sk-toggleable__content {max-height: 0;max-width: 0;overflow: hidden;text-align: left;background-color: #f0f8ff;}#sk-container-id-3 div.sk-toggleable__content pre {margin: 0.2em;color: black;border-radius: 0.25em;background-color: #f0f8ff;}#sk-container-id-3 input.sk-toggleable__control:checked~div.sk-toggleable__content {max-height: 200px;max-width: 100%;overflow: auto;}#sk-container-id-3 input.sk-toggleable__control:checked~label.sk-toggleable__label-arrow:before {content: \"▾\";}#sk-container-id-3 div.sk-estimator input.sk-toggleable__control:checked~label.sk-toggleable__label {background-color: #d4ebff;}#sk-container-id-3 div.sk-label input.sk-toggleable__control:checked~label.sk-toggleable__label {background-color: #d4ebff;}#sk-container-id-3 input.sk-hidden--visually {border: 0;clip: rect(1px 1px 1px 1px);clip: rect(1px, 1px, 1px, 1px);height: 1px;margin: -1px;overflow: hidden;padding: 0;position: absolute;width: 1px;}#sk-container-id-3 div.sk-estimator {font-family: monospace;background-color: #f0f8ff;border: 1px dotted black;border-radius: 0.25em;box-sizing: border-box;margin-bottom: 0.5em;}#sk-container-id-3 div.sk-estimator:hover {background-color: #d4ebff;}#sk-container-id-3 div.sk-parallel-item::after {content: \"\";width: 100%;border-bottom: 1px solid gray;flex-grow: 1;}#sk-container-id-3 div.sk-label:hover label.sk-toggleable__label {background-color: #d4ebff;}#sk-container-id-3 div.sk-serial::before {content: \"\";position: absolute;border-left: 1px solid gray;box-sizing: border-box;top: 0;bottom: 0;left: 50%;z-index: 0;}#sk-container-id-3 div.sk-serial {display: flex;flex-direction: column;align-items: center;background-color: white;padding-right: 0.2em;padding-left: 0.2em;position: relative;}#sk-container-id-3 div.sk-item {position: relative;z-index: 1;}#sk-container-id-3 div.sk-parallel {display: flex;align-items: stretch;justify-content: center;background-color: white;position: relative;}#sk-container-id-3 div.sk-item::before, #sk-container-id-3 div.sk-parallel-item::before {content: \"\";position: absolute;border-left: 1px solid gray;box-sizing: border-box;top: 0;bottom: 0;left: 50%;z-index: -1;}#sk-container-id-3 div.sk-parallel-item {display: flex;flex-direction: column;z-index: 1;position: relative;background-color: white;}#sk-container-id-3 div.sk-parallel-item:first-child::after {align-self: flex-end;width: 50%;}#sk-container-id-3 div.sk-parallel-item:last-child::after {align-self: flex-start;width: 50%;}#sk-container-id-3 div.sk-parallel-item:only-child::after {width: 0;}#sk-container-id-3 div.sk-dashed-wrapped {border: 1px dashed gray;margin: 0 0.4em 0.5em 0.4em;box-sizing: border-box;padding-bottom: 0.4em;background-color: white;}#sk-container-id-3 div.sk-label label {font-family: monospace;font-weight: bold;display: inline-block;line-height: 1.2em;}#sk-container-id-3 div.sk-label-container {text-align: center;}#sk-container-id-3 div.sk-container {/* jupyter's `normalize.less` sets `[hidden] { display: none; }` but bootstrap.min.css set `[hidden] { display: none !important; }` so we also need the `!important` here to be able to override the default hidden behavior on the sphinx rendered scikit-learn.org. See: https://github.com/scikit-learn/scikit-learn/issues/21755 */display: inline-block !important;position: relative;}#sk-container-id-3 div.sk-text-repr-fallback {display: none;}</style><div id=\"sk-container-id-3\" class=\"sk-top-container\"><div class=\"sk-text-repr-fallback\"><pre>KMeans(max_iter=200, n_init=100)</pre><b>In a Jupyter environment, please rerun this cell to show the HTML representation or trust the notebook. <br />On GitHub, the HTML representation is unable to render, please try loading this page with nbviewer.org.</b></div><div class=\"sk-container\" hidden><div class=\"sk-item\"><div class=\"sk-estimator sk-toggleable\"><input class=\"sk-toggleable__control sk-hidden--visually\" id=\"sk-estimator-id-3\" type=\"checkbox\" checked><label for=\"sk-estimator-id-3\" class=\"sk-toggleable__label sk-toggleable__label-arrow\">KMeans</label><div class=\"sk-toggleable__content\"><pre>KMeans(max_iter=200, n_init=100)</pre></div></div></div></div></div>"
      ],
      "text/plain": [
       "KMeans(max_iter=200, n_init=100)"
      ]
     },
     "execution_count": 144,
     "metadata": {},
     "output_type": "execute_result"
    }
   ],
   "source": [
    "modelkmeans = KMeans(n_clusters=8, init='k-means++', max_iter=200, n_init=100)\n",
    "modelkmeans.fit(X)"
   ]
  },
  {
   "cell_type": "code",
   "execution_count": 139,
   "id": "e30e6c46-346b-448b-aa08-823d1ca47e36",
   "metadata": {},
   "outputs": [],
   "source": [
    "test_df = pd.DataFrame()"
   ]
  },
  {
   "cell_type": "code",
   "execution_count": 140,
   "id": "0cba66fb-b6f5-416b-914b-b5c7863c2ed0",
   "metadata": {},
   "outputs": [],
   "source": [
    "test_df['filtered_title'] = test['title'].apply(clean_string)"
   ]
  },
  {
   "cell_type": "code",
   "execution_count": 129,
   "id": "b37da3af-0563-439b-809f-28daf9079c15",
   "metadata": {},
   "outputs": [
    {
     "data": {
      "text/plain": [
       "'NCIS la vraie raison du départ de Sasha Alexander Caitlin Todd TéléLoisirs'"
      ]
     },
     "execution_count": 129,
     "metadata": {},
     "output_type": "execute_result"
    }
   ],
   "source": [
    "test_df.iloc[0]['filtered_title']"
   ]
  },
  {
   "cell_type": "code",
   "execution_count": 122,
   "id": "add8575d-d48d-47f4-9a10-ddba761927ac",
   "metadata": {},
   "outputs": [
    {
     "data": {
      "text/plain": [
       "'NCIS la vraie raison du départ de Sasha Alexander Caitlin Todd TéléLoisirs'"
      ]
     },
     "execution_count": 122,
     "metadata": {},
     "output_type": "execute_result"
    }
   ],
   "source": [
    "test_df.iloc[0]['filtered_title']"
   ]
  },
  {
   "cell_type": "code",
   "execution_count": 141,
   "id": "0fa2b2ac-8663-4e55-816d-6fbcb6d0d4ba",
   "metadata": {},
   "outputs": [],
   "source": [
    "Y = vectorizer.transform(test_df['filtered_title'])"
   ]
  },
  {
   "cell_type": "code",
   "execution_count": 115,
   "id": "b86642c4-bb42-4480-9cfa-2387b49e7df0",
   "metadata": {},
   "outputs": [
    {
     "data": {
      "text/plain": [
       "<12x11 sparse matrix of type '<class 'numpy.float64'>'\n",
       "\twith 11 stored elements in Compressed Sparse Row format>"
      ]
     },
     "execution_count": 115,
     "metadata": {},
     "output_type": "execute_result"
    }
   ],
   "source": [
    "vectorizer.fit_transform(test_df.iloc[0]['title'].split())"
   ]
  },
  {
   "cell_type": "code",
   "execution_count": 142,
   "id": "edf2a16a-c65a-4fec-9bab-c7f83ad91398",
   "metadata": {},
   "outputs": [
    {
     "data": {
      "text/plain": [
       "(741, 9598)"
      ]
     },
     "execution_count": 142,
     "metadata": {},
     "output_type": "execute_result"
    }
   ],
   "source": [
    "Y.shape"
   ]
  },
  {
   "cell_type": "code",
   "execution_count": 146,
   "id": "8c934028-8175-4f74-b942-2ef17bfd2bb3",
   "metadata": {},
   "outputs": [],
   "source": [
    "precited_labels = modelkmeans.predict(Y)"
   ]
  },
  {
   "cell_type": "code",
   "execution_count": 147,
   "id": "b83d4da0-2b1c-4226-8a87-04d4d63f9bf2",
   "metadata": {},
   "outputs": [
    {
     "data": {
      "text/plain": [
       "7"
      ]
     },
     "execution_count": 147,
     "metadata": {},
     "output_type": "execute_result"
    }
   ],
   "source": [
    "precited_labels[0]"
   ]
  },
  {
   "cell_type": "code",
   "execution_count": 160,
   "id": "39eb1687-ba82-4978-bca0-593b3170f889",
   "metadata": {},
   "outputs": [
    {
     "data": {
      "text/html": [
       "<div>\n",
       "<style scoped>\n",
       "    .dataframe tbody tr th:only-of-type {\n",
       "        vertical-align: middle;\n",
       "    }\n",
       "\n",
       "    .dataframe tbody tr th {\n",
       "        vertical-align: top;\n",
       "    }\n",
       "\n",
       "    .dataframe thead th {\n",
       "        text-align: right;\n",
       "    }\n",
       "</style>\n",
       "<table border=\"1\" class=\"dataframe\">\n",
       "  <thead>\n",
       "    <tr style=\"text-align: right;\">\n",
       "      <th></th>\n",
       "      <th>title</th>\n",
       "      <th>tag</th>\n",
       "    </tr>\n",
       "  </thead>\n",
       "  <tbody>\n",
       "    <tr>\n",
       "      <th>2278</th>\n",
       "      <td>NCIS : la vraie raison du départ de Sasha Alex...</td>\n",
       "      <td>Entertainment</td>\n",
       "    </tr>\n",
       "    <tr>\n",
       "      <th>1773</th>\n",
       "      <td>Jennifer Lopez's Hot Pink Gown Combined a Supe...</td>\n",
       "      <td>Entertainment</td>\n",
       "    </tr>\n",
       "  </tbody>\n",
       "</table>\n",
       "</div>"
      ],
      "text/plain": [
       "                                                  title            tag\n",
       "2278  NCIS : la vraie raison du départ de Sasha Alex...  Entertainment\n",
       "1773  Jennifer Lopez's Hot Pink Gown Combined a Supe...  Entertainment"
      ]
     },
     "execution_count": 160,
     "metadata": {},
     "output_type": "execute_result"
    }
   ],
   "source": [
    "test[['title', 'tag']].head(2)"
   ]
  },
  {
   "cell_type": "code",
   "execution_count": 162,
   "id": "4536f482-616c-41e9-b796-4859a66c8b67",
   "metadata": {},
   "outputs": [
    {
     "data": {
      "text/plain": [
       "7"
      ]
     },
     "execution_count": 162,
     "metadata": {},
     "output_type": "execute_result"
    }
   ],
   "source": [
    "modelkmeans.labels_[2]"
   ]
  },
  {
   "cell_type": "code",
   "execution_count": 153,
   "id": "58923ef3-1da2-4185-bdf9-f1c6cbae6650",
   "metadata": {},
   "outputs": [],
   "source": [
    "import numpy as np"
   ]
  },
  {
   "cell_type": "code",
   "execution_count": 154,
   "id": "961a8f36-2fed-46de-8658-ee8807732437",
   "metadata": {},
   "outputs": [
    {
     "data": {
      "text/plain": [
       "0"
      ]
     },
     "execution_count": 154,
     "metadata": {},
     "output_type": "execute_result"
    }
   ],
   "source": [
    "np.min(modelkmeans.labels_)"
   ]
  },
  {
   "cell_type": "code",
   "execution_count": 163,
   "id": "896aa447-5345-4d20-a14d-731dd07eced7",
   "metadata": {},
   "outputs": [
    {
     "data": {
      "text/plain": [
       "array([[0.        , 0.        , 0.        , ..., 0.        , 0.        ,\n",
       "        0.        ],\n",
       "       [0.        , 0.        , 0.        , ..., 0.        , 0.        ,\n",
       "        0.        ],\n",
       "       [0.        , 0.        , 0.        , ..., 0.        , 0.00154453,\n",
       "        0.00178528],\n",
       "       ...,\n",
       "       [0.0025957 , 0.00097393, 0.        , ..., 0.        , 0.        ,\n",
       "        0.        ],\n",
       "       [0.00111018, 0.        , 0.00044957, ..., 0.00045103, 0.        ,\n",
       "        0.        ],\n",
       "       [0.00169809, 0.        , 0.        , ..., 0.        , 0.        ,\n",
       "        0.        ]])"
      ]
     },
     "execution_count": 163,
     "metadata": {},
     "output_type": "execute_result"
    }
   ],
   "source": [
    "modelkmeans.cluster_centers_"
   ]
  },
  {
   "cell_type": "code",
   "execution_count": 164,
   "id": "aff2f04d-50ff-4f9c-b245-9240be906d78",
   "metadata": {},
   "outputs": [
    {
     "data": {
      "text/plain": [
       "array([6, 7, 7, ..., 7, 1, 6])"
      ]
     },
     "execution_count": 164,
     "metadata": {},
     "output_type": "execute_result"
    }
   ],
   "source": [
    "modelkmeans.labels_"
   ]
  },
  {
   "cell_type": "code",
   "execution_count": 174,
   "id": "64212948-ce27-4442-8f08-921a1700b4a7",
   "metadata": {},
   "outputs": [],
   "source": [
    "log_train_df = pd.DataFrame()"
   ]
  },
  {
   "cell_type": "code",
   "execution_count": null,
   "id": "e01cd88f-eb3c-4581-8f0d-ee2b7d707b1c",
   "metadata": {},
   "outputs": [],
   "source": [
    "log_train_df['filtered_title'] = df['title'].apply(clean_string)"
   ]
  },
  {
   "cell_type": "code",
   "execution_count": 166,
   "id": "bf77f3d2-54a4-40e4-808a-ffcbad9e1f02",
   "metadata": {},
   "outputs": [],
   "source": [
    "X_train, X_test, y_train, y_test = train_test_split(df['title'], df['tag'], test_size=0.25, stratify=df['tag'])"
   ]
  },
  {
   "cell_type": "code",
   "execution_count": 175,
   "id": "22522b29-98bf-4f1d-822f-fe6a68ba78cc",
   "metadata": {},
   "outputs": [],
   "source": [
    "log_train_df['title'] = X_train.apply(clean_string)"
   ]
  },
  {
   "cell_type": "code",
   "execution_count": 176,
   "id": "9fe776d6-6cd6-4026-8755-24ad1088e050",
   "metadata": {},
   "outputs": [
    {
     "data": {
      "text/html": [
       "<div>\n",
       "<style scoped>\n",
       "    .dataframe tbody tr th:only-of-type {\n",
       "        vertical-align: middle;\n",
       "    }\n",
       "\n",
       "    .dataframe tbody tr th {\n",
       "        vertical-align: top;\n",
       "    }\n",
       "\n",
       "    .dataframe thead th {\n",
       "        text-align: right;\n",
       "    }\n",
       "</style>\n",
       "<table border=\"1\" class=\"dataframe\">\n",
       "  <thead>\n",
       "    <tr style=\"text-align: right;\">\n",
       "      <th></th>\n",
       "      <th>title</th>\n",
       "    </tr>\n",
       "  </thead>\n",
       "  <tbody>\n",
       "    <tr>\n",
       "      <th>1527</th>\n",
       "      <td>Vacant structure destroyed suspicious overnigh...</td>\n",
       "    </tr>\n",
       "    <tr>\n",
       "      <th>236</th>\n",
       "      <td>See All The Wildest Looks From The 2024 People...</td>\n",
       "    </tr>\n",
       "    <tr>\n",
       "      <th>2505</th>\n",
       "      <td>El Tribunal Electoral ratifica la victoria de ...</td>\n",
       "    </tr>\n",
       "    <tr>\n",
       "      <th>2947</th>\n",
       "      <td>Bienestar Social ha suscrito acuerdos con 24 a...</td>\n",
       "    </tr>\n",
       "    <tr>\n",
       "      <th>198</th>\n",
       "      <td>Suicide Squad Kill The Justice League s Steam ...</td>\n",
       "    </tr>\n",
       "    <tr>\n",
       "      <th>...</th>\n",
       "      <td>...</td>\n",
       "    </tr>\n",
       "    <tr>\n",
       "      <th>1583</th>\n",
       "      <td>Several Canadian lottery player win big Lotto ...</td>\n",
       "    </tr>\n",
       "    <tr>\n",
       "      <th>1737</th>\n",
       "      <td>Chris Bassitt culture 2024 Blue Jays pitching ...</td>\n",
       "    </tr>\n",
       "    <tr>\n",
       "      <th>2558</th>\n",
       "      <td>Sale la luz segunda parte del reguetón cubano ...</td>\n",
       "    </tr>\n",
       "    <tr>\n",
       "      <th>1418</th>\n",
       "      <td>debe demorarse más el reconocimiento de la esp...</td>\n",
       "    </tr>\n",
       "    <tr>\n",
       "      <th>163</th>\n",
       "      <td>Record US Stock Rally Under Threat From World ...</td>\n",
       "    </tr>\n",
       "  </tbody>\n",
       "</table>\n",
       "<p>2221 rows × 1 columns</p>\n",
       "</div>"
      ],
      "text/plain": [
       "                                                  title\n",
       "1527  Vacant structure destroyed suspicious overnigh...\n",
       "236   See All The Wildest Looks From The 2024 People...\n",
       "2505  El Tribunal Electoral ratifica la victoria de ...\n",
       "2947  Bienestar Social ha suscrito acuerdos con 24 a...\n",
       "198   Suicide Squad Kill The Justice League s Steam ...\n",
       "...                                                 ...\n",
       "1583  Several Canadian lottery player win big Lotto ...\n",
       "1737  Chris Bassitt culture 2024 Blue Jays pitching ...\n",
       "2558  Sale la luz segunda parte del reguetón cubano ...\n",
       "1418  debe demorarse más el reconocimiento de la esp...\n",
       "163   Record US Stock Rally Under Threat From World ...\n",
       "\n",
       "[2221 rows x 1 columns]"
      ]
     },
     "execution_count": 176,
     "metadata": {},
     "output_type": "execute_result"
    }
   ],
   "source": [
    "log_train_df"
   ]
  },
  {
   "cell_type": "code",
   "execution_count": 180,
   "id": "ecbbcfd8-045a-4ea7-a247-e236bc15448c",
   "metadata": {},
   "outputs": [],
   "source": [
    "log_test_df = pd.DataFrame()"
   ]
  },
  {
   "cell_type": "code",
   "execution_count": 181,
   "id": "8fde6e34-7a77-4ac2-b5b5-61fc85cce24f",
   "metadata": {},
   "outputs": [],
   "source": [
    "log_test_df['title'] = X_test.apply(clean_string)"
   ]
  },
  {
   "cell_type": "code",
   "execution_count": 182,
   "id": "a44fac11-0e11-4148-97c2-104853e645c3",
   "metadata": {},
   "outputs": [
    {
     "data": {
      "text/html": [
       "<div>\n",
       "<style scoped>\n",
       "    .dataframe tbody tr th:only-of-type {\n",
       "        vertical-align: middle;\n",
       "    }\n",
       "\n",
       "    .dataframe tbody tr th {\n",
       "        vertical-align: top;\n",
       "    }\n",
       "\n",
       "    .dataframe thead th {\n",
       "        text-align: right;\n",
       "    }\n",
       "</style>\n",
       "<table border=\"1\" class=\"dataframe\">\n",
       "  <thead>\n",
       "    <tr style=\"text-align: right;\">\n",
       "      <th></th>\n",
       "      <th>title</th>\n",
       "    </tr>\n",
       "  </thead>\n",
       "  <tbody>\n",
       "    <tr>\n",
       "      <th>2913</th>\n",
       "      <td>Del total de persona con Hepatitis C el 6 corr...</td>\n",
       "    </tr>\n",
       "    <tr>\n",
       "      <th>1072</th>\n",
       "      <td>Desmienten supuestas autorizaciones de Estados...</td>\n",
       "    </tr>\n",
       "    <tr>\n",
       "      <th>234</th>\n",
       "      <td>HP Spectre x360 14 review Highend convertible ...</td>\n",
       "    </tr>\n",
       "    <tr>\n",
       "      <th>1928</th>\n",
       "      <td>More than bad trip Experts warn about the risk...</td>\n",
       "    </tr>\n",
       "    <tr>\n",
       "      <th>1062</th>\n",
       "      <td>El último escándalo de Daniel Ortega donó vali...</td>\n",
       "    </tr>\n",
       "    <tr>\n",
       "      <th>...</th>\n",
       "      <td>...</td>\n",
       "    </tr>\n",
       "    <tr>\n",
       "      <th>289</th>\n",
       "      <td>Bethenny Frankel slam Kelly Rowland for diva e...</td>\n",
       "    </tr>\n",
       "    <tr>\n",
       "      <th>628</th>\n",
       "      <td>Avec le Solterra Subaru négocie un virage serr...</td>\n",
       "    </tr>\n",
       "    <tr>\n",
       "      <th>554</th>\n",
       "      <td>Présidentielle aux EtatsUnis pourquoi Vladimir...</td>\n",
       "    </tr>\n",
       "    <tr>\n",
       "      <th>2062</th>\n",
       "      <td>Vol de véhicule un adolescent arrêté après une...</td>\n",
       "    </tr>\n",
       "    <tr>\n",
       "      <th>1830</th>\n",
       "      <td>The complete plastome sequence invasive weed P...</td>\n",
       "    </tr>\n",
       "  </tbody>\n",
       "</table>\n",
       "<p>741 rows × 1 columns</p>\n",
       "</div>"
      ],
      "text/plain": [
       "                                                  title\n",
       "2913  Del total de persona con Hepatitis C el 6 corr...\n",
       "1072  Desmienten supuestas autorizaciones de Estados...\n",
       "234   HP Spectre x360 14 review Highend convertible ...\n",
       "1928  More than bad trip Experts warn about the risk...\n",
       "1062  El último escándalo de Daniel Ortega donó vali...\n",
       "...                                                 ...\n",
       "289   Bethenny Frankel slam Kelly Rowland for diva e...\n",
       "628   Avec le Solterra Subaru négocie un virage serr...\n",
       "554   Présidentielle aux EtatsUnis pourquoi Vladimir...\n",
       "2062  Vol de véhicule un adolescent arrêté après une...\n",
       "1830  The complete plastome sequence invasive weed P...\n",
       "\n",
       "[741 rows x 1 columns]"
      ]
     },
     "execution_count": 182,
     "metadata": {},
     "output_type": "execute_result"
    }
   ],
   "source": [
    "log_test_df"
   ]
  },
  {
   "cell_type": "code",
   "execution_count": 183,
   "id": "4dd74b03-1f0e-4461-a831-171daaf893d2",
   "metadata": {},
   "outputs": [],
   "source": [
    "X = vectorizer.fit_transform(log_train_df['title'])"
   ]
  },
  {
   "cell_type": "code",
   "execution_count": 184,
   "id": "0a84b122-6577-4096-a604-fad7ae388bae",
   "metadata": {},
   "outputs": [
    {
     "data": {
      "text/plain": [
       "(2221, 9684)"
      ]
     },
     "execution_count": 184,
     "metadata": {},
     "output_type": "execute_result"
    }
   ],
   "source": [
    "X.shape"
   ]
  },
  {
   "cell_type": "code",
   "execution_count": 185,
   "id": "567546c6-d247-4a70-923b-902548f63102",
   "metadata": {},
   "outputs": [],
   "source": [
    "Y = vectorizer.transform(log_test_df['title'])"
   ]
  },
  {
   "cell_type": "code",
   "execution_count": 186,
   "id": "90e85a5b-cb70-434a-a94c-1b5f1553ebbb",
   "metadata": {},
   "outputs": [
    {
     "data": {
      "text/plain": [
       "(741, 9684)"
      ]
     },
     "execution_count": 186,
     "metadata": {},
     "output_type": "execute_result"
    }
   ],
   "source": [
    "Y.shape"
   ]
  },
  {
   "cell_type": "code",
   "execution_count": 187,
   "id": "18de230c-d0b9-40e6-a951-5815f977b01a",
   "metadata": {},
   "outputs": [],
   "source": [
    "from sklearn.linear_model import LogisticRegression"
   ]
  },
  {
   "cell_type": "code",
   "execution_count": 188,
   "id": "cb7dc847-2a5d-4f39-aa2d-05d2a0099892",
   "metadata": {},
   "outputs": [
    {
     "data": {
      "text/html": [
       "<style>#sk-container-id-4 {color: black;}#sk-container-id-4 pre{padding: 0;}#sk-container-id-4 div.sk-toggleable {background-color: white;}#sk-container-id-4 label.sk-toggleable__label {cursor: pointer;display: block;width: 100%;margin-bottom: 0;padding: 0.3em;box-sizing: border-box;text-align: center;}#sk-container-id-4 label.sk-toggleable__label-arrow:before {content: \"▸\";float: left;margin-right: 0.25em;color: #696969;}#sk-container-id-4 label.sk-toggleable__label-arrow:hover:before {color: black;}#sk-container-id-4 div.sk-estimator:hover label.sk-toggleable__label-arrow:before {color: black;}#sk-container-id-4 div.sk-toggleable__content {max-height: 0;max-width: 0;overflow: hidden;text-align: left;background-color: #f0f8ff;}#sk-container-id-4 div.sk-toggleable__content pre {margin: 0.2em;color: black;border-radius: 0.25em;background-color: #f0f8ff;}#sk-container-id-4 input.sk-toggleable__control:checked~div.sk-toggleable__content {max-height: 200px;max-width: 100%;overflow: auto;}#sk-container-id-4 input.sk-toggleable__control:checked~label.sk-toggleable__label-arrow:before {content: \"▾\";}#sk-container-id-4 div.sk-estimator input.sk-toggleable__control:checked~label.sk-toggleable__label {background-color: #d4ebff;}#sk-container-id-4 div.sk-label input.sk-toggleable__control:checked~label.sk-toggleable__label {background-color: #d4ebff;}#sk-container-id-4 input.sk-hidden--visually {border: 0;clip: rect(1px 1px 1px 1px);clip: rect(1px, 1px, 1px, 1px);height: 1px;margin: -1px;overflow: hidden;padding: 0;position: absolute;width: 1px;}#sk-container-id-4 div.sk-estimator {font-family: monospace;background-color: #f0f8ff;border: 1px dotted black;border-radius: 0.25em;box-sizing: border-box;margin-bottom: 0.5em;}#sk-container-id-4 div.sk-estimator:hover {background-color: #d4ebff;}#sk-container-id-4 div.sk-parallel-item::after {content: \"\";width: 100%;border-bottom: 1px solid gray;flex-grow: 1;}#sk-container-id-4 div.sk-label:hover label.sk-toggleable__label {background-color: #d4ebff;}#sk-container-id-4 div.sk-serial::before {content: \"\";position: absolute;border-left: 1px solid gray;box-sizing: border-box;top: 0;bottom: 0;left: 50%;z-index: 0;}#sk-container-id-4 div.sk-serial {display: flex;flex-direction: column;align-items: center;background-color: white;padding-right: 0.2em;padding-left: 0.2em;position: relative;}#sk-container-id-4 div.sk-item {position: relative;z-index: 1;}#sk-container-id-4 div.sk-parallel {display: flex;align-items: stretch;justify-content: center;background-color: white;position: relative;}#sk-container-id-4 div.sk-item::before, #sk-container-id-4 div.sk-parallel-item::before {content: \"\";position: absolute;border-left: 1px solid gray;box-sizing: border-box;top: 0;bottom: 0;left: 50%;z-index: -1;}#sk-container-id-4 div.sk-parallel-item {display: flex;flex-direction: column;z-index: 1;position: relative;background-color: white;}#sk-container-id-4 div.sk-parallel-item:first-child::after {align-self: flex-end;width: 50%;}#sk-container-id-4 div.sk-parallel-item:last-child::after {align-self: flex-start;width: 50%;}#sk-container-id-4 div.sk-parallel-item:only-child::after {width: 0;}#sk-container-id-4 div.sk-dashed-wrapped {border: 1px dashed gray;margin: 0 0.4em 0.5em 0.4em;box-sizing: border-box;padding-bottom: 0.4em;background-color: white;}#sk-container-id-4 div.sk-label label {font-family: monospace;font-weight: bold;display: inline-block;line-height: 1.2em;}#sk-container-id-4 div.sk-label-container {text-align: center;}#sk-container-id-4 div.sk-container {/* jupyter's `normalize.less` sets `[hidden] { display: none; }` but bootstrap.min.css set `[hidden] { display: none !important; }` so we also need the `!important` here to be able to override the default hidden behavior on the sphinx rendered scikit-learn.org. See: https://github.com/scikit-learn/scikit-learn/issues/21755 */display: inline-block !important;position: relative;}#sk-container-id-4 div.sk-text-repr-fallback {display: none;}</style><div id=\"sk-container-id-4\" class=\"sk-top-container\"><div class=\"sk-text-repr-fallback\"><pre>LogisticRegression()</pre><b>In a Jupyter environment, please rerun this cell to show the HTML representation or trust the notebook. <br />On GitHub, the HTML representation is unable to render, please try loading this page with nbviewer.org.</b></div><div class=\"sk-container\" hidden><div class=\"sk-item\"><div class=\"sk-estimator sk-toggleable\"><input class=\"sk-toggleable__control sk-hidden--visually\" id=\"sk-estimator-id-4\" type=\"checkbox\" checked><label for=\"sk-estimator-id-4\" class=\"sk-toggleable__label sk-toggleable__label-arrow\">LogisticRegression</label><div class=\"sk-toggleable__content\"><pre>LogisticRegression()</pre></div></div></div></div></div>"
      ],
      "text/plain": [
       "LogisticRegression()"
      ]
     },
     "execution_count": 188,
     "metadata": {},
     "output_type": "execute_result"
    }
   ],
   "source": [
    "classifier = LogisticRegression()\n",
    "classifier.fit(X, y_train)"
   ]
  },
  {
   "cell_type": "code",
   "execution_count": 189,
   "id": "a2b8d859-f1ad-4d86-854d-2f1368bf86f6",
   "metadata": {},
   "outputs": [],
   "source": [
    "y_pred = classifier.predict(Y)"
   ]
  },
  {
   "cell_type": "code",
   "execution_count": 198,
   "id": "adafab9d-0665-4bf0-a9cc-23f5182d5b06",
   "metadata": {},
   "outputs": [
    {
     "name": "stdout",
     "output_type": "stream",
     "text": [
      "Accuracy: 0.6734143049932524\n"
     ]
    }
   ],
   "source": [
    "from sklearn.metrics import accuracy_score, confusion_matrix, classification_report\n",
    "\n",
    "accuracy = accuracy_score(y_test, y_pred)\n",
    "print(\"Accuracy:\", accuracy)"
   ]
  },
  {
   "cell_type": "code",
   "execution_count": 197,
   "id": "15fc975e-935e-48ed-9624-60a185788402",
   "metadata": {},
   "outputs": [],
   "source": [
    "cm = confusion_matrix(y_test, y_pred)"
   ]
  },
  {
   "cell_type": "code",
   "execution_count": 196,
   "id": "ad20a42c-d9ac-4274-821f-58c26fde6141",
   "metadata": {},
   "outputs": [],
   "source": [
    "import matplotlib.pyplot as plt\n",
    "import seaborn as sns"
   ]
  },
  {
   "cell_type": "code",
   "execution_count": 200,
   "id": "81f4d8e1-7f5f-4e75-bc11-a52c25cb3580",
   "metadata": {},
   "outputs": [
    {
     "data": {
      "image/png": "[encoded data removed]",
      "text/plain": [
       "<Figure size 1000x800 with 2 Axes>"
      ]
     },
     "metadata": {},
     "output_type": "display_data"
    },
    {
     "name": "stdout",
     "output_type": "stream",
     "text": [
      "               precision    recall  f1-score   support\n",
      "\n",
      "     Business       0.45      0.32      0.37        76\n",
      "Entertainment       0.64      0.78      0.70       105\n",
      "       Health       0.89      0.73      0.80        92\n",
      "       Nation       0.56      0.65      0.60        94\n",
      "      Science       0.65      0.74      0.69        95\n",
      "       Sports       0.81      0.86      0.84        95\n",
      "   Technology       0.64      0.73      0.68       105\n",
      "        World       0.75      0.46      0.57        79\n",
      "\n",
      "     accuracy                           0.67       741\n",
      "    macro avg       0.68      0.66      0.66       741\n",
      " weighted avg       0.68      0.67      0.67       741\n",
      "\n"
     ]
    }
   ],
   "source": [
    "plt.figure(figsize=(10, 8))\n",
    "sns.heatmap(cm, annot=True, fmt='d', cmap='Blues', xticklabels=df['tag'].unique(), yticklabels=df['tag'].unique())\n",
    "plt.xlabel('Predicted Labels')\n",
    "plt.ylabel('True Labels')\n",
    "plt.title('Confusion Matrix')\n",
    "plt.show()\n",
    "\n",
    "# Display a classification report\n",
    "print(classification_report(y_test, y_pred))"
   ]
  }
 ],
 "metadata": {
  "kernelspec": {
   "display_name": "Python 3 (ipykernel)",
   "language": "python",
   "name": "python3"
  },
  "language_info": {
   "codemirror_mode": {
    "name": "ipython",
    "version": 3
   },
   "file_extension": ".py",
   "mimetype": "text/x-python",
   "name": "python",
   "nbconvert_exporter": "python",
   "pygments_lexer": "ipython3",
   "version": "3.10.0"
  }
 },
 "nbformat": 4,
 "nbformat_minor": 5
}
